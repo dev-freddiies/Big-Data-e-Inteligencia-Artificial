{
 "cells": [
  {
   "cell_type": "code",
   "execution_count": 1,
   "metadata": {},
   "outputs": [
    {
     "name": "stdout",
     "output_type": "stream",
     "text": [
      "Using matplotlib backend: Qt5Agg\n",
      "Populating the interactive namespace from numpy and matplotlib\n"
     ]
    }
   ],
   "source": [
    "import pandas as pd\n",
    "from sklearn.cluster import KMeans\n",
    "\n",
    "%pylab\n",
    "%matplotlib inline\n",
    "\n",
    "%config InlineBackend.figure_format = 'retina'"
   ]
  },
  {
   "cell_type": "markdown",
   "metadata": {},
   "source": [
    "En el archivo “crime_data.csv” se encuentran el número de crímenes por cada 100.000 habitantes en cada uno de los estados de Estados Unidos y el porcentaje de la población que es urbana. Los crímenes se han agrupado en: asalto, asesinato y violación\n",
    "\n",
    "Segmentar este conjunto de datos utilizando k-means y obtener los centroides de cada clúster y el listado de los estados en cada uno de los clúster. Para esto se ha de encontrar el número óptimo de clúster en el que se divide el conjunto de datos\n",
    "\n",
    "### Solución\n",
    "En primer lugar se han de importar los datos"
   ]
  },
  {
   "cell_type": "code",
   "execution_count": 2,
   "metadata": {},
   "outputs": [],
   "source": [
    "def plot_dispersion(x, figure_name, max_k = 10, n_init = 10):\n",
    "    inertia = []\n",
    "\n",
    "    for k in range(1, max_k):\n",
    "        kmeans = KMeans(n_clusters = k, n_init = n_init).fit(x)\n",
    "        inertia.append(kmeans.inertia_)\n",
    "\n",
    "    plot(range(1, max_k), inertia, 'bx-')\n",
    "    xlabel('k')\n",
    "    ylabel(u'Dispersión')\n",
    "    title(figure_name)\n",
    "    \n"
   ]
  },
  {
   "cell_type": "code",
   "execution_count": 3,
   "metadata": {},
   "outputs": [
    {
     "data": {
      "text/html": [
       "<div>\n",
       "<style scoped>\n",
       "    .dataframe tbody tr th:only-of-type {\n",
       "        vertical-align: middle;\n",
       "    }\n",
       "\n",
       "    .dataframe tbody tr th {\n",
       "        vertical-align: top;\n",
       "    }\n",
       "\n",
       "    .dataframe thead th {\n",
       "        text-align: right;\n",
       "    }\n",
       "</style>\n",
       "<table border=\"1\" class=\"dataframe\">\n",
       "  <thead>\n",
       "    <tr style=\"text-align: right;\">\n",
       "      <th></th>\n",
       "      <th>State</th>\n",
       "      <th>Murder</th>\n",
       "      <th>Assault</th>\n",
       "      <th>UrbanPop</th>\n",
       "      <th>Rape</th>\n",
       "    </tr>\n",
       "  </thead>\n",
       "  <tbody>\n",
       "    <tr>\n",
       "      <th>0</th>\n",
       "      <td>Alabama</td>\n",
       "      <td>13.2</td>\n",
       "      <td>236</td>\n",
       "      <td>58</td>\n",
       "      <td>21.2</td>\n",
       "    </tr>\n",
       "    <tr>\n",
       "      <th>1</th>\n",
       "      <td>Alaska</td>\n",
       "      <td>10.0</td>\n",
       "      <td>263</td>\n",
       "      <td>48</td>\n",
       "      <td>44.5</td>\n",
       "    </tr>\n",
       "    <tr>\n",
       "      <th>2</th>\n",
       "      <td>Arizona</td>\n",
       "      <td>8.1</td>\n",
       "      <td>294</td>\n",
       "      <td>80</td>\n",
       "      <td>31.0</td>\n",
       "    </tr>\n",
       "    <tr>\n",
       "      <th>3</th>\n",
       "      <td>Arkansas</td>\n",
       "      <td>8.8</td>\n",
       "      <td>190</td>\n",
       "      <td>50</td>\n",
       "      <td>19.5</td>\n",
       "    </tr>\n",
       "    <tr>\n",
       "      <th>4</th>\n",
       "      <td>California</td>\n",
       "      <td>9.0</td>\n",
       "      <td>276</td>\n",
       "      <td>91</td>\n",
       "      <td>40.6</td>\n",
       "    </tr>\n",
       "  </tbody>\n",
       "</table>\n",
       "</div>"
      ],
      "text/plain": [
       "        State  Murder  Assault  UrbanPop  Rape\n",
       "0     Alabama    13.2      236        58  21.2\n",
       "1      Alaska    10.0      263        48  44.5\n",
       "2     Arizona     8.1      294        80  31.0\n",
       "3    Arkansas     8.8      190        50  19.5\n",
       "4  California     9.0      276        91  40.6"
      ]
     },
     "execution_count": 3,
     "metadata": {},
     "output_type": "execute_result"
    }
   ],
   "source": [
    "crime = pd.read_csv('crime_data.csv', sep = ',')\n",
    "crime.head()"
   ]
  },
  {
   "cell_type": "markdown",
   "metadata": {},
   "source": [
    "Por un lado, se han de separar el listado de estados y por otro se ha de seleccionar el conjunto de datos para ser utilizados en la segmentación"
   ]
  },
  {
   "cell_type": "code",
   "execution_count": 4,
   "metadata": {},
   "outputs": [],
   "source": [
    "state = crime['State']\n",
    "crime = crime.drop('State', axis = 1)"
   ]
  },
  {
   "cell_type": "markdown",
   "metadata": {},
   "source": [
    "Ahora se cargar los métodos para la selección de la cantidad optima de clúster y seleccionar el número de clusters en base a los."
   ]
  },
  {
   "cell_type": "code",
   "execution_count": 5,
   "metadata": {},
   "outputs": [
    {
     "data": {
      "image/png": "[encoded data removed]",
      "text/plain": [
       "<Figure size 432x288 with 1 Axes>"
      ]
     },
     "metadata": {
      "image/png": {
       "height": 277,
       "width": 408
      },
      "needs_background": "light"
     },
     "output_type": "display_data"
    }
   ],
   "source": [
    "plot_dispersion(crime, 'Crimen')"
   ]
  },
  {
   "cell_type": "markdown",
   "metadata": {},
   "source": [
    "Ahora se ha de selección el número de clústeres óptimos que en base a la curva de la distorsión parecen ser 3. Los centroides se puede obtener utilizando `KMeans`:"
   ]
  },
  {
   "cell_type": "code",
   "execution_count": 6,
   "metadata": {},
   "outputs": [
    {
     "name": "stdout",
     "output_type": "stream",
     "text": [
      "Los centroides son:\n",
      "[[ 11.8125     272.5625      68.3125      28.375     ]\n",
      " [  4.27        87.55        59.75        14.39      ]\n",
      " [  8.21428571 173.28571429  70.64285714  22.84285714]]\n"
     ]
    }
   ],
   "source": [
    "kmeans = KMeans(n_clusters = 3, n_init = 10).fit(crime)\n",
    "\n",
    "print('Los centroides son:')\n",
    "print(kmeans.cluster_centers_)"
   ]
  },
  {
   "cell_type": "markdown",
   "metadata": {},
   "source": [
    "Finalmente, se puede obtener a que grupo pertenece cada estado"
   ]
  },
  {
   "cell_type": "code",
   "execution_count": 7,
   "metadata": {},
   "outputs": [
    {
     "name": "stdout",
     "output_type": "stream",
     "text": [
      "Primer grupo de estados\n",
      "0            Alabama\n",
      "1             Alaska\n",
      "2            Arizona\n",
      "4         California\n",
      "7           Delaware\n",
      "8            Florida\n",
      "12          Illinois\n",
      "17         Louisiana\n",
      "19          Maryland\n",
      "21          Michigan\n",
      "23       Mississippi\n",
      "27            Nevada\n",
      "30        New Mexico\n",
      "31          New York\n",
      "32    North Carolina\n",
      "39    South Carolina\n",
      "Name: State, dtype: object\n",
      "\n",
      "Segundo grupo de estados\n",
      "6       Connecticut\n",
      "10           Hawaii\n",
      "11            Idaho\n",
      "13          Indiana\n",
      "14             Iowa\n",
      "15           Kansas\n",
      "16         Kentucky\n",
      "18            Maine\n",
      "22        Minnesota\n",
      "25          Montana\n",
      "26         Nebraska\n",
      "28    New Hampshire\n",
      "33     North Dakota\n",
      "34             Ohio\n",
      "37     Pennsylvania\n",
      "40     South Dakota\n",
      "43             Utah\n",
      "44          Vermont\n",
      "47    West Virginia\n",
      "48        Wisconsin\n",
      "Name: State, dtype: object\n",
      "\n",
      "Tercer grupo de estados\n",
      "0            Alabama\n",
      "1             Alaska\n",
      "2            Arizona\n",
      "4         California\n",
      "7           Delaware\n",
      "8            Florida\n",
      "12          Illinois\n",
      "17         Louisiana\n",
      "19          Maryland\n",
      "21          Michigan\n",
      "23       Mississippi\n",
      "27            Nevada\n",
      "30        New Mexico\n",
      "31          New York\n",
      "32    North Carolina\n",
      "39    South Carolina\n",
      "Name: State, dtype: object\n"
     ]
    }
   ],
   "source": [
    "cluster = kmeans.predict(crime)\n",
    "\n",
    "print('Primer grupo de estados')\n",
    "print(state[cluster == 0])\n",
    "print()\n",
    "print('Segundo grupo de estados')\n",
    "print(state[cluster == 1])\n",
    "print()\n",
    "print('Tercer grupo de estados')\n",
    "print(state[cluster == 0])"
   ]
  }
 ],
 "metadata": {
  "kernelspec": {
   "display_name": "Python 3",
   "language": "python",
   "name": "python3"
  },
  "language_info": {
   "codemirror_mode": {
    "name": "ipython",
    "version": 3
   },
   "file_extension": ".py",
   "mimetype": "text/x-python",
   "name": "python",
   "nbconvert_exporter": "python",
   "pygments_lexer": "ipython3",
   "version": "3.8.8"
  }
 },
 "nbformat": 4,
 "nbformat_minor": 2
}
