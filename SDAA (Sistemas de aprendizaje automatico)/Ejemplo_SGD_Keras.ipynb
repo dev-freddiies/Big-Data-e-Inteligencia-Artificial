{
 "cells": [
  {
   "cell_type": "markdown",
   "metadata": {},
   "source": [
    "# Ejemplo LMA - Keras 2\n",
    "\n",
    "# Ejemplo regresión lineal (SGD) con Keras "
   ]
  },
  {
   "cell_type": "code",
   "execution_count": 3,
   "metadata": {},
   "outputs": [
    {
     "name": "stdout",
     "output_type": "stream",
     "text": [
      "Collecting tensorflow\n",
      "  Downloading tensorflow-2.8.0-cp38-cp38-manylinux2010_x86_64.whl (497.6 MB)\n"
     ]
    },
    {
     "name": "stdout",
     "output_type": "stream",
     "text": [
      "\u001b[K     |███████████████████             | 296.6 MB 3.9 MB/s eta 0:00:52   |▌                               | 7.7 MB 827 kB/s eta 0:09:53     |▋                               | 9.6 MB 904 kB/s eta 0:09:00     |▊                               | 10.8 MB 771 kB/s eta 0:10:32     |█                               | 16.3 MB 297 kB/s eta 0:26:59     |█▍                              | 22.3 MB 948 kB/s eta 0:08:22     |█▊                              | 27.5 MB 1.4 MB/s eta 0:05:43     |█▉                              | 29.3 MB 1.4 MB/s eta 0:05:24     |██                              | 32.0 MB 1.1 MB/s eta 0:06:46     |██▎                             | 34.7 MB 1.3 MB/s eta 0:06:09     |██▎                             | 35.5 MB 1.2 MB/s eta 0:06:21     |██▉                             | 44.7 MB 1.2 MB/s eta 0:06:07     |███                             | 45.7 MB 1.1 MB/s eta 0:06:53     |███                             | 48.2 MB 1.4 MB/s eta 0:05:16     |███▎                            | 51.2 MB 1.4 MB/s eta 0:05:11     |███▌                            | 54.0 MB 1.2 MB/s eta 0:06:21     |████                            | 60.9 MB 1.2 MB/s eta 0:06:02     |████                            | 61.0 MB 1.2 MB/s eta 0:06:02     |████                            | 61.8 MB 1.4 MB/s eta 0:05:07     |████                            | 62.2 MB 1.4 MB/s eta 0:05:07     |████                            | 62.4 MB 1.4 MB/s eta 0:05:06     |████                            | 62.9 MB 1.5 MB/s eta 0:04:54     |████▏                           | 65.3 MB 1.4 MB/s eta 0:05:08     |████▍                           | 67.6 MB 1.0 MB/s eta 0:07:05     |████▍                           | 67.7 MB 1.0 MB/s eta 0:07:05     |████▌                           | 70.0 MB 1.2 MB/s eta 0:05:52     |████▋                           | 71.2 MB 1.5 MB/s eta 0:04:48     |████▊                           | 72.9 MB 1.4 MB/s eta 0:05:00     |█████                           | 77.9 MB 758 kB/s eta 0:09:14     |█████                           | 79.0 MB 1.5 MB/s eta 0:04:31     |█████▍                          | 83.7 MB 845 kB/s eta 0:08:10     |██████▎                         | 98.2 MB 1.2 MB/s eta 0:05:28     |██████▍                         | 98.9 MB 1.4 MB/s eta 0:04:47     |██████▊                         | 103.9 MB 1.4 MB/s eta 0:04:42     |██████▊                         | 104.9 MB 1.4 MB/s eta 0:04:41     |██████▊                         | 105.3 MB 1.4 MB/s eta 0:04:41     |██████▉                         | 106.6 MB 1.4 MB/s eta 0:04:44     |███████                         | 109.5 MB 1.4 MB/s eta 0:04:47     |███████                         | 109.7 MB 1.4 MB/s eta 0:04:47     |███████                         | 110.0 MB 1.5 MB/s eta 0:04:11     |███████▎                        | 113.5 MB 1.6 MB/s eta 0:04:01     |███████▍                        | 114.1 MB 1.6 MB/s eta 0:04:01     |███████▌                        | 116.7 MB 1.6 MB/s eta 0:04:05     |███████▊                        | 119.4 MB 1.6 MB/s eta 0:04:00     |████████▎                       | 129.0 MB 1.6 MB/s eta 0:03:49     |████████▌                       | 132.0 MB 1.4 MB/s eta 0:04:28     |████████▊                       | 135.5 MB 1.4 MB/s eta 0:04:18     |█████████                       | 138.8 MB 1.4 MB/s eta 0:04:18     |█████████                       | 139.9 MB 1.6 MB/s eta 0:03:48     |█████████▎                      | 143.9 MB 216 kB/s eta 0:27:15     |█████████▌                      | 148.4 MB 1.6 MB/s eta 0:03:36     |█████████▋                      | 149.8 MB 1.4 MB/s eta 0:04:10     |█████████▉                      | 152.3 MB 1.5 MB/s eta 0:03:50     |█████████▉                      | 152.6 MB 1.5 MB/s eta 0:03:49     |█████████▉                      | 153.1 MB 1.5 MB/s eta 0:03:49     |█████████▉                      | 153.5 MB 1.6 MB/s eta 0:03:41     |██████████                      | 154.7 MB 1.6 MB/s eta 0:03:40     |██████████                      | 155.0 MB 1.6 MB/s eta 0:03:32     |██████████                      | 155.5 MB 1.6 MB/s eta 0:03:32     |██████████▏                     | 157.5 MB 1.9 MB/s eta 0:02:57     |██████████▍                     | 161.8 MB 1.3 MB/s eta 0:04:21     |██████████▍                     | 162.3 MB 1.3 MB/s eta 0:04:21     |██████████▊                     | 166.8 MB 1.3 MB/s eta 0:04:09     |██████████▉                     | 168.2 MB 1.6 MB/s eta 0:03:31     |███████████                     | 169.6 MB 1.3 MB/s eta 0:04:13     |███████████▏                    | 174.4 MB 1.4 MB/s eta 0:03:48     |███████████▌                    | 178.4 MB 1.1 MB/s eta 0:04:40     |███████████▉                    | 184.8 MB 952 kB/s eta 0:05:29     |████████████▏                   | 188.5 MB 1.1 MB/s eta 0:04:40     |████████████▎                   | 190.9 MB 1.1 MB/s eta 0:04:34     |████████████▌                   | 194.7 MB 633 kB/s eta 0:07:58     |████████████▋                   | 196.1 MB 1.4 MB/s eta 0:03:36     |████████████▉                   | 199.1 MB 1.0 MB/s eta 0:04:56     |██████████████                  | 216.2 MB 1.4 MB/s eta 0:03:19     |██████████████                  | 219.2 MB 1.3 MB/s eta 0:03:28     |██████████████                  | 219.3 MB 1.3 MB/s eta 0:03:28     |██████████████▎                 | 221.5 MB 1.3 MB/s eta 0:03:33     |██████████████▌                 | 225.9 MB 1.2 MB/s eta 0:03:39     |██████████████▌                 | 226.2 MB 1.2 MB/s eta 0:03:39     |██████████████▊                 | 228.8 MB 1.4 MB/s eta 0:03:18     |███████████████                 | 234.2 MB 1.7 MB/s eta 0:02:38     |███████████████▏                | 236.3 MB 1.4 MB/s eta 0:03:06     |███████████████▍                | 239.2 MB 1.2 MB/s eta 0:03:39     |███████████████▌                | 240.7 MB 919 kB/s eta 0:04:40     |███████████████▊                | 244.5 MB 1.3 MB/s eta 0:03:18     |███████████████▊                | 245.0 MB 1.4 MB/s eta 0:03:04     |███████████████▉                | 245.6 MB 1.4 MB/s eta 0:03:04     |███████████████▉                | 246.0 MB 1.4 MB/s eta 0:03:03     |████████████████                | 248.9 MB 1.5 MB/s eta 0:02:41     |████████████████▏               | 250.8 MB 2.2 MB/s eta 0:01:55     |████████████████▏               | 252.2 MB 2.2 MB/s eta 0:01:55     |████████████████▎               | 252.3 MB 2.2 MB/s eta 0:01:54     |████████████████▎               | 253.3 MB 2.3 MB/s eta 0:01:48     |████████████████▌               | 256.4 MB 2.4 MB/s eta 0:01:40     |████████████████▋               | 257.9 MB 2.4 MB/s eta 0:01:39     |████████████████▋               | 259.0 MB 2.6 MB/s eta 0:01:31     |████████████████▊               | 260.2 MB 2.6 MB/s eta 0:01:31     |████████████████▊               | 260.7 MB 1.9 MB/s eta 0:02:02     |█████████████████               | 262.9 MB 1.9 MB/s eta 0:02:01     |█████████████████▎              | 268.1 MB 358 kB/s eta 0:10:40     |█████████████████▍              | 269.7 MB 2.6 MB/s eta 0:01:29     |█████████████████▌              | 271.3 MB 2.6 MB/s eta 0:01:28     |█████████████████▋              | 273.2 MB 2.4 MB/s eta 0:01:33     |█████████████████▋              | 273.6 MB 2.4 MB/s eta 0:01:33     |██████████████████              | 278.3 MB 2.8 MB/s eta 0:01:18     |██████████████████              | 280.1 MB 2.4 MB/s eta 0:01:31     |██████████████████▏             | 281.7 MB 2.4 MB/s eta 0:01:30     |██████████████████▏             | 282.7 MB 2.4 MB/s eta 0:01:30     |██████████████████▏             | 283.2 MB 2.4 MB/s eta 0:01:29     |██████████████████▎             | 284.0 MB 3.0 MB/s eta 0:01:13     |██████████████████▎             | 284.7 MB 3.0 MB/s eta 0:01:13     |██████████████████▍             | 285.5 MB 3.0 MB/s eta 0:01:12     |██████████████████▌             | 287.1 MB 3.7 MB/s eta 0:00:57     |██████████████████▉             | 292.3 MB 3.4 MB/s eta 0:01:00     |███████████████████             | 294.3 MB 3.9 MB/s eta 0:00:53     |███████████████████             | 295.2 MB 3.9 MB/s eta 0:00:53     |███████████████████             | 295.5 MB 3.9 MB/s eta 0:00:53     |███████████████████             | 296.2 MB 3.9 MB/s eta 0:00:53\u001b[K     |████████████████████████████████| 497.6 MB 9.7 MB/s eta 0:00:011    |███████████████████▏            | 297.9 MB 3.9 MB/s eta 0:00:52     |████████████████████▏           | 313.1 MB 5.2 MB/s eta 0:00:36     |████████████████████▋           | 321.1 MB 479 kB/s eta 0:06:09     |██████████████████████▋         | 351.2 MB 2.8 MB/s eta 0:00:52     |███████████████████████▏        | 360.5 MB 2.9 MB/s eta 0:00:47     |███████████████████████▋        | 367.7 MB 3.2 MB/s eta 0:00:41     |███████████████████████▊        | 368.4 MB 3.2 MB/s eta 0:00:41     |████████████████████████        | 374.7 MB 2.0 MB/s eta 0:01:03     |████████████████████████▉       | 385.6 MB 4.8 MB/s eta 0:00:24     |█████████████████████████▌      | 397.3 MB 5.8 MB/s eta 0:00:18     |██████████████████████████▉     | 417.3 MB 5.7 MB/s eta 0:00:14     |███████████████████████████▊    | 431.7 MB 5.3 MB/s eta 0:00:13     |█████████████████████████████   | 449.4 MB 7.9 MB/s eta 0:00:07     |██████████████████████████████  | 465.2 MB 10.8 MB/s eta 0:00:04     |████████████████████████████████| 497.6 MB 404 bytes/s \n",
      "\u001b[?25hCollecting flatbuffers>=1.12\n",
      "  Downloading flatbuffers-2.0-py2.py3-none-any.whl (26 kB)\n",
      "Collecting tensorboard<2.9,>=2.8\n",
      "  Downloading tensorboard-2.8.0-py3-none-any.whl (5.8 MB)\n",
      "\u001b[K     |████████████████████████████████| 5.8 MB 5.1 MB/s eta 0:00:01     |████████████████▉               | 3.0 MB 5.1 MB/s eta 0:00:01s eta 0:00:01\n",
      "\u001b[?25hCollecting libclang>=9.0.1\n",
      "  Downloading libclang-14.0.1-py2.py3-none-manylinux1_x86_64.whl (14.5 MB)\n",
      "\u001b[K     |████████████████████████████████| 14.4 MB 10.8 MB/s eta 0:00:01     |████████████████████████████████| 14.5 MB 10.8 MB/s \n",
      "\u001b[?25hCollecting tf-estimator-nightly==2.8.0.dev2021122109\n",
      "  Downloading tf_estimator_nightly-2.8.0.dev2021122109-py2.py3-none-any.whl (462 kB)\n",
      "\u001b[K     |████████████████████████████████| 462 kB 5.8 MB/s eta 0:00:01\n",
      "\u001b[?25hRequirement already satisfied: typing-extensions>=3.6.6 in /home/ubuntu/anaconda3/lib/python3.8/site-packages (from tensorflow) (3.7.4.3)\n",
      "Requirement already satisfied: setuptools in /home/ubuntu/anaconda3/lib/python3.8/site-packages (from tensorflow) (52.0.0.post20210125)\n",
      "Collecting google-pasta>=0.1.1\n",
      "  Downloading google_pasta-0.2.0-py3-none-any.whl (57 kB)\n",
      "\u001b[K     |████████████████████████████████| 57 kB 6.6 MB/s eta 0:00:011\n",
      "\u001b[?25hRequirement already satisfied: numpy>=1.20 in /home/ubuntu/anaconda3/lib/python3.8/site-packages (from tensorflow) (1.20.1)\n",
      "Collecting keras<2.9,>=2.8.0rc0\n",
      "  Downloading keras-2.8.0-py2.py3-none-any.whl (1.4 MB)\n",
      "\u001b[K     |████████████████████████████████| 1.4 MB 5.6 MB/s eta 0:00:01\n",
      "\u001b[?25hCollecting opt-einsum>=2.3.2\n",
      "  Downloading opt_einsum-3.3.0-py3-none-any.whl (65 kB)\n",
      "\u001b[K     |████████████████████████████████| 65 kB 4.2 MB/s eta 0:00:011     |██████████                      | 20 kB 18.9 MB/s eta 0:00:01\n",
      "\u001b[?25hCollecting tensorflow-io-gcs-filesystem>=0.23.1\n",
      "  Downloading tensorflow_io_gcs_filesystem-0.25.0-cp38-cp38-manylinux_2_12_x86_64.manylinux2010_x86_64.whl (2.1 MB)\n",
      "\u001b[K     |████████████████████████████████| 2.1 MB 11.0 MB/s eta 0:00:01\n",
      "\u001b[?25hCollecting termcolor>=1.1.0\n",
      "  Downloading termcolor-1.1.0.tar.gz (3.9 kB)\n",
      "Collecting grpcio<2.0,>=1.24.3\n",
      "  Downloading grpcio-1.46.0-cp38-cp38-manylinux_2_17_x86_64.manylinux2014_x86_64.whl (4.4 MB)\n",
      "\u001b[K     |████████████████████████████████| 4.4 MB 16.8 MB/s eta 0:00:01\n",
      "\u001b[?25hRequirement already satisfied: six>=1.12.0 in /home/ubuntu/anaconda3/lib/python3.8/site-packages (from tensorflow) (1.15.0)\n",
      "Requirement already satisfied: h5py>=2.9.0 in /home/ubuntu/anaconda3/lib/python3.8/site-packages (from tensorflow) (2.10.0)\n",
      "Collecting absl-py>=0.4.0\n",
      "  Downloading absl_py-1.0.0-py3-none-any.whl (126 kB)\n",
      "\u001b[K     |████████████████████████████████| 126 kB 7.1 MB/s eta 0:00:01\n",
      "\u001b[?25hCollecting astunparse>=1.6.0\n",
      "  Downloading astunparse-1.6.3-py2.py3-none-any.whl (12 kB)\n",
      "Collecting keras-preprocessing>=1.1.1\n",
      "  Downloading Keras_Preprocessing-1.1.2-py2.py3-none-any.whl (42 kB)\n",
      "\u001b[K     |████████████████████████████████| 42 kB 2.0 MB/s eta 0:00:01\n",
      "\u001b[?25hRequirement already satisfied: wrapt>=1.11.0 in /home/ubuntu/anaconda3/lib/python3.8/site-packages (from tensorflow) (1.12.1)\n",
      "Collecting protobuf>=3.9.2\n",
      "  Downloading protobuf-3.20.1-cp38-cp38-manylinux_2_5_x86_64.manylinux1_x86_64.whl (1.0 MB)\n",
      "\u001b[K     |████████████████████████████████| 1.0 MB 8.1 MB/s eta 0:00:01\n",
      "\u001b[?25hCollecting gast>=0.2.1\n",
      "  Downloading gast-0.5.3-py3-none-any.whl (19 kB)\n",
      "Requirement already satisfied: wheel<1.0,>=0.23.0 in /home/ubuntu/anaconda3/lib/python3.8/site-packages (from astunparse>=1.6.0->tensorflow) (0.36.2)\n",
      "Collecting google-auth-oauthlib<0.5,>=0.4.1\n",
      "  Downloading google_auth_oauthlib-0.4.6-py2.py3-none-any.whl (18 kB)\n",
      "Collecting tensorboard-data-server<0.7.0,>=0.6.0\n",
      "  Downloading tensorboard_data_server-0.6.1-py3-none-manylinux2010_x86_64.whl (4.9 MB)\n",
      "\u001b[K     |████████████████████████████████| 4.9 MB 12.2 MB/s eta 0:00:01\n",
      "\u001b[?25hRequirement already satisfied: requests<3,>=2.21.0 in /home/ubuntu/anaconda3/lib/python3.8/site-packages (from tensorboard<2.9,>=2.8->tensorflow) (2.25.1)\n",
      "Requirement already satisfied: werkzeug>=0.11.15 in /home/ubuntu/anaconda3/lib/python3.8/site-packages (from tensorboard<2.9,>=2.8->tensorflow) (1.0.1)\n",
      "Collecting tensorboard-plugin-wit>=1.6.0\n",
      "  Downloading tensorboard_plugin_wit-1.8.1-py3-none-any.whl (781 kB)\n",
      "\u001b[K     |████████████████████████████████| 781 kB 6.1 MB/s eta 0:00:01\n",
      "\u001b[?25hCollecting google-auth<3,>=1.6.3\n",
      "  Downloading google_auth-2.6.6-py2.py3-none-any.whl (156 kB)\n",
      "\u001b[K     |████████████████████████████████| 156 kB 9.7 MB/s eta 0:00:01\n",
      "\u001b[?25hCollecting markdown>=2.6.8\n",
      "  Downloading Markdown-3.3.7-py3-none-any.whl (97 kB)\n",
      "\u001b[K     |████████████████████████████████| 97 kB 8.4 MB/s  eta 0:00:01\n",
      "\u001b[?25hCollecting rsa<5,>=3.1.4\n",
      "  Downloading rsa-4.8-py3-none-any.whl (39 kB)\n",
      "Collecting cachetools<6.0,>=2.0.0\n",
      "  Downloading cachetools-5.0.0-py3-none-any.whl (9.1 kB)\n",
      "Collecting pyasn1-modules>=0.2.1\n",
      "  Downloading pyasn1_modules-0.2.8-py2.py3-none-any.whl (155 kB)\n",
      "\u001b[K     |████████████████████████████████| 155 kB 7.3 MB/s eta 0:00:01\n",
      "\u001b[?25hCollecting requests-oauthlib>=0.7.0\n",
      "  Downloading requests_oauthlib-1.3.1-py2.py3-none-any.whl (23 kB)\n",
      "Collecting importlib-metadata>=4.4\n",
      "  Downloading importlib_metadata-4.11.3-py3-none-any.whl (18 kB)\n",
      "Requirement already satisfied: zipp>=0.5 in /home/ubuntu/anaconda3/lib/python3.8/site-packages (from importlib-metadata>=4.4->markdown>=2.6.8->tensorboard<2.9,>=2.8->tensorflow) (3.4.1)\n",
      "Collecting pyasn1<0.5.0,>=0.4.6\n",
      "  Downloading pyasn1-0.4.8-py2.py3-none-any.whl (77 kB)\n",
      "\u001b[K     |████████████████████████████████| 77 kB 7.3 MB/s eta 0:00:011\n",
      "\u001b[?25hRequirement already satisfied: chardet<5,>=3.0.2 in /home/ubuntu/anaconda3/lib/python3.8/site-packages (from requests<3,>=2.21.0->tensorboard<2.9,>=2.8->tensorflow) (4.0.0)\n",
      "Requirement already satisfied: urllib3<1.27,>=1.21.1 in /home/ubuntu/anaconda3/lib/python3.8/site-packages (from requests<3,>=2.21.0->tensorboard<2.9,>=2.8->tensorflow) (1.26.4)\n",
      "Requirement already satisfied: certifi>=2017.4.17 in /home/ubuntu/anaconda3/lib/python3.8/site-packages (from requests<3,>=2.21.0->tensorboard<2.9,>=2.8->tensorflow) (2020.12.5)\n",
      "Requirement already satisfied: idna<3,>=2.5 in /home/ubuntu/anaconda3/lib/python3.8/site-packages (from requests<3,>=2.21.0->tensorboard<2.9,>=2.8->tensorflow) (2.10)\n",
      "Collecting oauthlib>=3.0.0\n",
      "  Downloading oauthlib-3.2.0-py3-none-any.whl (151 kB)\n",
      "\u001b[K     |████████████████████████████████| 151 kB 8.4 MB/s eta 0:00:01\n",
      "\u001b[?25hBuilding wheels for collected packages: termcolor\n",
      "  Building wheel for termcolor (setup.py) ... \u001b[?25ldone\n",
      "\u001b[?25h  Created wheel for termcolor: filename=termcolor-1.1.0-py3-none-any.whl size=4829 sha256=4d684358b698d9adccacbb4b2d996a5d6426e41f3c09ccc1c27c1cb86b6a1fcf\n",
      "  Stored in directory: /home/ubuntu/.cache/pip/wheels/a0/16/9c/5473df82468f958445479c59e784896fa24f4a5fc024b0f501\n",
      "Successfully built termcolor\n"
     ]
    },
    {
     "name": "stdout",
     "output_type": "stream",
     "text": [
      "Installing collected packages: pyasn1, rsa, pyasn1-modules, oauthlib, cachetools, requests-oauthlib, importlib-metadata, google-auth, tensorboard-plugin-wit, tensorboard-data-server, protobuf, markdown, grpcio, google-auth-oauthlib, absl-py, tf-estimator-nightly, termcolor, tensorflow-io-gcs-filesystem, tensorboard, opt-einsum, libclang, keras-preprocessing, keras, google-pasta, gast, flatbuffers, astunparse, tensorflow\n",
      "  Attempting uninstall: importlib-metadata\n",
      "    Found existing installation: importlib-metadata 3.10.0\n",
      "    Uninstalling importlib-metadata-3.10.0:\n",
      "      Successfully uninstalled importlib-metadata-3.10.0\n",
      "Successfully installed absl-py-1.0.0 astunparse-1.6.3 cachetools-5.0.0 flatbuffers-2.0 gast-0.5.3 google-auth-2.6.6 google-auth-oauthlib-0.4.6 google-pasta-0.2.0 grpcio-1.46.0 importlib-metadata-4.11.3 keras-2.8.0 keras-preprocessing-1.1.2 libclang-14.0.1 markdown-3.3.7 oauthlib-3.2.0 opt-einsum-3.3.0 protobuf-3.20.1 pyasn1-0.4.8 pyasn1-modules-0.2.8 requests-oauthlib-1.3.1 rsa-4.8 tensorboard-2.8.0 tensorboard-data-server-0.6.1 tensorboard-plugin-wit-1.8.1 tensorflow-2.8.0 tensorflow-io-gcs-filesystem-0.25.0 termcolor-1.1.0 tf-estimator-nightly-2.8.0.dev2021122109\n",
      "Note: you may need to restart the kernel to use updated packages.\n"
     ]
    }
   ],
   "source": [
    "pip install tensorflow"
   ]
  },
  {
   "cell_type": "code",
   "execution_count": 8,
   "metadata": {},
   "outputs": [],
   "source": [
    "from tensorflow.keras.optimizers import SGD"
   ]
  },
  {
   "cell_type": "code",
   "execution_count": 9,
   "metadata": {},
   "outputs": [
    {
     "name": "stdout",
     "output_type": "stream",
     "text": [
      "Using matplotlib backend: Qt5Agg\n",
      "Populating the interactive namespace from numpy and matplotlib\n"
     ]
    }
   ],
   "source": [
    "# Librerías generales\n",
    "import pandas as pd\n",
    "import numpy as np\n",
    "\n",
    "# Librerías para visualización\n",
    "%pylab\n",
    "%matplotlib inline\n",
    "%config InlineBacked.figure_format='retina'\n",
    "import matplotlib.pyplot as plt\n",
    "from pandas.plotting import scatter_matrix\n",
    "\n",
    "# Librerías Keras\n",
    "from keras.models import Sequential\n",
    "from keras.layers.core import Dense\n"
   ]
  },
  {
   "cell_type": "code",
   "execution_count": 10,
   "metadata": {},
   "outputs": [],
   "source": [
    "data = pd.read_csv('systolic_blood.csv')"
   ]
  },
  {
   "cell_type": "markdown",
   "metadata": {},
   "source": [
    "## EDA"
   ]
  },
  {
   "cell_type": "code",
   "execution_count": 11,
   "metadata": {},
   "outputs": [
    {
     "data": {
      "text/html": [
       "<div>\n",
       "<style scoped>\n",
       "    .dataframe tbody tr th:only-of-type {\n",
       "        vertical-align: middle;\n",
       "    }\n",
       "\n",
       "    .dataframe tbody tr th {\n",
       "        vertical-align: top;\n",
       "    }\n",
       "\n",
       "    .dataframe thead th {\n",
       "        text-align: right;\n",
       "    }\n",
       "</style>\n",
       "<table border=\"1\" class=\"dataframe\">\n",
       "  <thead>\n",
       "    <tr style=\"text-align: right;\">\n",
       "      <th></th>\n",
       "      <th>Age</th>\n",
       "      <th>Systolic_blood_pressure</th>\n",
       "    </tr>\n",
       "  </thead>\n",
       "  <tbody>\n",
       "    <tr>\n",
       "      <th>0</th>\n",
       "      <td>39</td>\n",
       "      <td>144</td>\n",
       "    </tr>\n",
       "    <tr>\n",
       "      <th>1</th>\n",
       "      <td>45</td>\n",
       "      <td>138</td>\n",
       "    </tr>\n",
       "    <tr>\n",
       "      <th>2</th>\n",
       "      <td>47</td>\n",
       "      <td>145</td>\n",
       "    </tr>\n",
       "    <tr>\n",
       "      <th>3</th>\n",
       "      <td>65</td>\n",
       "      <td>162</td>\n",
       "    </tr>\n",
       "    <tr>\n",
       "      <th>4</th>\n",
       "      <td>46</td>\n",
       "      <td>142</td>\n",
       "    </tr>\n",
       "  </tbody>\n",
       "</table>\n",
       "</div>"
      ],
      "text/plain": [
       "   Age  Systolic_blood_pressure\n",
       "0   39                      144\n",
       "1   45                      138\n",
       "2   47                      145\n",
       "3   65                      162\n",
       "4   46                      142"
      ]
     },
     "execution_count": 11,
     "metadata": {},
     "output_type": "execute_result"
    }
   ],
   "source": [
    "data.head()"
   ]
  },
  {
   "cell_type": "code",
   "execution_count": 12,
   "metadata": {},
   "outputs": [
    {
     "data": {
      "text/plain": [
       "(29, 2)"
      ]
     },
     "execution_count": 12,
     "metadata": {},
     "output_type": "execute_result"
    }
   ],
   "source": [
    "data.shape"
   ]
  },
  {
   "cell_type": "code",
   "execution_count": null,
   "metadata": {},
   "outputs": [],
   "source": []
  },
  {
   "cell_type": "code",
   "execution_count": 13,
   "metadata": {},
   "outputs": [
    {
     "data": {
      "text/html": [
       "<div>\n",
       "<style scoped>\n",
       "    .dataframe tbody tr th:only-of-type {\n",
       "        vertical-align: middle;\n",
       "    }\n",
       "\n",
       "    .dataframe tbody tr th {\n",
       "        vertical-align: top;\n",
       "    }\n",
       "\n",
       "    .dataframe thead th {\n",
       "        text-align: right;\n",
       "    }\n",
       "</style>\n",
       "<table border=\"1\" class=\"dataframe\">\n",
       "  <thead>\n",
       "    <tr style=\"text-align: right;\">\n",
       "      <th></th>\n",
       "      <th>Age</th>\n",
       "      <th>Systolic_blood_pressure</th>\n",
       "    </tr>\n",
       "  </thead>\n",
       "  <tbody>\n",
       "    <tr>\n",
       "      <th>count</th>\n",
       "      <td>29.000000</td>\n",
       "      <td>29.000000</td>\n",
       "    </tr>\n",
       "    <tr>\n",
       "      <th>mean</th>\n",
       "      <td>45.068966</td>\n",
       "      <td>139.862069</td>\n",
       "    </tr>\n",
       "    <tr>\n",
       "      <th>std</th>\n",
       "      <td>15.560782</td>\n",
       "      <td>17.504538</td>\n",
       "    </tr>\n",
       "    <tr>\n",
       "      <th>min</th>\n",
       "      <td>17.000000</td>\n",
       "      <td>110.000000</td>\n",
       "    </tr>\n",
       "    <tr>\n",
       "      <th>25%</th>\n",
       "      <td>36.000000</td>\n",
       "      <td>125.000000</td>\n",
       "    </tr>\n",
       "    <tr>\n",
       "      <th>50%</th>\n",
       "      <td>45.000000</td>\n",
       "      <td>140.000000</td>\n",
       "    </tr>\n",
       "    <tr>\n",
       "      <th>75%</th>\n",
       "      <td>56.000000</td>\n",
       "      <td>154.000000</td>\n",
       "    </tr>\n",
       "    <tr>\n",
       "      <th>max</th>\n",
       "      <td>69.000000</td>\n",
       "      <td>175.000000</td>\n",
       "    </tr>\n",
       "  </tbody>\n",
       "</table>\n",
       "</div>"
      ],
      "text/plain": [
       "             Age  Systolic_blood_pressure\n",
       "count  29.000000                29.000000\n",
       "mean   45.068966               139.862069\n",
       "std    15.560782                17.504538\n",
       "min    17.000000               110.000000\n",
       "25%    36.000000               125.000000\n",
       "50%    45.000000               140.000000\n",
       "75%    56.000000               154.000000\n",
       "max    69.000000               175.000000"
      ]
     },
     "execution_count": 13,
     "metadata": {},
     "output_type": "execute_result"
    }
   ],
   "source": [
    "data.describe()"
   ]
  },
  {
   "cell_type": "code",
   "execution_count": 14,
   "metadata": {},
   "outputs": [
    {
     "data": {
      "image/png": "[encoded data removed]",
      "text/plain": [
       "<Figure size 144x144 with 4 Axes>"
      ]
     },
     "metadata": {
      "needs_background": "light"
     },
     "output_type": "display_data"
    }
   ],
   "source": [
    "scatter_matrix(data, \n",
    "               figsize=(len(data.columns),\n",
    "                              len(data.columns)),\n",
    "               diagonal = 'kde');"
   ]
  },
  {
   "cell_type": "markdown",
   "metadata": {},
   "source": [
    "Al ser solamente dos variables, mostramos el diagrama de dispersión"
   ]
  },
  {
   "cell_type": "code",
   "execution_count": 15,
   "metadata": {},
   "outputs": [
    {
     "data": {
      "image/png": "[encoded data removed]",
      "text/plain": [
       "<Figure size 432x288 with 1 Axes>"
      ]
     },
     "metadata": {
      "needs_background": "light"
     },
     "output_type": "display_data"
    }
   ],
   "source": [
    "# Al graficar los datos se observa una tendencia lineal\n",
    "data.plot.scatter(x='Age', y='Systolic_blood_pressure')\n",
    "plt.xlabel('Edad')\n",
    "plt.ylabel('Presión sistólica en sangre')\n",
    "plt.show()"
   ]
  },
  {
   "cell_type": "code",
   "execution_count": 8,
   "metadata": {},
   "outputs": [],
   "source": [
    "# X_tra = np.asarray(data.iloc[:, 0:8])"
   ]
  },
  {
   "cell_type": "code",
   "execution_count": 16,
   "metadata": {},
   "outputs": [],
   "source": [
    "X = data['Age'].values\n",
    "Y = data['Systolic_blood_pressure'].values"
   ]
  },
  {
   "cell_type": "code",
   "execution_count": 17,
   "metadata": {},
   "outputs": [
    {
     "data": {
      "text/plain": [
       "numpy.ndarray"
      ]
     },
     "execution_count": 17,
     "metadata": {},
     "output_type": "execute_result"
    }
   ],
   "source": [
    "type(X)"
   ]
  },
  {
   "cell_type": "markdown",
   "metadata": {},
   "source": [
    "### 1 - Definición del modelo"
   ]
  },
  {
   "cell_type": "code",
   "execution_count": 18,
   "metadata": {},
   "outputs": [],
   "source": [
    "input_dim = 1\n",
    "output_dim = 1\n",
    "\n",
    "model = Sequential()\n",
    "model.add(Dense(output_dim, input_dim=input_dim, activation='linear'))"
   ]
  },
  {
   "cell_type": "markdown",
   "metadata": {},
   "source": [
    "### 2- Compilación del modelo"
   ]
  },
  {
   "cell_type": "markdown",
   "metadata": {},
   "source": [
    "En este caso, vamos a definir un optimizador que a diferencia de otros optimizadores como 'adam' o 'RMSProp', necesita que configuremos ciertos parámetros."
   ]
  },
  {
   "cell_type": "code",
   "execution_count": 19,
   "metadata": {},
   "outputs": [
    {
     "name": "stderr",
     "output_type": "stream",
     "text": [
      "/home/ubuntu/anaconda3/lib/python3.8/site-packages/keras/optimizer_v2/gradient_descent.py:102: UserWarning: The `lr` argument is deprecated, use `learning_rate` instead.\n",
      "  super(SGD, self).__init__(name, **kwargs)\n"
     ]
    }
   ],
   "source": [
    "sgd = SGD(lr=0.0004)\n",
    "model.compile(loss='mse', optimizer=sgd)"
   ]
  },
  {
   "cell_type": "code",
   "execution_count": 13,
   "metadata": {},
   "outputs": [
    {
     "name": "stdout",
     "output_type": "stream",
     "text": [
      "Model: \"sequential\"\n",
      "_________________________________________________________________\n",
      " Layer (type)                Output Shape              Param #   \n",
      "=================================================================\n",
      " dense (Dense)               (None, 1)                 2         \n",
      "                                                                 \n",
      "=================================================================\n",
      "Total params: 2\n",
      "Trainable params: 2\n",
      "Non-trainable params: 0\n",
      "_________________________________________________________________\n"
     ]
    }
   ],
   "source": [
    "model.summary()"
   ]
  },
  {
   "cell_type": "markdown",
   "metadata": {},
   "source": [
    "### 3- Ajuste del modelo"
   ]
  },
  {
   "cell_type": "code",
   "execution_count": 20,
   "metadata": {},
   "outputs": [],
   "source": [
    "num_epochs = 20\n",
    "batch_size = 2\n",
    "history = model.fit(X, Y, \n",
    "              epochs=num_epochs, \n",
    "              batch_size=batch_size, \n",
    "              verbose=0)"
   ]
  },
  {
   "cell_type": "markdown",
   "metadata": {},
   "source": [
    "### 4 - Obtención de métricas y resultados."
   ]
  },
  {
   "cell_type": "markdown",
   "metadata": {},
   "source": [
    "En un modelo de regresión lineal al utilizar una función de pérdida de gradiente descendente, lo que obtenemos en 'loss' es el valor del error cuadrático medio."
   ]
  },
  {
   "cell_type": "code",
   "execution_count": 21,
   "metadata": {},
   "outputs": [
    {
     "data": {
      "image/png": "[encoded data removed]",
      "text/plain": [
       "<Figure size 432x288 with 2 Axes>"
      ]
     },
     "metadata": {
      "needs_background": "light"
     },
     "output_type": "display_data"
    }
   ],
   "source": [
    "# Graficar el error vs epochs y el resultado de la regresión\n",
    "# superpuesto a los datos originales\n",
    "plt.subplot(1,2,1)\n",
    "plt.plot(history.history['loss'])\n",
    "plt.xlabel('epoch')\n",
    "plt.ylabel('Error cuadrático medio')\n",
    "\n",
    "# Realizamos las predicciones sobre el conjunto X\n",
    "predicciones_regression = model.predict(X)\n",
    "\n",
    "plt.subplot(1, 2, 2)\n",
    "plt.scatter(X,Y)\n",
    "plt.plot(X, predicciones_regression,'r')\n",
    "plt.xlabel('X')\n",
    "plt.ylabel('Y')\n",
    "plt.title('Regresión lineal')\n",
    "plt.show()"
   ]
  },
  {
   "cell_type": "markdown",
   "metadata": {},
   "source": [
    "### 5 - Predicciones"
   ]
  },
  {
   "cell_type": "code",
   "execution_count": 23,
   "metadata": {},
   "outputs": [],
   "source": [
    "# predicciones = model.predict_classes(X_tra)"
   ]
  },
  {
   "cell_type": "code",
   "execution_count": 24,
   "metadata": {},
   "outputs": [
    {
     "name": "stdout",
     "output_type": "stream",
     "text": [
      "La presión sanguínea será de -->  237.39806  para una persona de:  85  años\n"
     ]
    }
   ],
   "source": [
    "# Predicción\n",
    "x_pred = np.array([85])\n",
    "y_pred = model.predict(x_pred)\n",
    "print(\"La presión sanguínea será de --> \", y_pred[0][0], \" para una persona de: \", x_pred[0], \" años\")"
   ]
  },
  {
   "cell_type": "code",
   "execution_count": 25,
   "metadata": {},
   "outputs": [
    {
     "name": "stdout",
     "output_type": "stream",
     "text": [
      "La presión sanguínea será de -->  74.104866  para una persona de:  20  años\n"
     ]
    }
   ],
   "source": [
    "x_pred = np.array([20])\n",
    "y_pred = model.predict(x_pred)\n",
    "print(\"La presión sanguínea será de --> \", y_pred[0][0], \" para una persona de: \", x_pred[0], \" años\")"
   ]
  },
  {
   "cell_type": "code",
   "execution_count": 26,
   "metadata": {},
   "outputs": [
    {
     "name": "stdout",
     "output_type": "stream",
     "text": [
      "La presión sanguínea será de -->  300.20312  para una persona de:  110  años\n"
     ]
    }
   ],
   "source": [
    "x_pred = np.array([110])\n",
    "y_pred = model.predict(x_pred)\n",
    "print(\"La presión sanguínea será de --> \", y_pred[0][0], \" para una persona de: \", x_pred[0], \" años\")"
   ]
  },
  {
   "cell_type": "code",
   "execution_count": 27,
   "metadata": {},
   "outputs": [
    {
     "name": "stdout",
     "output_type": "stream",
     "text": [
      "La presión sanguínea será de -->  99.22689  para una persona de:  30  años\n"
     ]
    }
   ],
   "source": [
    "x_pred = np.array([30])\n",
    "y_pred = model.predict(x_pred)\n",
    "print(\"La presión sanguínea será de --> \", y_pred[0][0], \" para una persona de: \", x_pred[0], \" años\")"
   ]
  },
  {
   "cell_type": "code",
   "execution_count": null,
   "metadata": {},
   "outputs": [],
   "source": []
  },
  {
   "cell_type": "code",
   "execution_count": null,
   "metadata": {},
   "outputs": [],
   "source": []
  }
 ],
 "metadata": {
  "kernelspec": {
   "display_name": "Python 3",
   "language": "python",
   "name": "python3"
  },
  "language_info": {
   "codemirror_mode": {
    "name": "ipython",
    "version": 3
   },
   "file_extension": ".py",
   "mimetype": "text/x-python",
   "name": "python",
   "nbconvert_exporter": "python",
   "pygments_lexer": "ipython3",
   "version": "3.8.8"
  }
 },
 "nbformat": 4,
 "nbformat_minor": 2
}
