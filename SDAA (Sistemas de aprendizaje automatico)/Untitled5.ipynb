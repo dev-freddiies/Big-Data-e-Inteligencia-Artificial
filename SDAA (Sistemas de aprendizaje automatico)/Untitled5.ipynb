{
 "cells": [
  {
   "cell_type": "code",
   "execution_count": 392,
   "id": "d26c629a",
   "metadata": {},
   "outputs": [],
   "source": [
    "\n",
    "# ··· ··· ··· Importo librerías ··· ··· ··· #\n",
    "\n",
    "import numpy as np \n",
    "import matplotlib.pyplot as plt\n",
    "from sklearn.model_selection import train_test_split, GridSearchCV\n",
    "from sklearn.tree import DecisionTreeRegressor\n",
    "from sklearn.metrics import r2_score\n",
    "import pandas as pd\n",
    "from sklearn.model_selection import train_test_split\n",
    "from sklearn.preprocessing import LabelEncoder, StandardScaler\n",
    "from sklearn.model_selection import GridSearchCV\n",
    "from sklearn.linear_model import LogisticRegression\n",
    "from sklearn.neighbors import KNeighborsRegressor\n",
    "from sklearn.metrics import mean_absolute_error\n",
    "import sklearn.metrics as metrics\n",
    "from IPython.core.display import display, HTML\n",
    "import pandas as pd\n",
    "import seaborn as sns\n",
    "import matplotlib.pyplot as plt\n",
    "%matplotlib inline\n",
    "import numpy as np\n",
    "import warnings\n",
    "warnings.filterwarnings('ignore')\n",
    "from scipy.stats import shapiro\n",
    "\n",
    "# ··· ··· ··· ··· ··· ··· ··· ··· ··· ··· #\n"
   ]
  },
  {
   "cell_type": "markdown",
   "id": "d34ab7bb",
   "metadata": {},
   "source": [
    "# ··· ··· ··· ··· ··· ··· ··· ··· ··· ··· ··· ··· ··· ··· ··· ··· ··· ··· ··· #"
   ]
  },
  {
   "cell_type": "markdown",
   "id": "e0babcf0",
   "metadata": {},
   "source": [
    "### 1.-                                                                                                         Lee un fichero xxx.csv o crea uno que contenga al menos 30 filas por 10 columnas, de las cuales una columna tipo object debe tener dos opciones y otras dos columnas tipo object debe contener tres o más opciones. Al menos dos columnas debe contener nulos. \n",
    "###"
   ]
  },
  {
   "cell_type": "code",
   "execution_count": 393,
   "id": "dca85cfa",
   "metadata": {},
   "outputs": [
    {
     "data": {
      "text/html": [
       "<div>\n",
       "<style scoped>\n",
       "    .dataframe tbody tr th:only-of-type {\n",
       "        vertical-align: middle;\n",
       "    }\n",
       "\n",
       "    .dataframe tbody tr th {\n",
       "        vertical-align: top;\n",
       "    }\n",
       "\n",
       "    .dataframe thead th {\n",
       "        text-align: right;\n",
       "    }\n",
       "</style>\n",
       "<table border=\"1\" class=\"dataframe\">\n",
       "  <thead>\n",
       "    <tr style=\"text-align: right;\">\n",
       "      <th></th>\n",
       "      <th>ID</th>\n",
       "      <th>EQUIPO</th>\n",
       "      <th>PAIS</th>\n",
       "      <th>PARTIDOS_JUGADOS</th>\n",
       "      <th>GANADOS</th>\n",
       "      <th>EMPATES</th>\n",
       "      <th>PERDIDOS</th>\n",
       "      <th>GOLES_A_FAVOR</th>\n",
       "      <th>GOLES_EN_CONTRA</th>\n",
       "      <th>PUNTOS</th>\n",
       "      <th>GANADOR</th>\n",
       "    </tr>\n",
       "  </thead>\n",
       "  <tbody>\n",
       "    <tr>\n",
       "      <th>0</th>\n",
       "      <td>1</td>\n",
       "      <td>Manchester City</td>\n",
       "      <td>INGLATERRA</td>\n",
       "      <td>38.0</td>\n",
       "      <td>29.0</td>\n",
       "      <td>6.0</td>\n",
       "      <td>3</td>\n",
       "      <td>99.0</td>\n",
       "      <td>26</td>\n",
       "      <td>93</td>\n",
       "      <td>si</td>\n",
       "    </tr>\n",
       "    <tr>\n",
       "      <th>1</th>\n",
       "      <td>2</td>\n",
       "      <td>Liverpool</td>\n",
       "      <td>INGLATERRA</td>\n",
       "      <td>38.0</td>\n",
       "      <td>28.0</td>\n",
       "      <td>8.0</td>\n",
       "      <td>2</td>\n",
       "      <td>94.0</td>\n",
       "      <td>26</td>\n",
       "      <td>92</td>\n",
       "      <td>no</td>\n",
       "    </tr>\n",
       "    <tr>\n",
       "      <th>2</th>\n",
       "      <td>3</td>\n",
       "      <td>Bayern Munich</td>\n",
       "      <td>ALEMANIA</td>\n",
       "      <td>NaN</td>\n",
       "      <td>24.0</td>\n",
       "      <td>5.0</td>\n",
       "      <td>5</td>\n",
       "      <td>97.0</td>\n",
       "      <td>37</td>\n",
       "      <td>77</td>\n",
       "      <td>si</td>\n",
       "    </tr>\n",
       "    <tr>\n",
       "      <th>3</th>\n",
       "      <td>4</td>\n",
       "      <td>Paris S-G</td>\n",
       "      <td>FRANCIA</td>\n",
       "      <td>38.0</td>\n",
       "      <td>26.0</td>\n",
       "      <td>8.0</td>\n",
       "      <td>4</td>\n",
       "      <td>90.0</td>\n",
       "      <td>36</td>\n",
       "      <td>86</td>\n",
       "      <td>si</td>\n",
       "    </tr>\n",
       "    <tr>\n",
       "      <th>4</th>\n",
       "      <td>5</td>\n",
       "      <td>Real Madrid</td>\n",
       "      <td>ESPAÑA</td>\n",
       "      <td>38.0</td>\n",
       "      <td>26.0</td>\n",
       "      <td>8.0</td>\n",
       "      <td>4</td>\n",
       "      <td>80.0</td>\n",
       "      <td>31</td>\n",
       "      <td>86</td>\n",
       "      <td>si</td>\n",
       "    </tr>\n",
       "    <tr>\n",
       "      <th>5</th>\n",
       "      <td>6</td>\n",
       "      <td>Milan</td>\n",
       "      <td>ITALIA</td>\n",
       "      <td>38.0</td>\n",
       "      <td>26.0</td>\n",
       "      <td>8.0</td>\n",
       "      <td>4</td>\n",
       "      <td>69.0</td>\n",
       "      <td>31</td>\n",
       "      <td>86</td>\n",
       "      <td>no</td>\n",
       "    </tr>\n",
       "    <tr>\n",
       "      <th>6</th>\n",
       "      <td>7</td>\n",
       "      <td>Inter</td>\n",
       "      <td>ITALIA</td>\n",
       "      <td>38.0</td>\n",
       "      <td>25.0</td>\n",
       "      <td>9.0</td>\n",
       "      <td>4</td>\n",
       "      <td>84.0</td>\n",
       "      <td>32</td>\n",
       "      <td>84</td>\n",
       "      <td>no</td>\n",
       "    </tr>\n",
       "    <tr>\n",
       "      <th>7</th>\n",
       "      <td>8</td>\n",
       "      <td>Napoli</td>\n",
       "      <td>ITALIA</td>\n",
       "      <td>38.0</td>\n",
       "      <td>24.0</td>\n",
       "      <td>7.0</td>\n",
       "      <td>7</td>\n",
       "      <td>74.0</td>\n",
       "      <td>31</td>\n",
       "      <td>79</td>\n",
       "      <td>no</td>\n",
       "    </tr>\n",
       "    <tr>\n",
       "      <th>8</th>\n",
       "      <td>9</td>\n",
       "      <td>Dortmund</td>\n",
       "      <td>ALEMANIA</td>\n",
       "      <td>NaN</td>\n",
       "      <td>22.0</td>\n",
       "      <td>3.0</td>\n",
       "      <td>9</td>\n",
       "      <td>85.0</td>\n",
       "      <td>52</td>\n",
       "      <td>69</td>\n",
       "      <td>NaN</td>\n",
       "    </tr>\n",
       "    <tr>\n",
       "      <th>9</th>\n",
       "      <td>10</td>\n",
       "      <td>Chelsea</td>\n",
       "      <td>INGLATERRA</td>\n",
       "      <td>38.0</td>\n",
       "      <td>21.0</td>\n",
       "      <td>11.0</td>\n",
       "      <td>6</td>\n",
       "      <td>76.0</td>\n",
       "      <td>33</td>\n",
       "      <td>74</td>\n",
       "      <td>no</td>\n",
       "    </tr>\n",
       "    <tr>\n",
       "      <th>10</th>\n",
       "      <td>11</td>\n",
       "      <td>Barcelona</td>\n",
       "      <td>ESPAÑA</td>\n",
       "      <td>38.0</td>\n",
       "      <td>21.0</td>\n",
       "      <td>10.0</td>\n",
       "      <td>7</td>\n",
       "      <td>NaN</td>\n",
       "      <td>38</td>\n",
       "      <td>73</td>\n",
       "      <td>no</td>\n",
       "    </tr>\n",
       "    <tr>\n",
       "      <th>11</th>\n",
       "      <td>12</td>\n",
       "      <td>Leverkusen</td>\n",
       "      <td>ALEMANIA</td>\n",
       "      <td>NaN</td>\n",
       "      <td>19.0</td>\n",
       "      <td>NaN</td>\n",
       "      <td>8</td>\n",
       "      <td>80.0</td>\n",
       "      <td>47</td>\n",
       "      <td>64</td>\n",
       "      <td>NaN</td>\n",
       "    </tr>\n",
       "    <tr>\n",
       "      <th>12</th>\n",
       "      <td>13</td>\n",
       "      <td>Tottenham</td>\n",
       "      <td>INGLATERRA</td>\n",
       "      <td>38.0</td>\n",
       "      <td>22.0</td>\n",
       "      <td>5.0</td>\n",
       "      <td>11</td>\n",
       "      <td>69.0</td>\n",
       "      <td>40</td>\n",
       "      <td>71</td>\n",
       "      <td>no</td>\n",
       "    </tr>\n",
       "    <tr>\n",
       "      <th>13</th>\n",
       "      <td>14</td>\n",
       "      <td>Marseille</td>\n",
       "      <td>FRANCIA</td>\n",
       "      <td>38.0</td>\n",
       "      <td>21.0</td>\n",
       "      <td>8.0</td>\n",
       "      <td>9</td>\n",
       "      <td>63.0</td>\n",
       "      <td>38</td>\n",
       "      <td>71</td>\n",
       "      <td>no</td>\n",
       "    </tr>\n",
       "    <tr>\n",
       "      <th>14</th>\n",
       "      <td>15</td>\n",
       "      <td>Atletico de Madrid</td>\n",
       "      <td>ESPAÑA</td>\n",
       "      <td>38.0</td>\n",
       "      <td>21.0</td>\n",
       "      <td>8.0</td>\n",
       "      <td>9</td>\n",
       "      <td>65.0</td>\n",
       "      <td>43</td>\n",
       "      <td>71</td>\n",
       "      <td>no</td>\n",
       "    </tr>\n",
       "    <tr>\n",
       "      <th>15</th>\n",
       "      <td>16</td>\n",
       "      <td>Sevilla</td>\n",
       "      <td>ESPAÑA</td>\n",
       "      <td>38.0</td>\n",
       "      <td>18.0</td>\n",
       "      <td>16.0</td>\n",
       "      <td>4</td>\n",
       "      <td>53.0</td>\n",
       "      <td>30</td>\n",
       "      <td>70</td>\n",
       "      <td>no</td>\n",
       "    </tr>\n",
       "    <tr>\n",
       "      <th>16</th>\n",
       "      <td>17</td>\n",
       "      <td>Juventus</td>\n",
       "      <td>ITALIA</td>\n",
       "      <td>38.0</td>\n",
       "      <td>20.0</td>\n",
       "      <td>10.0</td>\n",
       "      <td>8</td>\n",
       "      <td>57.0</td>\n",
       "      <td>37</td>\n",
       "      <td>70</td>\n",
       "      <td>no</td>\n",
       "    </tr>\n",
       "    <tr>\n",
       "      <th>17</th>\n",
       "      <td>18</td>\n",
       "      <td>Monaco</td>\n",
       "      <td>FRANCIA</td>\n",
       "      <td>38.0</td>\n",
       "      <td>20.0</td>\n",
       "      <td>9.0</td>\n",
       "      <td>9</td>\n",
       "      <td>65.0</td>\n",
       "      <td>40</td>\n",
       "      <td>69</td>\n",
       "      <td>no</td>\n",
       "    </tr>\n",
       "    <tr>\n",
       "      <th>18</th>\n",
       "      <td>19</td>\n",
       "      <td>Arsenal</td>\n",
       "      <td>INGLATERRA</td>\n",
       "      <td>38.0</td>\n",
       "      <td>22.0</td>\n",
       "      <td>3.0</td>\n",
       "      <td>13</td>\n",
       "      <td>61.0</td>\n",
       "      <td>48</td>\n",
       "      <td>69</td>\n",
       "      <td>no</td>\n",
       "    </tr>\n",
       "    <tr>\n",
       "      <th>19</th>\n",
       "      <td>20</td>\n",
       "      <td>Rennes</td>\n",
       "      <td>FRANCIA</td>\n",
       "      <td>38.0</td>\n",
       "      <td>20.0</td>\n",
       "      <td>6.0</td>\n",
       "      <td>12</td>\n",
       "      <td>82.0</td>\n",
       "      <td>40</td>\n",
       "      <td>66</td>\n",
       "      <td>no</td>\n",
       "    </tr>\n",
       "    <tr>\n",
       "      <th>20</th>\n",
       "      <td>21</td>\n",
       "      <td>Nice</td>\n",
       "      <td>FRANCIA</td>\n",
       "      <td>38.0</td>\n",
       "      <td>20.0</td>\n",
       "      <td>7.0</td>\n",
       "      <td>11</td>\n",
       "      <td>52.0</td>\n",
       "      <td>36</td>\n",
       "      <td>66</td>\n",
       "      <td>no</td>\n",
       "    </tr>\n",
       "    <tr>\n",
       "      <th>21</th>\n",
       "      <td>22</td>\n",
       "      <td>RB Leipzig</td>\n",
       "      <td>ALEMANIA</td>\n",
       "      <td>NaN</td>\n",
       "      <td>17.0</td>\n",
       "      <td>7.0</td>\n",
       "      <td>10</td>\n",
       "      <td>72.0</td>\n",
       "      <td>37</td>\n",
       "      <td>58</td>\n",
       "      <td>NaN</td>\n",
       "    </tr>\n",
       "    <tr>\n",
       "      <th>22</th>\n",
       "      <td>23</td>\n",
       "      <td>Betis</td>\n",
       "      <td>ESPAÑA</td>\n",
       "      <td>38.0</td>\n",
       "      <td>19.0</td>\n",
       "      <td>8.0</td>\n",
       "      <td>11</td>\n",
       "      <td>62.0</td>\n",
       "      <td>40</td>\n",
       "      <td>65</td>\n",
       "      <td>no</td>\n",
       "    </tr>\n",
       "    <tr>\n",
       "      <th>23</th>\n",
       "      <td>24</td>\n",
       "      <td>Lazio</td>\n",
       "      <td>ITALIA</td>\n",
       "      <td>38.0</td>\n",
       "      <td>18.0</td>\n",
       "      <td>10.0</td>\n",
       "      <td>10</td>\n",
       "      <td>77.0</td>\n",
       "      <td>58</td>\n",
       "      <td>64</td>\n",
       "      <td>no</td>\n",
       "    </tr>\n",
       "    <tr>\n",
       "      <th>24</th>\n",
       "      <td>25</td>\n",
       "      <td>Union Berlin</td>\n",
       "      <td>ALEMANIA</td>\n",
       "      <td>NaN</td>\n",
       "      <td>NaN</td>\n",
       "      <td>9.0</td>\n",
       "      <td>9</td>\n",
       "      <td>NaN</td>\n",
       "      <td>44</td>\n",
       "      <td>57</td>\n",
       "      <td>NaN</td>\n",
       "    </tr>\n",
       "    <tr>\n",
       "      <th>25</th>\n",
       "      <td>26</td>\n",
       "      <td>Strasbourg</td>\n",
       "      <td>FRANCIA</td>\n",
       "      <td>38.0</td>\n",
       "      <td>17.0</td>\n",
       "      <td>12.0</td>\n",
       "      <td>9</td>\n",
       "      <td>60.0</td>\n",
       "      <td>43</td>\n",
       "      <td>63</td>\n",
       "      <td>no</td>\n",
       "    </tr>\n",
       "    <tr>\n",
       "      <th>26</th>\n",
       "      <td>27</td>\n",
       "      <td>Roma</td>\n",
       "      <td>ITALIA</td>\n",
       "      <td>38.0</td>\n",
       "      <td>18.0</td>\n",
       "      <td>9.0</td>\n",
       "      <td>11</td>\n",
       "      <td>59.0</td>\n",
       "      <td>43</td>\n",
       "      <td>63</td>\n",
       "      <td>no</td>\n",
       "    </tr>\n",
       "    <tr>\n",
       "      <th>27</th>\n",
       "      <td>28</td>\n",
       "      <td>Lens</td>\n",
       "      <td>FRANCIA</td>\n",
       "      <td>38.0</td>\n",
       "      <td>17.0</td>\n",
       "      <td>11.0</td>\n",
       "      <td>10</td>\n",
       "      <td>62.0</td>\n",
       "      <td>48</td>\n",
       "      <td>62</td>\n",
       "      <td>no</td>\n",
       "    </tr>\n",
       "    <tr>\n",
       "      <th>28</th>\n",
       "      <td>29</td>\n",
       "      <td>Fiorentina</td>\n",
       "      <td>ITALIA</td>\n",
       "      <td>38.0</td>\n",
       "      <td>19.0</td>\n",
       "      <td>5.0</td>\n",
       "      <td>14</td>\n",
       "      <td>59.0</td>\n",
       "      <td>51</td>\n",
       "      <td>62</td>\n",
       "      <td>no</td>\n",
       "    </tr>\n",
       "    <tr>\n",
       "      <th>29</th>\n",
       "      <td>30</td>\n",
       "      <td>Real Sociedad</td>\n",
       "      <td>ESPAÑA</td>\n",
       "      <td>38.0</td>\n",
       "      <td>17.0</td>\n",
       "      <td>11.0</td>\n",
       "      <td>10</td>\n",
       "      <td>40.0</td>\n",
       "      <td>37</td>\n",
       "      <td>62</td>\n",
       "      <td>no</td>\n",
       "    </tr>\n",
       "    <tr>\n",
       "      <th>30</th>\n",
       "      <td>31</td>\n",
       "      <td>Freiburg</td>\n",
       "      <td>ALEMANIA</td>\n",
       "      <td>NaN</td>\n",
       "      <td>15.0</td>\n",
       "      <td>NaN</td>\n",
       "      <td>9</td>\n",
       "      <td>58.0</td>\n",
       "      <td>46</td>\n",
       "      <td>55</td>\n",
       "      <td>NaN</td>\n",
       "    </tr>\n",
       "    <tr>\n",
       "      <th>31</th>\n",
       "      <td>32</td>\n",
       "      <td>Lyon</td>\n",
       "      <td>FRANCIA</td>\n",
       "      <td>38.0</td>\n",
       "      <td>17.0</td>\n",
       "      <td>11.0</td>\n",
       "      <td>10</td>\n",
       "      <td>66.0</td>\n",
       "      <td>51</td>\n",
       "      <td>61</td>\n",
       "      <td>no</td>\n",
       "    </tr>\n",
       "    <tr>\n",
       "      <th>32</th>\n",
       "      <td>33</td>\n",
       "      <td>Villarreal</td>\n",
       "      <td>ESPAÑA</td>\n",
       "      <td>38.0</td>\n",
       "      <td>16.0</td>\n",
       "      <td>11.0</td>\n",
       "      <td>11</td>\n",
       "      <td>63.0</td>\n",
       "      <td>37</td>\n",
       "      <td>59</td>\n",
       "      <td>no</td>\n",
       "    </tr>\n",
       "    <tr>\n",
       "      <th>33</th>\n",
       "      <td>34</td>\n",
       "      <td>Atalanta</td>\n",
       "      <td>ITALIA</td>\n",
       "      <td>38.0</td>\n",
       "      <td>16.0</td>\n",
       "      <td>11.0</td>\n",
       "      <td>11</td>\n",
       "      <td>65.0</td>\n",
       "      <td>48</td>\n",
       "      <td>59</td>\n",
       "      <td>no</td>\n",
       "    </tr>\n",
       "    <tr>\n",
       "      <th>34</th>\n",
       "      <td>36</td>\n",
       "      <td>Manchester Utd</td>\n",
       "      <td>INGLATERRA</td>\n",
       "      <td>38.0</td>\n",
       "      <td>16.0</td>\n",
       "      <td>10.0</td>\n",
       "      <td>12</td>\n",
       "      <td>57.0</td>\n",
       "      <td>57</td>\n",
       "      <td>58</td>\n",
       "      <td>no</td>\n",
       "    </tr>\n",
       "  </tbody>\n",
       "</table>\n",
       "</div>"
      ],
      "text/plain": [
       "    ID              EQUIPO        PAIS  PARTIDOS_JUGADOS  GANADOS  EMPATES  \\\n",
       "0    1     Manchester City  INGLATERRA              38.0     29.0      6.0   \n",
       "1    2           Liverpool  INGLATERRA              38.0     28.0      8.0   \n",
       "2    3       Bayern Munich    ALEMANIA               NaN     24.0      5.0   \n",
       "3    4           Paris S-G     FRANCIA              38.0     26.0      8.0   \n",
       "4    5         Real Madrid      ESPAÑA              38.0     26.0      8.0   \n",
       "5    6               Milan      ITALIA              38.0     26.0      8.0   \n",
       "6    7               Inter      ITALIA              38.0     25.0      9.0   \n",
       "7    8              Napoli      ITALIA              38.0     24.0      7.0   \n",
       "8    9            Dortmund    ALEMANIA               NaN     22.0      3.0   \n",
       "9   10             Chelsea  INGLATERRA              38.0     21.0     11.0   \n",
       "10  11           Barcelona      ESPAÑA              38.0     21.0     10.0   \n",
       "11  12          Leverkusen    ALEMANIA               NaN     19.0      NaN   \n",
       "12  13           Tottenham  INGLATERRA              38.0     22.0      5.0   \n",
       "13  14           Marseille     FRANCIA              38.0     21.0      8.0   \n",
       "14  15  Atletico de Madrid      ESPAÑA              38.0     21.0      8.0   \n",
       "15  16             Sevilla      ESPAÑA              38.0     18.0     16.0   \n",
       "16  17            Juventus      ITALIA              38.0     20.0     10.0   \n",
       "17  18              Monaco     FRANCIA              38.0     20.0      9.0   \n",
       "18  19             Arsenal  INGLATERRA              38.0     22.0      3.0   \n",
       "19  20              Rennes     FRANCIA              38.0     20.0      6.0   \n",
       "20  21                Nice     FRANCIA              38.0     20.0      7.0   \n",
       "21  22          RB Leipzig    ALEMANIA               NaN     17.0      7.0   \n",
       "22  23               Betis      ESPAÑA              38.0     19.0      8.0   \n",
       "23  24               Lazio      ITALIA              38.0     18.0     10.0   \n",
       "24  25        Union Berlin    ALEMANIA               NaN      NaN      9.0   \n",
       "25  26          Strasbourg     FRANCIA              38.0     17.0     12.0   \n",
       "26  27                Roma      ITALIA              38.0     18.0      9.0   \n",
       "27  28                Lens     FRANCIA              38.0     17.0     11.0   \n",
       "28  29          Fiorentina      ITALIA              38.0     19.0      5.0   \n",
       "29  30       Real Sociedad      ESPAÑA              38.0     17.0     11.0   \n",
       "30  31            Freiburg    ALEMANIA               NaN     15.0      NaN   \n",
       "31  32                Lyon     FRANCIA              38.0     17.0     11.0   \n",
       "32  33          Villarreal      ESPAÑA              38.0     16.0     11.0   \n",
       "33  34            Atalanta      ITALIA              38.0     16.0     11.0   \n",
       "34  36      Manchester Utd  INGLATERRA              38.0     16.0     10.0   \n",
       "\n",
       "    PERDIDOS  GOLES_A_FAVOR  GOLES_EN_CONTRA  PUNTOS GANADOR  \n",
       "0          3           99.0               26      93      si  \n",
       "1          2           94.0               26      92      no  \n",
       "2          5           97.0               37      77      si  \n",
       "3          4           90.0               36      86      si  \n",
       "4          4           80.0               31      86      si  \n",
       "5          4           69.0               31      86      no  \n",
       "6          4           84.0               32      84      no  \n",
       "7          7           74.0               31      79      no  \n",
       "8          9           85.0               52      69     NaN  \n",
       "9          6           76.0               33      74      no  \n",
       "10         7            NaN               38      73      no  \n",
       "11         8           80.0               47      64     NaN  \n",
       "12        11           69.0               40      71      no  \n",
       "13         9           63.0               38      71      no  \n",
       "14         9           65.0               43      71      no  \n",
       "15         4           53.0               30      70      no  \n",
       "16         8           57.0               37      70      no  \n",
       "17         9           65.0               40      69      no  \n",
       "18        13           61.0               48      69      no  \n",
       "19        12           82.0               40      66      no  \n",
       "20        11           52.0               36      66      no  \n",
       "21        10           72.0               37      58     NaN  \n",
       "22        11           62.0               40      65      no  \n",
       "23        10           77.0               58      64      no  \n",
       "24         9            NaN               44      57     NaN  \n",
       "25         9           60.0               43      63      no  \n",
       "26        11           59.0               43      63      no  \n",
       "27        10           62.0               48      62      no  \n",
       "28        14           59.0               51      62      no  \n",
       "29        10           40.0               37      62      no  \n",
       "30         9           58.0               46      55     NaN  \n",
       "31        10           66.0               51      61      no  \n",
       "32        11           63.0               37      59      no  \n",
       "33        11           65.0               48      59      no  \n",
       "34        12           57.0               57      58      no  "
      ]
     },
     "execution_count": 393,
     "metadata": {},
     "output_type": "execute_result"
    }
   ],
   "source": [
    "# 1.- Lee un fichero xxx.csv o crea uno que contenga al menos 30 filas por 10\n",
    "# columnas, de las cuales una columna tipo object debe tener dos opciones y otras\n",
    "# dos columnas tipo object debe contener tres o más opciones. Al menos dos\n",
    "# columnas debe contener nulos.\n",
    "\n",
    "fich1= 'EXAMEN_Alfredo.csv'\n",
    "df = pd.read_csv(fich1)\n",
    "df"
   ]
  },
  {
   "cell_type": "code",
   "execution_count": 394,
   "id": "a0f2755b",
   "metadata": {},
   "outputs": [
    {
     "data": {
      "text/plain": [
       "Index(['ID', 'EQUIPO', 'PAIS', 'PARTIDOS_JUGADOS', 'GANADOS', 'EMPATES',\n",
       "       'PERDIDOS', 'GOLES_A_FAVOR', 'GOLES_EN_CONTRA', 'PUNTOS', 'GANADOR'],\n",
       "      dtype='object')"
      ]
     },
     "execution_count": 394,
     "metadata": {},
     "output_type": "execute_result"
    }
   ],
   "source": [
    "df.columns"
   ]
  },
  {
   "cell_type": "code",
   "execution_count": 395,
   "id": "cc8249ba",
   "metadata": {},
   "outputs": [
    {
     "name": "stdout",
     "output_type": "stream",
     "text": [
      "Número de celdas:  385\n"
     ]
    }
   ],
   "source": [
    "print('Número de celdas: ',df.shape[0]*df.shape[1])"
   ]
  },
  {
   "cell_type": "markdown",
   "id": "bbe61b8b",
   "metadata": {},
   "source": [
    "# ··· ··· ··· ··· ··· ··· ··· ··· ··· ··· ··· ··· ··· ··· ··· ··· ··· ··· ··· #"
   ]
  },
  {
   "cell_type": "markdown",
   "id": "1f060ff6",
   "metadata": {},
   "source": [
    "###                                                                                                                2.- Transforma las columnas object a categóricas y posteriormente a numéricas. Una columna categórica de dos opciones a columnas dummy y elimina dicha columna categórica. Una columna categórica de mas de dos opciones mediante cat codes. La otra columna categórica de mas de dos opciones mediante LabelEncoder. \n",
    "###"
   ]
  },
  {
   "cell_type": "code",
   "execution_count": 396,
   "id": "ba2cd005",
   "metadata": {},
   "outputs": [
    {
     "data": {
      "text/plain": [
       "ID                    int64\n",
       "EQUIPO               object\n",
       "PAIS                 object\n",
       "PARTIDOS_JUGADOS    float64\n",
       "GANADOS             float64\n",
       "EMPATES             float64\n",
       "PERDIDOS              int64\n",
       "GOLES_A_FAVOR       float64\n",
       "GOLES_EN_CONTRA       int64\n",
       "PUNTOS                int64\n",
       "GANADOR              object\n",
       "dtype: object"
      ]
     },
     "execution_count": 396,
     "metadata": {},
     "output_type": "execute_result"
    }
   ],
   "source": [
    "# 2.- Transforma las columnas object a categóricas y posteriormente a numéricas.\n",
    "# Una columna categórica de dos opciones a columnas dummy y elimina dicha\n",
    "# columna categórica. Una columna categórica de mas de dos opciones mediante\n",
    "# cat codes. La otra columna categórica de mas de dos opciones mediante\n",
    "# LabelEncoder.\n",
    "\n",
    "df.dtypes"
   ]
  },
  {
   "cell_type": "code",
   "execution_count": 397,
   "id": "990e837e",
   "metadata": {},
   "outputs": [
    {
     "data": {
      "text/plain": [
       "ID                  0\n",
       "EQUIPO              0\n",
       "PAIS                0\n",
       "PARTIDOS_JUGADOS    6\n",
       "GANADOS             1\n",
       "EMPATES             2\n",
       "PERDIDOS            0\n",
       "GOLES_A_FAVOR       2\n",
       "GOLES_EN_CONTRA     0\n",
       "PUNTOS              0\n",
       "GANADOR             5\n",
       "dtype: int64"
      ]
     },
     "execution_count": 397,
     "metadata": {},
     "output_type": "execute_result"
    }
   ],
   "source": [
    "df.isnull().sum()"
   ]
  },
  {
   "cell_type": "code",
   "execution_count": 398,
   "id": "76eb89bf",
   "metadata": {},
   "outputs": [],
   "source": [
    "le = LabelEncoder()"
   ]
  },
  {
   "cell_type": "code",
   "execution_count": 399,
   "id": "22c86c5e",
   "metadata": {},
   "outputs": [],
   "source": [
    "df.EQUIPO = le.fit_transform(df.EQUIPO.values)"
   ]
  },
  {
   "cell_type": "code",
   "execution_count": 400,
   "id": "9ca58a80",
   "metadata": {},
   "outputs": [],
   "source": [
    "df.PAIS = le.fit_transform(df.PAIS.values)"
   ]
  },
  {
   "cell_type": "code",
   "execution_count": 401,
   "id": "e2188eac",
   "metadata": {},
   "outputs": [],
   "source": [
    "df.PARTIDOS_JUGADOS = le.fit_transform(df.PARTIDOS_JUGADOS.values)"
   ]
  },
  {
   "cell_type": "code",
   "execution_count": 402,
   "id": "8f1c654a",
   "metadata": {},
   "outputs": [],
   "source": [
    "df.GANADOS = le.fit_transform(df.GANADOS.values)"
   ]
  },
  {
   "cell_type": "code",
   "execution_count": 403,
   "id": "1fa0b654",
   "metadata": {},
   "outputs": [],
   "source": [
    "df.EMPATES = le.fit_transform(df.EMPATES.values)"
   ]
  },
  {
   "cell_type": "code",
   "execution_count": 404,
   "id": "4ac166b3",
   "metadata": {},
   "outputs": [],
   "source": [
    "df.PERDIDOS = le.fit_transform(df.PERDIDOS.values)"
   ]
  },
  {
   "cell_type": "code",
   "execution_count": 405,
   "id": "c26a1b61",
   "metadata": {},
   "outputs": [],
   "source": [
    "df.GOLES_A_FAVOR = le.fit_transform(df.GOLES_A_FAVOR.values)"
   ]
  },
  {
   "cell_type": "code",
   "execution_count": 406,
   "id": "de05b196",
   "metadata": {},
   "outputs": [],
   "source": [
    "df.GOLES_EN_CONTRA = le.fit_transform(df.GOLES_EN_CONTRA.values)"
   ]
  },
  {
   "cell_type": "code",
   "execution_count": 407,
   "id": "33e6ea6a",
   "metadata": {},
   "outputs": [],
   "source": [
    "df.GANADOR = le.fit_transform(df.GANADOR.values)"
   ]
  },
  {
   "cell_type": "code",
   "execution_count": 408,
   "id": "f93d5cb1",
   "metadata": {},
   "outputs": [
    {
     "data": {
      "text/plain": [
       "ID                  int64\n",
       "EQUIPO              int64\n",
       "PAIS                int64\n",
       "PARTIDOS_JUGADOS    int64\n",
       "GANADOS             int64\n",
       "EMPATES             int64\n",
       "PERDIDOS            int64\n",
       "GOLES_A_FAVOR       int64\n",
       "GOLES_EN_CONTRA     int64\n",
       "PUNTOS              int64\n",
       "GANADOR             int64\n",
       "dtype: object"
      ]
     },
     "execution_count": 408,
     "metadata": {},
     "output_type": "execute_result"
    }
   ],
   "source": [
    "df.dtypes"
   ]
  },
  {
   "cell_type": "code",
   "execution_count": 409,
   "id": "29ee842d",
   "metadata": {},
   "outputs": [
    {
     "data": {
      "text/html": [
       "<div>\n",
       "<style scoped>\n",
       "    .dataframe tbody tr th:only-of-type {\n",
       "        vertical-align: middle;\n",
       "    }\n",
       "\n",
       "    .dataframe tbody tr th {\n",
       "        vertical-align: top;\n",
       "    }\n",
       "\n",
       "    .dataframe thead th {\n",
       "        text-align: right;\n",
       "    }\n",
       "</style>\n",
       "<table border=\"1\" class=\"dataframe\">\n",
       "  <thead>\n",
       "    <tr style=\"text-align: right;\">\n",
       "      <th></th>\n",
       "      <th>ID</th>\n",
       "      <th>EQUIPO</th>\n",
       "      <th>PAIS</th>\n",
       "      <th>PARTIDOS_JUGADOS</th>\n",
       "      <th>GANADOS</th>\n",
       "      <th>EMPATES</th>\n",
       "      <th>PERDIDOS</th>\n",
       "      <th>GOLES_A_FAVOR</th>\n",
       "      <th>GOLES_EN_CONTRA</th>\n",
       "      <th>PUNTOS</th>\n",
       "      <th>GANADOR</th>\n",
       "    </tr>\n",
       "  </thead>\n",
       "  <tbody>\n",
       "    <tr>\n",
       "      <th>0</th>\n",
       "      <td>1</td>\n",
       "      <td>17</td>\n",
       "      <td>3</td>\n",
       "      <td>0</td>\n",
       "      <td>12</td>\n",
       "      <td>2</td>\n",
       "      <td>1</td>\n",
       "      <td>24</td>\n",
       "      <td>0</td>\n",
       "      <td>93</td>\n",
       "      <td>1</td>\n",
       "    </tr>\n",
       "    <tr>\n",
       "      <th>1</th>\n",
       "      <td>2</td>\n",
       "      <td>15</td>\n",
       "      <td>3</td>\n",
       "      <td>0</td>\n",
       "      <td>11</td>\n",
       "      <td>4</td>\n",
       "      <td>0</td>\n",
       "      <td>22</td>\n",
       "      <td>0</td>\n",
       "      <td>92</td>\n",
       "      <td>0</td>\n",
       "    </tr>\n",
       "    <tr>\n",
       "      <th>2</th>\n",
       "      <td>3</td>\n",
       "      <td>4</td>\n",
       "      <td>0</td>\n",
       "      <td>1</td>\n",
       "      <td>8</td>\n",
       "      <td>1</td>\n",
       "      <td>3</td>\n",
       "      <td>23</td>\n",
       "      <td>6</td>\n",
       "      <td>77</td>\n",
       "      <td>1</td>\n",
       "    </tr>\n",
       "    <tr>\n",
       "      <th>3</th>\n",
       "      <td>4</td>\n",
       "      <td>24</td>\n",
       "      <td>2</td>\n",
       "      <td>0</td>\n",
       "      <td>10</td>\n",
       "      <td>4</td>\n",
       "      <td>2</td>\n",
       "      <td>21</td>\n",
       "      <td>5</td>\n",
       "      <td>86</td>\n",
       "      <td>1</td>\n",
       "    </tr>\n",
       "    <tr>\n",
       "      <th>4</th>\n",
       "      <td>5</td>\n",
       "      <td>26</td>\n",
       "      <td>1</td>\n",
       "      <td>0</td>\n",
       "      <td>10</td>\n",
       "      <td>4</td>\n",
       "      <td>2</td>\n",
       "      <td>17</td>\n",
       "      <td>2</td>\n",
       "      <td>86</td>\n",
       "      <td>1</td>\n",
       "    </tr>\n",
       "    <tr>\n",
       "      <th>5</th>\n",
       "      <td>6</td>\n",
       "      <td>20</td>\n",
       "      <td>4</td>\n",
       "      <td>0</td>\n",
       "      <td>10</td>\n",
       "      <td>4</td>\n",
       "      <td>2</td>\n",
       "      <td>12</td>\n",
       "      <td>2</td>\n",
       "      <td>86</td>\n",
       "      <td>0</td>\n",
       "    </tr>\n",
       "    <tr>\n",
       "      <th>6</th>\n",
       "      <td>7</td>\n",
       "      <td>10</td>\n",
       "      <td>4</td>\n",
       "      <td>0</td>\n",
       "      <td>9</td>\n",
       "      <td>5</td>\n",
       "      <td>2</td>\n",
       "      <td>19</td>\n",
       "      <td>3</td>\n",
       "      <td>84</td>\n",
       "      <td>0</td>\n",
       "    </tr>\n",
       "    <tr>\n",
       "      <th>7</th>\n",
       "      <td>8</td>\n",
       "      <td>22</td>\n",
       "      <td>4</td>\n",
       "      <td>0</td>\n",
       "      <td>8</td>\n",
       "      <td>3</td>\n",
       "      <td>5</td>\n",
       "      <td>14</td>\n",
       "      <td>2</td>\n",
       "      <td>79</td>\n",
       "      <td>0</td>\n",
       "    </tr>\n",
       "    <tr>\n",
       "      <th>8</th>\n",
       "      <td>9</td>\n",
       "      <td>7</td>\n",
       "      <td>0</td>\n",
       "      <td>1</td>\n",
       "      <td>7</td>\n",
       "      <td>0</td>\n",
       "      <td>7</td>\n",
       "      <td>20</td>\n",
       "      <td>15</td>\n",
       "      <td>69</td>\n",
       "      <td>2</td>\n",
       "    </tr>\n",
       "    <tr>\n",
       "      <th>9</th>\n",
       "      <td>10</td>\n",
       "      <td>6</td>\n",
       "      <td>3</td>\n",
       "      <td>0</td>\n",
       "      <td>6</td>\n",
       "      <td>7</td>\n",
       "      <td>4</td>\n",
       "      <td>15</td>\n",
       "      <td>4</td>\n",
       "      <td>74</td>\n",
       "      <td>0</td>\n",
       "    </tr>\n",
       "    <tr>\n",
       "      <th>10</th>\n",
       "      <td>11</td>\n",
       "      <td>3</td>\n",
       "      <td>1</td>\n",
       "      <td>0</td>\n",
       "      <td>6</td>\n",
       "      <td>6</td>\n",
       "      <td>5</td>\n",
       "      <td>25</td>\n",
       "      <td>7</td>\n",
       "      <td>73</td>\n",
       "      <td>0</td>\n",
       "    </tr>\n",
       "    <tr>\n",
       "      <th>11</th>\n",
       "      <td>12</td>\n",
       "      <td>14</td>\n",
       "      <td>0</td>\n",
       "      <td>1</td>\n",
       "      <td>4</td>\n",
       "      <td>10</td>\n",
       "      <td>6</td>\n",
       "      <td>17</td>\n",
       "      <td>12</td>\n",
       "      <td>64</td>\n",
       "      <td>2</td>\n",
       "    </tr>\n",
       "    <tr>\n",
       "      <th>12</th>\n",
       "      <td>13</td>\n",
       "      <td>32</td>\n",
       "      <td>3</td>\n",
       "      <td>0</td>\n",
       "      <td>7</td>\n",
       "      <td>1</td>\n",
       "      <td>9</td>\n",
       "      <td>12</td>\n",
       "      <td>8</td>\n",
       "      <td>71</td>\n",
       "      <td>0</td>\n",
       "    </tr>\n",
       "    <tr>\n",
       "      <th>13</th>\n",
       "      <td>14</td>\n",
       "      <td>19</td>\n",
       "      <td>2</td>\n",
       "      <td>0</td>\n",
       "      <td>6</td>\n",
       "      <td>4</td>\n",
       "      <td>7</td>\n",
       "      <td>9</td>\n",
       "      <td>7</td>\n",
       "      <td>71</td>\n",
       "      <td>0</td>\n",
       "    </tr>\n",
       "    <tr>\n",
       "      <th>14</th>\n",
       "      <td>15</td>\n",
       "      <td>2</td>\n",
       "      <td>1</td>\n",
       "      <td>0</td>\n",
       "      <td>6</td>\n",
       "      <td>4</td>\n",
       "      <td>7</td>\n",
       "      <td>10</td>\n",
       "      <td>9</td>\n",
       "      <td>71</td>\n",
       "      <td>0</td>\n",
       "    </tr>\n",
       "    <tr>\n",
       "      <th>15</th>\n",
       "      <td>16</td>\n",
       "      <td>30</td>\n",
       "      <td>1</td>\n",
       "      <td>0</td>\n",
       "      <td>3</td>\n",
       "      <td>9</td>\n",
       "      <td>2</td>\n",
       "      <td>2</td>\n",
       "      <td>1</td>\n",
       "      <td>70</td>\n",
       "      <td>0</td>\n",
       "    </tr>\n",
       "    <tr>\n",
       "      <th>16</th>\n",
       "      <td>17</td>\n",
       "      <td>11</td>\n",
       "      <td>4</td>\n",
       "      <td>0</td>\n",
       "      <td>5</td>\n",
       "      <td>6</td>\n",
       "      <td>6</td>\n",
       "      <td>3</td>\n",
       "      <td>6</td>\n",
       "      <td>70</td>\n",
       "      <td>0</td>\n",
       "    </tr>\n",
       "    <tr>\n",
       "      <th>17</th>\n",
       "      <td>18</td>\n",
       "      <td>21</td>\n",
       "      <td>2</td>\n",
       "      <td>0</td>\n",
       "      <td>5</td>\n",
       "      <td>5</td>\n",
       "      <td>7</td>\n",
       "      <td>10</td>\n",
       "      <td>8</td>\n",
       "      <td>69</td>\n",
       "      <td>0</td>\n",
       "    </tr>\n",
       "    <tr>\n",
       "      <th>18</th>\n",
       "      <td>19</td>\n",
       "      <td>0</td>\n",
       "      <td>3</td>\n",
       "      <td>0</td>\n",
       "      <td>7</td>\n",
       "      <td>0</td>\n",
       "      <td>11</td>\n",
       "      <td>7</td>\n",
       "      <td>13</td>\n",
       "      <td>69</td>\n",
       "      <td>0</td>\n",
       "    </tr>\n",
       "    <tr>\n",
       "      <th>19</th>\n",
       "      <td>20</td>\n",
       "      <td>28</td>\n",
       "      <td>2</td>\n",
       "      <td>0</td>\n",
       "      <td>5</td>\n",
       "      <td>2</td>\n",
       "      <td>10</td>\n",
       "      <td>18</td>\n",
       "      <td>8</td>\n",
       "      <td>66</td>\n",
       "      <td>0</td>\n",
       "    </tr>\n",
       "    <tr>\n",
       "      <th>20</th>\n",
       "      <td>21</td>\n",
       "      <td>23</td>\n",
       "      <td>2</td>\n",
       "      <td>0</td>\n",
       "      <td>5</td>\n",
       "      <td>3</td>\n",
       "      <td>9</td>\n",
       "      <td>1</td>\n",
       "      <td>5</td>\n",
       "      <td>66</td>\n",
       "      <td>0</td>\n",
       "    </tr>\n",
       "    <tr>\n",
       "      <th>21</th>\n",
       "      <td>22</td>\n",
       "      <td>25</td>\n",
       "      <td>0</td>\n",
       "      <td>1</td>\n",
       "      <td>2</td>\n",
       "      <td>3</td>\n",
       "      <td>8</td>\n",
       "      <td>13</td>\n",
       "      <td>6</td>\n",
       "      <td>58</td>\n",
       "      <td>2</td>\n",
       "    </tr>\n",
       "    <tr>\n",
       "      <th>22</th>\n",
       "      <td>23</td>\n",
       "      <td>5</td>\n",
       "      <td>1</td>\n",
       "      <td>0</td>\n",
       "      <td>4</td>\n",
       "      <td>4</td>\n",
       "      <td>9</td>\n",
       "      <td>8</td>\n",
       "      <td>8</td>\n",
       "      <td>65</td>\n",
       "      <td>0</td>\n",
       "    </tr>\n",
       "    <tr>\n",
       "      <th>23</th>\n",
       "      <td>24</td>\n",
       "      <td>12</td>\n",
       "      <td>4</td>\n",
       "      <td>0</td>\n",
       "      <td>3</td>\n",
       "      <td>6</td>\n",
       "      <td>8</td>\n",
       "      <td>16</td>\n",
       "      <td>17</td>\n",
       "      <td>64</td>\n",
       "      <td>0</td>\n",
       "    </tr>\n",
       "    <tr>\n",
       "      <th>24</th>\n",
       "      <td>25</td>\n",
       "      <td>33</td>\n",
       "      <td>0</td>\n",
       "      <td>1</td>\n",
       "      <td>13</td>\n",
       "      <td>5</td>\n",
       "      <td>7</td>\n",
       "      <td>25</td>\n",
       "      <td>10</td>\n",
       "      <td>57</td>\n",
       "      <td>2</td>\n",
       "    </tr>\n",
       "    <tr>\n",
       "      <th>25</th>\n",
       "      <td>26</td>\n",
       "      <td>31</td>\n",
       "      <td>2</td>\n",
       "      <td>0</td>\n",
       "      <td>2</td>\n",
       "      <td>8</td>\n",
       "      <td>7</td>\n",
       "      <td>6</td>\n",
       "      <td>9</td>\n",
       "      <td>63</td>\n",
       "      <td>0</td>\n",
       "    </tr>\n",
       "    <tr>\n",
       "      <th>26</th>\n",
       "      <td>27</td>\n",
       "      <td>29</td>\n",
       "      <td>4</td>\n",
       "      <td>0</td>\n",
       "      <td>3</td>\n",
       "      <td>5</td>\n",
       "      <td>9</td>\n",
       "      <td>5</td>\n",
       "      <td>9</td>\n",
       "      <td>63</td>\n",
       "      <td>0</td>\n",
       "    </tr>\n",
       "    <tr>\n",
       "      <th>27</th>\n",
       "      <td>28</td>\n",
       "      <td>13</td>\n",
       "      <td>2</td>\n",
       "      <td>0</td>\n",
       "      <td>2</td>\n",
       "      <td>7</td>\n",
       "      <td>8</td>\n",
       "      <td>8</td>\n",
       "      <td>13</td>\n",
       "      <td>62</td>\n",
       "      <td>0</td>\n",
       "    </tr>\n",
       "    <tr>\n",
       "      <th>28</th>\n",
       "      <td>29</td>\n",
       "      <td>8</td>\n",
       "      <td>4</td>\n",
       "      <td>0</td>\n",
       "      <td>4</td>\n",
       "      <td>1</td>\n",
       "      <td>12</td>\n",
       "      <td>5</td>\n",
       "      <td>14</td>\n",
       "      <td>62</td>\n",
       "      <td>0</td>\n",
       "    </tr>\n",
       "    <tr>\n",
       "      <th>29</th>\n",
       "      <td>30</td>\n",
       "      <td>27</td>\n",
       "      <td>1</td>\n",
       "      <td>0</td>\n",
       "      <td>2</td>\n",
       "      <td>7</td>\n",
       "      <td>8</td>\n",
       "      <td>0</td>\n",
       "      <td>6</td>\n",
       "      <td>62</td>\n",
       "      <td>0</td>\n",
       "    </tr>\n",
       "    <tr>\n",
       "      <th>30</th>\n",
       "      <td>31</td>\n",
       "      <td>9</td>\n",
       "      <td>0</td>\n",
       "      <td>1</td>\n",
       "      <td>0</td>\n",
       "      <td>10</td>\n",
       "      <td>7</td>\n",
       "      <td>4</td>\n",
       "      <td>11</td>\n",
       "      <td>55</td>\n",
       "      <td>2</td>\n",
       "    </tr>\n",
       "    <tr>\n",
       "      <th>31</th>\n",
       "      <td>32</td>\n",
       "      <td>16</td>\n",
       "      <td>2</td>\n",
       "      <td>0</td>\n",
       "      <td>2</td>\n",
       "      <td>7</td>\n",
       "      <td>8</td>\n",
       "      <td>11</td>\n",
       "      <td>14</td>\n",
       "      <td>61</td>\n",
       "      <td>0</td>\n",
       "    </tr>\n",
       "    <tr>\n",
       "      <th>32</th>\n",
       "      <td>33</td>\n",
       "      <td>34</td>\n",
       "      <td>1</td>\n",
       "      <td>0</td>\n",
       "      <td>1</td>\n",
       "      <td>7</td>\n",
       "      <td>9</td>\n",
       "      <td>9</td>\n",
       "      <td>6</td>\n",
       "      <td>59</td>\n",
       "      <td>0</td>\n",
       "    </tr>\n",
       "    <tr>\n",
       "      <th>33</th>\n",
       "      <td>34</td>\n",
       "      <td>1</td>\n",
       "      <td>4</td>\n",
       "      <td>0</td>\n",
       "      <td>1</td>\n",
       "      <td>7</td>\n",
       "      <td>9</td>\n",
       "      <td>10</td>\n",
       "      <td>13</td>\n",
       "      <td>59</td>\n",
       "      <td>0</td>\n",
       "    </tr>\n",
       "    <tr>\n",
       "      <th>34</th>\n",
       "      <td>36</td>\n",
       "      <td>18</td>\n",
       "      <td>3</td>\n",
       "      <td>0</td>\n",
       "      <td>1</td>\n",
       "      <td>6</td>\n",
       "      <td>10</td>\n",
       "      <td>3</td>\n",
       "      <td>16</td>\n",
       "      <td>58</td>\n",
       "      <td>0</td>\n",
       "    </tr>\n",
       "  </tbody>\n",
       "</table>\n",
       "</div>"
      ],
      "text/plain": [
       "    ID  EQUIPO  PAIS  PARTIDOS_JUGADOS  GANADOS  EMPATES  PERDIDOS  \\\n",
       "0    1      17     3                 0       12        2         1   \n",
       "1    2      15     3                 0       11        4         0   \n",
       "2    3       4     0                 1        8        1         3   \n",
       "3    4      24     2                 0       10        4         2   \n",
       "4    5      26     1                 0       10        4         2   \n",
       "5    6      20     4                 0       10        4         2   \n",
       "6    7      10     4                 0        9        5         2   \n",
       "7    8      22     4                 0        8        3         5   \n",
       "8    9       7     0                 1        7        0         7   \n",
       "9   10       6     3                 0        6        7         4   \n",
       "10  11       3     1                 0        6        6         5   \n",
       "11  12      14     0                 1        4       10         6   \n",
       "12  13      32     3                 0        7        1         9   \n",
       "13  14      19     2                 0        6        4         7   \n",
       "14  15       2     1                 0        6        4         7   \n",
       "15  16      30     1                 0        3        9         2   \n",
       "16  17      11     4                 0        5        6         6   \n",
       "17  18      21     2                 0        5        5         7   \n",
       "18  19       0     3                 0        7        0        11   \n",
       "19  20      28     2                 0        5        2        10   \n",
       "20  21      23     2                 0        5        3         9   \n",
       "21  22      25     0                 1        2        3         8   \n",
       "22  23       5     1                 0        4        4         9   \n",
       "23  24      12     4                 0        3        6         8   \n",
       "24  25      33     0                 1       13        5         7   \n",
       "25  26      31     2                 0        2        8         7   \n",
       "26  27      29     4                 0        3        5         9   \n",
       "27  28      13     2                 0        2        7         8   \n",
       "28  29       8     4                 0        4        1        12   \n",
       "29  30      27     1                 0        2        7         8   \n",
       "30  31       9     0                 1        0       10         7   \n",
       "31  32      16     2                 0        2        7         8   \n",
       "32  33      34     1                 0        1        7         9   \n",
       "33  34       1     4                 0        1        7         9   \n",
       "34  36      18     3                 0        1        6        10   \n",
       "\n",
       "    GOLES_A_FAVOR  GOLES_EN_CONTRA  PUNTOS  GANADOR  \n",
       "0              24                0      93        1  \n",
       "1              22                0      92        0  \n",
       "2              23                6      77        1  \n",
       "3              21                5      86        1  \n",
       "4              17                2      86        1  \n",
       "5              12                2      86        0  \n",
       "6              19                3      84        0  \n",
       "7              14                2      79        0  \n",
       "8              20               15      69        2  \n",
       "9              15                4      74        0  \n",
       "10             25                7      73        0  \n",
       "11             17               12      64        2  \n",
       "12             12                8      71        0  \n",
       "13              9                7      71        0  \n",
       "14             10                9      71        0  \n",
       "15              2                1      70        0  \n",
       "16              3                6      70        0  \n",
       "17             10                8      69        0  \n",
       "18              7               13      69        0  \n",
       "19             18                8      66        0  \n",
       "20              1                5      66        0  \n",
       "21             13                6      58        2  \n",
       "22              8                8      65        0  \n",
       "23             16               17      64        0  \n",
       "24             25               10      57        2  \n",
       "25              6                9      63        0  \n",
       "26              5                9      63        0  \n",
       "27              8               13      62        0  \n",
       "28              5               14      62        0  \n",
       "29              0                6      62        0  \n",
       "30              4               11      55        2  \n",
       "31             11               14      61        0  \n",
       "32              9                6      59        0  \n",
       "33             10               13      59        0  \n",
       "34              3               16      58        0  "
      ]
     },
     "execution_count": 409,
     "metadata": {},
     "output_type": "execute_result"
    }
   ],
   "source": [
    "df"
   ]
  },
  {
   "cell_type": "markdown",
   "id": "de8b5ded",
   "metadata": {},
   "source": [
    "# ··· ··· ··· ··· ··· ··· ··· ··· ··· ··· ··· ··· ··· ··· ··· ··· ··· ··· ··· #"
   ]
  },
  {
   "cell_type": "markdown",
   "id": "a6aac601",
   "metadata": {},
   "source": [
    "### 3.- Rellena los nulos\n",
    "###"
   ]
  },
  {
   "cell_type": "code",
   "execution_count": 410,
   "id": "1cf3687a",
   "metadata": {},
   "outputs": [
    {
     "data": {
      "text/plain": [
       "ID                  0\n",
       "EQUIPO              0\n",
       "PAIS                0\n",
       "PARTIDOS_JUGADOS    0\n",
       "GANADOS             0\n",
       "EMPATES             0\n",
       "PERDIDOS            0\n",
       "GOLES_A_FAVOR       0\n",
       "GOLES_EN_CONTRA     0\n",
       "PUNTOS              0\n",
       "GANADOR             0\n",
       "dtype: int64"
      ]
     },
     "execution_count": 410,
     "metadata": {},
     "output_type": "execute_result"
    }
   ],
   "source": [
    "df.isnull().sum()"
   ]
  },
  {
   "cell_type": "markdown",
   "id": "641ac1c0",
   "metadata": {},
   "source": [
    "# ··· ··· ··· ··· ··· ··· ··· ··· ··· ··· ··· ··· ··· ··· ··· ··· ··· ··· ··· #"
   ]
  },
  {
   "cell_type": "markdown",
   "id": "a83c5e34",
   "metadata": {},
   "source": [
    "### 4.- Dibuja el histograma de cada columna \n",
    "###"
   ]
  },
  {
   "cell_type": "code",
   "execution_count": 411,
   "id": "6cd156d8",
   "metadata": {},
   "outputs": [
    {
     "data": {
      "image/png": "[encoded data removed]",
      "text/plain": [
       "<Figure size 432x288 with 1 Axes>"
      ]
     },
     "metadata": {
      "image/png": {
       "height": 248,
       "width": 382
      },
      "needs_background": "light"
     },
     "output_type": "display_data"
    }
   ],
   "source": [
    "histogram = df.plot.hist()"
   ]
  },
  {
   "cell_type": "code",
   "execution_count": 412,
   "id": "3cde81e3",
   "metadata": {},
   "outputs": [
    {
     "data": {
      "image/png": "[encoded data removed]",
      "text/plain": [
       "<Figure size 432x288 with 1 Axes>"
      ]
     },
     "metadata": {
      "image/png": {
       "height": 248,
       "width": 385
      },
      "needs_background": "light"
     },
     "output_type": "display_data"
    }
   ],
   "source": [
    "histogram = df.ID.plot.hist()"
   ]
  },
  {
   "cell_type": "code",
   "execution_count": 413,
   "id": "0c0614ae",
   "metadata": {},
   "outputs": [
    {
     "data": {
      "image/png": "[encoded data removed]",
      "text/plain": [
       "<Figure size 432x288 with 1 Axes>"
      ]
     },
     "metadata": {
      "image/png": {
       "height": 248,
       "width": 385
      },
      "needs_background": "light"
     },
     "output_type": "display_data"
    }
   ],
   "source": [
    "histogram = df.EQUIPO.plot.hist()"
   ]
  },
  {
   "cell_type": "code",
   "execution_count": 414,
   "id": "e9b2e5cb",
   "metadata": {},
   "outputs": [
    {
     "data": {
      "image/png": "[encoded data removed]",
      "text/plain": [
       "<Figure size 432x288 with 1 Axes>"
      ]
     },
     "metadata": {
      "image/png": {
       "height": 248,
       "width": 376
      },
      "needs_background": "light"
     },
     "output_type": "display_data"
    }
   ],
   "source": [
    "histogram = df.PAIS.plot.hist()"
   ]
  },
  {
   "cell_type": "code",
   "execution_count": 415,
   "id": "512f2739",
   "metadata": {},
   "outputs": [
    {
     "data": {
      "image/png": "[encoded data removed]",
      "text/plain": [
       "<Figure size 432x288 with 1 Axes>"
      ]
     },
     "metadata": {
      "image/png": {
       "height": 248,
       "width": 382
      },
      "needs_background": "light"
     },
     "output_type": "display_data"
    }
   ],
   "source": [
    "histogram = df.PARTIDOS_JUGADOS.plot.hist()"
   ]
  },
  {
   "cell_type": "code",
   "execution_count": 416,
   "id": "fa6900f5",
   "metadata": {},
   "outputs": [
    {
     "data": {
      "image/png": "[encoded data removed]",
      "text/plain": [
       "<Figure size 432x288 with 1 Axes>"
      ]
     },
     "metadata": {
      "image/png": {
       "height": 248,
       "width": 376
      },
      "needs_background": "light"
     },
     "output_type": "display_data"
    }
   ],
   "source": [
    "histogram = df.GANADOS.plot.hist()"
   ]
  },
  {
   "cell_type": "code",
   "execution_count": 417,
   "id": "e820cbac",
   "metadata": {},
   "outputs": [
    {
     "data": {
      "image/png": "[encoded data removed]",
      "text/plain": [
       "<Figure size 432x288 with 1 Axes>"
      ]
     },
     "metadata": {
      "image/png": {
       "height": 248,
       "width": 376
      },
      "needs_background": "light"
     },
     "output_type": "display_data"
    }
   ],
   "source": [
    "histogram = df.EMPATES.plot.hist()"
   ]
  },
  {
   "cell_type": "code",
   "execution_count": 418,
   "id": "ee91227a",
   "metadata": {},
   "outputs": [
    {
     "data": {
      "image/png": "[encoded data removed]",
      "text/plain": [
       "<Figure size 432x288 with 1 Axes>"
      ]
     },
     "metadata": {
      "image/png": {
       "height": 248,
       "width": 376
      },
      "needs_background": "light"
     },
     "output_type": "display_data"
    }
   ],
   "source": [
    "histogram = df.PERDIDOS.plot.hist()"
   ]
  },
  {
   "cell_type": "code",
   "execution_count": 419,
   "id": "7ce0284c",
   "metadata": {},
   "outputs": [
    {
     "data": {
      "image/png": "[encoded data removed]",
      "text/plain": [
       "<Figure size 432x288 with 1 Axes>"
      ]
     },
     "metadata": {
      "image/png": {
       "height": 248,
       "width": 376
      },
      "needs_background": "light"
     },
     "output_type": "display_data"
    }
   ],
   "source": [
    "histogram = df.GOLES_A_FAVOR.plot.hist()"
   ]
  },
  {
   "cell_type": "code",
   "execution_count": 420,
   "id": "988aa0c5",
   "metadata": {},
   "outputs": [
    {
     "data": {
      "image/png": "[encoded data removed]",
      "text/plain": [
       "<Figure size 432x288 with 1 Axes>"
      ]
     },
     "metadata": {
      "image/png": {
       "height": 248,
       "width": 380
      },
      "needs_background": "light"
     },
     "output_type": "display_data"
    }
   ],
   "source": [
    "histogram = df.GOLES_EN_CONTRA.plot.hist()"
   ]
  },
  {
   "cell_type": "code",
   "execution_count": 421,
   "id": "efac25d0",
   "metadata": {},
   "outputs": [
    {
     "data": {
      "image/png": "[encoded data removed]",
      "text/plain": [
       "<Figure size 432x288 with 1 Axes>"
      ]
     },
     "metadata": {
      "image/png": {
       "height": 248,
       "width": 376
      },
      "needs_background": "light"
     },
     "output_type": "display_data"
    }
   ],
   "source": [
    "histogram = df.PUNTOS.plot.hist()"
   ]
  },
  {
   "cell_type": "code",
   "execution_count": 422,
   "id": "99258293",
   "metadata": {},
   "outputs": [
    {
     "data": {
      "image/png": "[encoded data removed]",
      "text/plain": [
       "<Figure size 432x288 with 1 Axes>"
      ]
     },
     "metadata": {
      "image/png": {
       "height": 248,
       "width": 382
      },
      "needs_background": "light"
     },
     "output_type": "display_data"
    }
   ],
   "source": [
    "histogram = df.GANADOR.plot.hist()"
   ]
  },
  {
   "cell_type": "code",
   "execution_count": 423,
   "id": "849e4711",
   "metadata": {},
   "outputs": [
    {
     "data": {
      "text/plain": [
       "Index(['ID', 'EQUIPO', 'PAIS', 'PARTIDOS_JUGADOS', 'GANADOS', 'EMPATES',\n",
       "       'PERDIDOS', 'GOLES_A_FAVOR', 'GOLES_EN_CONTRA', 'PUNTOS', 'GANADOR'],\n",
       "      dtype='object')"
      ]
     },
     "execution_count": 423,
     "metadata": {},
     "output_type": "execute_result"
    }
   ],
   "source": [
    "df.columns\n"
   ]
  },
  {
   "cell_type": "code",
   "execution_count": 424,
   "id": "a1da2652",
   "metadata": {},
   "outputs": [
    {
     "data": {
      "image/png": "[encoded data removed]",
      "text/plain": [
       "<Figure size 1296x1440 with 11 Axes>"
      ]
     },
     "metadata": {
      "image/png": {
       "height": 864,
       "width": 1062
      },
      "needs_background": "light"
     },
     "output_type": "display_data"
    }
   ],
   "source": [
    "plt.figure(figsize=(18,20))\n",
    "n = 0\n",
    "for i, column in enumerate(df.columns):\n",
    "    n+=1\n",
    "    plt.subplot(4, 4, n)\n",
    "    try:\n",
    "        sns.distplot(df[column], bins=30)\n",
    "    except:\n",
    "        pass\n",
    "    plt.title('Distribución var {}'.format(column))\n",
    "plt.show()"
   ]
  },
  {
   "cell_type": "markdown",
   "id": "2ff71531",
   "metadata": {},
   "source": [
    "# ··· ··· ··· ··· ··· ··· ··· ··· ··· ··· ··· ··· ··· ··· ··· ··· ··· ··· ··· #"
   ]
  },
  {
   "cell_type": "markdown",
   "id": "535aa427",
   "metadata": {},
   "source": [
    "### 5.- Aplica el test de Shapiro\n",
    "###"
   ]
  },
  {
   "cell_type": "code",
   "execution_count": 502,
   "id": "9d7c73a3",
   "metadata": {},
   "outputs": [
    {
     "data": {
      "text/plain": [
       "ShapiroResult(statistic=0.9090792536735535, pvalue=1.2298131650823052e-06)"
      ]
     },
     "execution_count": 502,
     "metadata": {},
     "output_type": "execute_result"
    }
   ],
   "source": [
    "shapiro(df)"
   ]
  },
  {
   "cell_type": "code",
   "execution_count": 506,
   "id": "edb8ca4b",
   "metadata": {},
   "outputs": [
    {
     "data": {
      "text/plain": [
       "ShapiroResult(statistic=1.0, pvalue=1.0)"
      ]
     },
     "execution_count": 506,
     "metadata": {},
     "output_type": "execute_result"
    }
   ],
   "source": [
    "shapiro(df['PARTIDOS_JUGADOS'])"
   ]
  },
  {
   "cell_type": "code",
   "execution_count": 508,
   "id": "4f19f0fe",
   "metadata": {},
   "outputs": [
    {
     "data": {
      "text/plain": [
       "ShapiroResult(statistic=0.9152485728263855, pvalue=0.026508912444114685)"
      ]
     },
     "execution_count": 508,
     "metadata": {},
     "output_type": "execute_result"
    }
   ],
   "source": [
    "shapiro(df['GANADOS'])"
   ]
  },
  {
   "cell_type": "code",
   "execution_count": 509,
   "id": "8936e3cb",
   "metadata": {},
   "outputs": [
    {
     "data": {
      "text/plain": [
       "ShapiroResult(statistic=0.9569274187088013, pvalue=0.294159471988678)"
      ]
     },
     "execution_count": 509,
     "metadata": {},
     "output_type": "execute_result"
    }
   ],
   "source": [
    "shapiro(df['EMPATES'])"
   ]
  },
  {
   "cell_type": "code",
   "execution_count": 510,
   "id": "0e915a25",
   "metadata": {},
   "outputs": [
    {
     "data": {
      "text/plain": [
       "ShapiroResult(statistic=0.9541735053062439, pvalue=0.2517890930175781)"
      ]
     },
     "execution_count": 510,
     "metadata": {},
     "output_type": "execute_result"
    }
   ],
   "source": [
    "shapiro(df['GOLES_A_FAVOR'])"
   ]
  },
  {
   "cell_type": "code",
   "execution_count": 425,
   "id": "8e2f4bd4",
   "metadata": {},
   "outputs": [
    {
     "data": {
      "image/png": "[encoded data removed]",
      "text/plain": [
       "<Figure size 648x648 with 2 Axes>"
      ]
     },
     "metadata": {
      "image/png": {
       "height": 572,
       "width": 611
      },
      "needs_background": "light"
     },
     "output_type": "display_data"
    }
   ],
   "source": [
    "# 3.- Dibuja el grafico de la matriz de correlación\n",
    "\n",
    "matriz_correlaciones = df.corr(method='pearson')\n",
    "n_ticks = len(df.columns)\n",
    "plt.figure( figsize=(9, 9) )\n",
    "plt.xticks(range(n_ticks), df.columns, rotation='vertical')\n",
    "plt.yticks(range(n_ticks), df.columns)\n",
    "plt.colorbar(plt.imshow(matriz_correlaciones, interpolation='nearest', \n",
    "                            vmin=-1., vmax=1., \n",
    "                            cmap=plt.get_cmap('Blues')))\n",
    "_ = plt.title('Matriz de correlaciones de Pearson')"
   ]
  },
  {
   "cell_type": "code",
   "execution_count": null,
   "id": "52ef924f",
   "metadata": {},
   "outputs": [],
   "source": []
  },
  {
   "cell_type": "code",
   "execution_count": 426,
   "id": "d801f600",
   "metadata": {},
   "outputs": [],
   "source": [
    "# 4.- Normaliza los datos numéricos y divídelos en train\n",
    "# y test\n",
    "\n",
    "X = df.drop('GANADOR', axis=1)\n",
    "Y = df['GANADOR']"
   ]
  },
  {
   "cell_type": "code",
   "execution_count": 427,
   "id": "7fb9622e",
   "metadata": {},
   "outputs": [
    {
     "data": {
      "text/html": [
       "<div>\n",
       "<style scoped>\n",
       "    .dataframe tbody tr th:only-of-type {\n",
       "        vertical-align: middle;\n",
       "    }\n",
       "\n",
       "    .dataframe tbody tr th {\n",
       "        vertical-align: top;\n",
       "    }\n",
       "\n",
       "    .dataframe thead th {\n",
       "        text-align: right;\n",
       "    }\n",
       "</style>\n",
       "<table border=\"1\" class=\"dataframe\">\n",
       "  <thead>\n",
       "    <tr style=\"text-align: right;\">\n",
       "      <th></th>\n",
       "      <th>Correlación con la target</th>\n",
       "    </tr>\n",
       "  </thead>\n",
       "  <tbody>\n",
       "    <tr>\n",
       "      <th>PARTIDOS_JUGADOS</th>\n",
       "      <td>0.899185</td>\n",
       "    </tr>\n",
       "    <tr>\n",
       "      <th>PAIS</th>\n",
       "      <td>-0.652327</td>\n",
       "    </tr>\n",
       "    <tr>\n",
       "      <th>GOLES_A_FAVOR</th>\n",
       "      <td>0.400489</td>\n",
       "    </tr>\n",
       "    <tr>\n",
       "      <th>GANADOS</th>\n",
       "      <td>0.186368</td>\n",
       "    </tr>\n",
       "    <tr>\n",
       "      <th>PERDIDOS</th>\n",
       "      <td>-0.160925</td>\n",
       "    </tr>\n",
       "    <tr>\n",
       "      <th>ID</th>\n",
       "      <td>-0.160746</td>\n",
       "    </tr>\n",
       "    <tr>\n",
       "      <th>PUNTOS</th>\n",
       "      <td>-0.100099</td>\n",
       "    </tr>\n",
       "    <tr>\n",
       "      <th>GOLES_EN_CONTRA</th>\n",
       "      <td>0.094378</td>\n",
       "    </tr>\n",
       "    <tr>\n",
       "      <th>EQUIPO</th>\n",
       "      <td>0.035116</td>\n",
       "    </tr>\n",
       "    <tr>\n",
       "      <th>EMPATES</th>\n",
       "      <td>0.003034</td>\n",
       "    </tr>\n",
       "  </tbody>\n",
       "</table>\n",
       "</div>"
      ],
      "text/plain": [
       "                  Correlación con la target\n",
       "PARTIDOS_JUGADOS                   0.899185\n",
       "PAIS                              -0.652327\n",
       "GOLES_A_FAVOR                      0.400489\n",
       "GANADOS                            0.186368\n",
       "PERDIDOS                          -0.160925\n",
       "ID                                -0.160746\n",
       "PUNTOS                            -0.100099\n",
       "GOLES_EN_CONTRA                    0.094378\n",
       "EQUIPO                             0.035116\n",
       "EMPATES                            0.003034"
      ]
     },
     "execution_count": 427,
     "metadata": {},
     "output_type": "execute_result"
    }
   ],
   "source": [
    "correlaciones_target = matriz_correlaciones.values[ -1, : -1]\n",
    "indices_inversos =  abs(correlaciones_target[ : ]).argsort()[ : : -1]\n",
    "diccionario = {}\n",
    "for nombre, correlacion in zip( X.columns[indices_inversos], list(correlaciones_target[indices_inversos] ) ):\n",
    "    diccionario[nombre] = correlacion\n",
    "pd.DataFrame.from_dict(diccionario, orient='index', columns=['Correlación con la target'])"
   ]
  },
  {
   "cell_type": "code",
   "execution_count": 428,
   "id": "fb2938d2",
   "metadata": {},
   "outputs": [],
   "source": [
    "obj_escalar = StandardScaler()\n",
    "X_estandarizado = obj_escalar.fit_transform(X)"
   ]
  },
  {
   "cell_type": "code",
   "execution_count": 429,
   "id": "3803fb5c",
   "metadata": {},
   "outputs": [],
   "source": [
    "X_train, X_test, Y_train, Y_test = train_test_split(X_estandarizado, Y, test_size=0.2, random_state=0)"
   ]
  },
  {
   "cell_type": "code",
   "execution_count": 430,
   "id": "b6aa0d53",
   "metadata": {},
   "outputs": [],
   "source": [
    "# 5.- Aplica el modelo de Regresión Logistica,\n",
    "# umbraliza los datos y matriz de confusión (2 punto)\n",
    "modelo = LogisticRegression()\n",
    "parametros = {\"C\": [0.01, 0.02, 0.03, 0.04, 0.05, 0.06, 0.07, 0.08,0.09], \n",
    "              \"class_weight\":['balanced', None]}"
   ]
  },
  {
   "cell_type": "code",
   "execution_count": 431,
   "id": "3c00f1c7",
   "metadata": {},
   "outputs": [
    {
     "data": {
      "text/plain": [
       "GridSearchCV(cv=5, estimator=LogisticRegression(),\n",
       "             param_grid={'C': [0.01, 0.02, 0.03, 0.04, 0.05, 0.06, 0.07, 0.08,\n",
       "                               0.09],\n",
       "                         'class_weight': ['balanced', None]},\n",
       "             scoring='roc_auc')"
      ]
     },
     "execution_count": 431,
     "metadata": {},
     "output_type": "execute_result"
    }
   ],
   "source": [
    "modelo_gs = GridSearchCV(modelo, param_grid=parametros,cv = 5, scoring='roc_auc')\n",
    "modelo_gs.fit(X_train, Y_train)"
   ]
  },
  {
   "cell_type": "code",
   "execution_count": 432,
   "id": "7ddded24",
   "metadata": {},
   "outputs": [
    {
     "name": "stdout",
     "output_type": "stream",
     "text": [
      "{'C': 0.01, 'class_weight': 'balanced'} \n",
      "ROC AUC: nan\n"
     ]
    }
   ],
   "source": [
    "print(modelo_gs.best_params_, \"\\nROC AUC: {}\".format(round(modelo_gs.best_score_,2)))"
   ]
  },
  {
   "cell_type": "code",
   "execution_count": 433,
   "id": "1ebcdfc2",
   "metadata": {},
   "outputs": [],
   "source": [
    "df_search = pd.DataFrame.from_dict(modelo_gs.cv_results_)"
   ]
  },
  {
   "cell_type": "code",
   "execution_count": 434,
   "id": "0bf882dc",
   "metadata": {},
   "outputs": [],
   "source": [
    "reg_log =  LogisticRegression(C=modelo_gs.best_params_['C'],\n",
    "                              class_weight=modelo_gs.best_params_['class_weight'])"
   ]
  },
  {
   "cell_type": "code",
   "execution_count": 435,
   "id": "86f9cf34",
   "metadata": {},
   "outputs": [
    {
     "data": {
      "text/plain": [
       "LogisticRegression(C=0.01, class_weight='balanced')"
      ]
     },
     "execution_count": 435,
     "metadata": {},
     "output_type": "execute_result"
    }
   ],
   "source": [
    "reg_log.fit(X_train, Y_train)"
   ]
  },
  {
   "cell_type": "code",
   "execution_count": 436,
   "id": "172c7c15",
   "metadata": {},
   "outputs": [],
   "source": [
    "y_test_pred_prob = reg_log.predict_proba(X_test)\n",
    "y_test_pred_prob_pos = y_test_pred_prob[np.where(Y_test == 1)[0]]\n",
    "y_test_pred_prob_neg = y_test_pred_prob[np.where(Y_test == 0)[0]]"
   ]
  },
  {
   "cell_type": "code",
   "execution_count": 437,
   "id": "aef8efdd",
   "metadata": {},
   "outputs": [],
   "source": [
    "preds = y_test_pred_prob[:,1]\n",
    "fpr, tpr, threshold = metrics.roc_curve(Y_test, preds)\n",
    "roc_auc = metrics.auc(fpr, tpr)"
   ]
  },
  {
   "cell_type": "code",
   "execution_count": 438,
   "id": "df46cade",
   "metadata": {},
   "outputs": [],
   "source": [
    "umbral = 0.6\n",
    "y_umbralizadas = 1*(y_test_pred_prob[:, 1] > umbral)"
   ]
  },
  {
   "cell_type": "code",
   "execution_count": 439,
   "id": "9aadde81",
   "metadata": {},
   "outputs": [
    {
     "name": "stdout",
     "output_type": "stream",
     "text": [
      "Matriz de confusión\n",
      " [[7]]\n",
      "\n",
      "Accuracy\t1.0\n",
      "Sensitividad\t0.0\n",
      "Precisión\t0.0\n"
     ]
    }
   ],
   "source": [
    "print(u\"Matriz de confusión\\n\", metrics.confusion_matrix(Y_test, y_umbralizadas))\n",
    "print(\"\\nAccuracy\\t{}\".format(round(metrics.accuracy_score(Y_test, y_umbralizadas),2)))  \n",
    "print(\"Sensitividad\\t{}\".format(round(metrics.recall_score(Y_test, y_umbralizadas),2)))\n",
    "print(u\"Precisión\\t{}\".format(round(metrics.precision_score(Y_test, y_umbralizadas),2)))"
   ]
  },
  {
   "cell_type": "markdown",
   "id": "678fdeb3",
   "metadata": {},
   "source": [
    "# ··· ··· ··· ··· ··· ··· ··· ··· ··· ··· ··· ··· ··· ··· ··· ··· ··· ··· ··· #"
   ]
  },
  {
   "cell_type": "markdown",
   "id": "982c7f39",
   "metadata": {},
   "source": [
    "### 6.- Dibula el gráfico de la matriz de correlación \n"
   ]
  },
  {
   "cell_type": "markdown",
   "id": "961ec155",
   "metadata": {},
   "source": [
    "### 7.- Normaliza los datos numéricos y divídelos en train y test\n",
    "###"
   ]
  },
  {
   "cell_type": "code",
   "execution_count": 440,
   "id": "580396bd",
   "metadata": {},
   "outputs": [
    {
     "name": "stdout",
     "output_type": "stream",
     "text": [
      "El mejor estimador es: DecisionTreeRegressor(max_depth=4)\n"
     ]
    }
   ],
   "source": [
    "# 6.- Aplica el modelo de Arboles de Decisión,\n",
    "# umbraliza los datos y matriz de confusión\n",
    "\n",
    "regr = DecisionTreeRegressor()\n",
    "params = {\"max_depth\": range(3, 7)}\n",
    "regr_opt = GridSearchCV(regr, params, cv=3)\n",
    "regr_opt.fit(X_train, Y_train)\n",
    "print('El mejor estimador es: {}'.format(regr_opt.best_estimator_))"
   ]
  },
  {
   "cell_type": "code",
   "execution_count": 441,
   "id": "d8899b25",
   "metadata": {},
   "outputs": [
    {
     "data": {
      "text/plain": [
       "(7,)"
      ]
     },
     "execution_count": 441,
     "metadata": {},
     "output_type": "execute_result"
    }
   ],
   "source": [
    "y_test_pred = regr_opt.predict(X_test)\n",
    "y_test_pred.shape"
   ]
  },
  {
   "cell_type": "code",
   "execution_count": 442,
   "id": "e04970bd",
   "metadata": {},
   "outputs": [],
   "source": [
    "umbral = 0.6\n",
    "y_umbralizadas = 1*(y_test_pred[:] > umbral)"
   ]
  },
  {
   "cell_type": "code",
   "execution_count": 443,
   "id": "5ecd7a77",
   "metadata": {},
   "outputs": [
    {
     "data": {
      "text/plain": [
       "(7,)"
      ]
     },
     "execution_count": 443,
     "metadata": {},
     "output_type": "execute_result"
    }
   ],
   "source": [
    "Y_test.shape"
   ]
  },
  {
   "cell_type": "code",
   "execution_count": 444,
   "id": "d591d654",
   "metadata": {},
   "outputs": [
    {
     "data": {
      "text/plain": [
       "29    0\n",
       "20    0\n",
       "16    0\n",
       "28    0\n",
       "22    0\n",
       "15    0\n",
       "10    0\n",
       "Name: GANADOR, dtype: int64"
      ]
     },
     "execution_count": 444,
     "metadata": {},
     "output_type": "execute_result"
    }
   ],
   "source": [
    "Y_test"
   ]
  },
  {
   "cell_type": "code",
   "execution_count": 445,
   "id": "a2ebe737",
   "metadata": {},
   "outputs": [
    {
     "data": {
      "text/plain": [
       "(7,)"
      ]
     },
     "execution_count": 445,
     "metadata": {},
     "output_type": "execute_result"
    }
   ],
   "source": [
    "y_umbralizadas.shape"
   ]
  },
  {
   "cell_type": "code",
   "execution_count": 446,
   "id": "25a94617",
   "metadata": {},
   "outputs": [
    {
     "data": {
      "text/plain": [
       "array([0, 0, 0, 0, 0, 0, 0])"
      ]
     },
     "execution_count": 446,
     "metadata": {},
     "output_type": "execute_result"
    }
   ],
   "source": [
    "y_umbralizadas"
   ]
  },
  {
   "cell_type": "code",
   "execution_count": 447,
   "id": "9ca7f22e",
   "metadata": {},
   "outputs": [
    {
     "name": "stdout",
     "output_type": "stream",
     "text": [
      "Matriz de confusión\n",
      " [[7]]\n"
     ]
    }
   ],
   "source": [
    "print(u\"Matriz de confusión\\n\", metrics.confusion_matrix(Y_test, y_umbralizadas))"
   ]
  },
  {
   "cell_type": "markdown",
   "id": "90fc24b3",
   "metadata": {},
   "source": [
    "# ··· ··· ··· ··· ··· ··· ··· ··· ··· ··· ··· ··· ··· ··· ··· ··· ··· ··· ··· #"
   ]
  },
  {
   "cell_type": "markdown",
   "id": "0453c75c",
   "metadata": {},
   "source": [
    "### 7.- Normaliza los datos numéricos y divídelos en train y test"
   ]
  },
  {
   "cell_type": "code",
   "execution_count": 448,
   "id": "99f582e3",
   "metadata": {},
   "outputs": [],
   "source": [
    "# 7.- Aplica el modelo de KNN Vecinos , umbraliza los\n",
    "# datos y matriz de confusión\n",
    "\n",
    "y_ruido = np.sin(X_train)[:, 0] + np.random.normal(size=X_train.shape[0],scale=0.20)"
   ]
  },
  {
   "cell_type": "code",
   "execution_count": 449,
   "id": "ab077d55",
   "metadata": {},
   "outputs": [],
   "source": [
    "x_train2=X_train[:,0]"
   ]
  },
  {
   "cell_type": "code",
   "execution_count": 450,
   "id": "1465349f",
   "metadata": {},
   "outputs": [],
   "source": [
    "clf = KNeighborsRegressor()\n",
    "params = {\"n_neighbors\": range(1, 20)}"
   ]
  },
  {
   "cell_type": "code",
   "execution_count": 451,
   "id": "afda0dc3",
   "metadata": {},
   "outputs": [
    {
     "name": "stdout",
     "output_type": "stream",
     "text": [
      "El mejor estimador es: KNeighborsRegressor(n_neighbors=6)\n"
     ]
    }
   ],
   "source": [
    "clf_gs = GridSearchCV(clf, params, cv=3)\n",
    "clf_gs.fit(X_train, Y_train)\n",
    "print('El mejor estimador es: {}'.format(clf_gs.best_estimator_))"
   ]
  },
  {
   "cell_type": "code",
   "execution_count": 452,
   "id": "cb8a6538",
   "metadata": {},
   "outputs": [],
   "source": [
    "y_test_predict=clf_gs.predict(X_test)"
   ]
  },
  {
   "cell_type": "code",
   "execution_count": 453,
   "id": "b874844f",
   "metadata": {},
   "outputs": [],
   "source": [
    "umbral = 0.6\n",
    "y_umbralizadas = 1*(y_test_predict[:] > umbral)"
   ]
  },
  {
   "cell_type": "code",
   "execution_count": 454,
   "id": "523a870e",
   "metadata": {},
   "outputs": [
    {
     "name": "stdout",
     "output_type": "stream",
     "text": [
      "Matriz de confusión\n",
      " [[7]]\n"
     ]
    }
   ],
   "source": [
    "print(u\"Matriz de confusión\\n\", metrics.confusion_matrix(Y_test, y_umbralizadas))"
   ]
  },
  {
   "cell_type": "code",
   "execution_count": 457,
   "id": "c85d6caf",
   "metadata": {},
   "outputs": [
    {
     "name": "stdout",
     "output_type": "stream",
     "text": [
      "Using matplotlib backend: Qt5Agg\n",
      "Populating the interactive namespace from numpy and matplotlib\n"
     ]
    }
   ],
   "source": [
    "%pylab\n",
    "%matplotlib inline\n",
    "\n",
    "%config InlineBackend.figure_format = 'retina'"
   ]
  },
  {
   "cell_type": "code",
   "execution_count": 458,
   "id": "8199af78",
   "metadata": {},
   "outputs": [
    {
     "data": {
      "text/html": [
       "<div>\n",
       "<style scoped>\n",
       "    .dataframe tbody tr th:only-of-type {\n",
       "        vertical-align: middle;\n",
       "    }\n",
       "\n",
       "    .dataframe tbody tr th {\n",
       "        vertical-align: top;\n",
       "    }\n",
       "\n",
       "    .dataframe thead th {\n",
       "        text-align: right;\n",
       "    }\n",
       "</style>\n",
       "<table border=\"1\" class=\"dataframe\">\n",
       "  <thead>\n",
       "    <tr style=\"text-align: right;\">\n",
       "      <th></th>\n",
       "      <th>ID</th>\n",
       "      <th>EQUIPO</th>\n",
       "      <th>PAIS</th>\n",
       "      <th>PARTIDOS_JUGADOS</th>\n",
       "      <th>GANADOS</th>\n",
       "      <th>EMPATES</th>\n",
       "      <th>PERDIDOS</th>\n",
       "      <th>GOLES_A_FAVOR</th>\n",
       "      <th>GOLES_EN_CONTRA</th>\n",
       "      <th>PUNTOS</th>\n",
       "      <th>GANADOR</th>\n",
       "    </tr>\n",
       "  </thead>\n",
       "  <tbody>\n",
       "    <tr>\n",
       "      <th>0</th>\n",
       "      <td>1</td>\n",
       "      <td>Manchester City</td>\n",
       "      <td>INGLATERRA</td>\n",
       "      <td>38.0</td>\n",
       "      <td>29.0</td>\n",
       "      <td>6.0</td>\n",
       "      <td>3</td>\n",
       "      <td>99.0</td>\n",
       "      <td>26</td>\n",
       "      <td>93</td>\n",
       "      <td>si</td>\n",
       "    </tr>\n",
       "    <tr>\n",
       "      <th>1</th>\n",
       "      <td>2</td>\n",
       "      <td>Liverpool</td>\n",
       "      <td>INGLATERRA</td>\n",
       "      <td>38.0</td>\n",
       "      <td>28.0</td>\n",
       "      <td>8.0</td>\n",
       "      <td>2</td>\n",
       "      <td>94.0</td>\n",
       "      <td>26</td>\n",
       "      <td>92</td>\n",
       "      <td>no</td>\n",
       "    </tr>\n",
       "    <tr>\n",
       "      <th>2</th>\n",
       "      <td>3</td>\n",
       "      <td>Bayern Munich</td>\n",
       "      <td>ALEMANIA</td>\n",
       "      <td>NaN</td>\n",
       "      <td>24.0</td>\n",
       "      <td>5.0</td>\n",
       "      <td>5</td>\n",
       "      <td>97.0</td>\n",
       "      <td>37</td>\n",
       "      <td>77</td>\n",
       "      <td>si</td>\n",
       "    </tr>\n",
       "    <tr>\n",
       "      <th>3</th>\n",
       "      <td>4</td>\n",
       "      <td>Paris S-G</td>\n",
       "      <td>FRANCIA</td>\n",
       "      <td>38.0</td>\n",
       "      <td>26.0</td>\n",
       "      <td>8.0</td>\n",
       "      <td>4</td>\n",
       "      <td>90.0</td>\n",
       "      <td>36</td>\n",
       "      <td>86</td>\n",
       "      <td>si</td>\n",
       "    </tr>\n",
       "    <tr>\n",
       "      <th>4</th>\n",
       "      <td>5</td>\n",
       "      <td>Real Madrid</td>\n",
       "      <td>ESPAÑA</td>\n",
       "      <td>38.0</td>\n",
       "      <td>26.0</td>\n",
       "      <td>8.0</td>\n",
       "      <td>4</td>\n",
       "      <td>80.0</td>\n",
       "      <td>31</td>\n",
       "      <td>86</td>\n",
       "      <td>si</td>\n",
       "    </tr>\n",
       "  </tbody>\n",
       "</table>\n",
       "</div>"
      ],
      "text/plain": [
       "   ID           EQUIPO        PAIS  PARTIDOS_JUGADOS  GANADOS  EMPATES  \\\n",
       "0   1  Manchester City  INGLATERRA              38.0     29.0      6.0   \n",
       "1   2        Liverpool  INGLATERRA              38.0     28.0      8.0   \n",
       "2   3    Bayern Munich    ALEMANIA               NaN     24.0      5.0   \n",
       "3   4        Paris S-G     FRANCIA              38.0     26.0      8.0   \n",
       "4   5      Real Madrid      ESPAÑA              38.0     26.0      8.0   \n",
       "\n",
       "   PERDIDOS  GOLES_A_FAVOR  GOLES_EN_CONTRA  PUNTOS GANADOR  \n",
       "0         3           99.0               26      93      si  \n",
       "1         2           94.0               26      92      no  \n",
       "2         5           97.0               37      77      si  \n",
       "3         4           90.0               36      86      si  \n",
       "4         4           80.0               31      86      si  "
      ]
     },
     "execution_count": 458,
     "metadata": {},
     "output_type": "execute_result"
    }
   ],
   "source": [
    "import pandas as pd\n",
    "\n",
    "df = pd.read_csv('EXAMEN_Alfredo.csv', sep = ',')\n",
    "df.head()"
   ]
  },
  {
   "cell_type": "code",
   "execution_count": null,
   "id": "70f2fa64",
   "metadata": {},
   "outputs": [],
   "source": []
  },
  {
   "cell_type": "code",
   "execution_count": null,
   "id": "70d3dcf3",
   "metadata": {},
   "outputs": [],
   "source": [
    "\n"
   ]
  },
  {
   "cell_type": "code",
   "execution_count": 1,
   "id": "bc52248b",
   "metadata": {},
   "outputs": [
    {
     "name": "stdout",
     "output_type": "stream",
     "text": [
      "Using matplotlib backend: Qt5Agg\n",
      "Populating the interactive namespace from numpy and matplotlib\n"
     ]
    },
    {
     "ename": "NameError",
     "evalue": "name 'df' is not defined",
     "output_type": "error",
     "traceback": [
      "\u001b[0;31m---------------------------------------------------------------------------\u001b[0m",
      "\u001b[0;31mNameError\u001b[0m                                 Traceback (most recent call last)",
      "\u001b[0;32m<ipython-input-1-1a3d444d36b3>\u001b[0m in \u001b[0;36m<module>\u001b[0;34m\u001b[0m\n\u001b[1;32m      9\u001b[0m \u001b[0;34m\u001b[0m\u001b[0m\n\u001b[1;32m     10\u001b[0m \u001b[0;34m\u001b[0m\u001b[0m\n\u001b[0;32m---> 11\u001b[0;31m \u001b[0mdf\u001b[0m\u001b[0;34m.\u001b[0m\u001b[0mhead\u001b[0m\u001b[0;34m(\u001b[0m\u001b[0;34m)\u001b[0m\u001b[0;34m\u001b[0m\u001b[0;34m\u001b[0m\u001b[0m\n\u001b[0m\u001b[1;32m     12\u001b[0m \u001b[0;34m\u001b[0m\u001b[0m\n\u001b[1;32m     13\u001b[0m \u001b[0mcol_names\u001b[0m \u001b[0;34m=\u001b[0m \u001b[0mlist\u001b[0m\u001b[0;34m(\u001b[0m\u001b[0mdf\u001b[0m\u001b[0;34m.\u001b[0m\u001b[0mcolumns\u001b[0m\u001b[0;34m)\u001b[0m\u001b[0;34m\u001b[0m\u001b[0;34m\u001b[0m\u001b[0m\n",
      "\u001b[0;31mNameError\u001b[0m: name 'df' is not defined"
     ]
    }
   ],
   "source": [
    "%pylab\n",
    "%matplotlib inline\n",
    "\n",
    "%config InlineBackend.figure_format = 'retina'\n",
    "\n",
    "from sklearn.cluster import KMeans\n",
    "from sklearn.metrics import silhouette_score\n",
    "from scipy.spatial.distance import cdist\n",
    "\n",
    "\n",
    "df.head()\n",
    "\n",
    "col_names = list(df.columns)\n",
    "col_names.remove('GANADORES')\n",
    "\n",
    "Granja = df[col_names]\n",
    "\n",
    "def plot_sillhouette(blobs, figure_name, max_k = 10, n_init = 10):\n",
    "    sillhouette_avgs = []\n",
    "    \n",
    "    for k in range(2, max_k):\n",
    "        kmean = KMeans(n_clusters = k, n_init = n_init).fit(blobs)\n",
    "        sillhouette_avgs.append(silhouette_score(blobs, kmean.labels_))\n",
    "        \n",
    "    plot(range(2, max_k), sillhouette_avgs)\n",
    "    title(figure_name)\n",
    "    \n",
    "plot_sillhouette(Granja, 'fich1')\n",
    "\n"
   ]
  },
  {
   "cell_type": "code",
   "execution_count": 460,
   "id": "af04048c",
   "metadata": {},
   "outputs": [
    {
     "data": {
      "text/plain": [
       "array([[ 6.        , 14.        ,  2.27272727,  0.18181818,  8.81818182,\n",
       "         3.63636364,  3.        , 19.27272727,  4.18181818, 81.72727273],\n",
       "       [25.        ,  9.08333333,  2.33333333,  0.16666667,  3.25      ,\n",
       "         5.66666667,  8.41666667,  8.5       , 12.16666667, 63.33333333],\n",
       "       [22.08333333, 27.66666667,  1.66666667,  0.16666667,  4.5       ,\n",
       "         4.91666667,  7.66666667,  9.16666667,  6.91666667, 64.58333333]])"
      ]
     },
     "execution_count": 460,
     "metadata": {},
     "output_type": "execute_result"
    }
   ],
   "source": [
    "kmeans = KMeans(n_clusters = 3, n_init = 10).fit(X)\n",
    "kmeans.cluster_centers_"
   ]
  },
  {
   "cell_type": "code",
   "execution_count": 461,
   "id": "fad6050c",
   "metadata": {},
   "outputs": [
    {
     "name": "stdout",
     "output_type": "stream",
     "text": [
      "Cluster 0\n",
      "0     Manchester City\n",
      "1           Liverpool\n",
      "2       Bayern Munich\n",
      "3           Paris S-G\n",
      "4         Real Madrid\n",
      "5               Milan\n",
      "6               Inter\n",
      "7              Napoli\n",
      "8            Dortmund\n",
      "9             Chelsea\n",
      "10          Barcelona\n",
      "Name: EQUIPO, dtype: object\n",
      "Cluster 1\n",
      "11            Leverkusen\n",
      "14    Atletico de Madrid\n",
      "16              Juventus\n",
      "18               Arsenal\n",
      "22                 Betis\n",
      "23                 Lazio\n",
      "27                  Lens\n",
      "28            Fiorentina\n",
      "30              Freiburg\n",
      "31                  Lyon\n",
      "33              Atalanta\n",
      "34        Manchester Utd\n",
      "Name: EQUIPO, dtype: object\n",
      "Cluster 2\n",
      "12        Tottenham\n",
      "13        Marseille\n",
      "15          Sevilla\n",
      "17           Monaco\n",
      "19           Rennes\n",
      "20             Nice\n",
      "21       RB Leipzig\n",
      "24     Union Berlin\n",
      "25       Strasbourg\n",
      "26             Roma\n",
      "29    Real Sociedad\n",
      "32       Villarreal\n",
      "Name: EQUIPO, dtype: object\n"
     ]
    }
   ],
   "source": [
    "clust = kmeans.predict(X)\n",
    "\n",
    "for i in range(max(clust) + 1):\n",
    "    print (\"Cluster\", i)\n",
    "    print (df['EQUIPO'][clust == i])"
   ]
  },
  {
   "cell_type": "code",
   "execution_count": 511,
   "id": "ffce9525",
   "metadata": {},
   "outputs": [
    {
     "name": "stdout",
     "output_type": "stream",
     "text": [
      "Using matplotlib backend: Qt5Agg\n",
      "Populating the interactive namespace from numpy and matplotlib\n"
     ]
    },
    {
     "ename": "ValueError",
     "evalue": "list.remove(x): x not in list",
     "output_type": "error",
     "traceback": [
      "\u001b[0;31m---------------------------------------------------------------------------\u001b[0m",
      "\u001b[0;31mValueError\u001b[0m                                Traceback (most recent call last)",
      "\u001b[0;32m<ipython-input-511-86886bb0316c>\u001b[0m in \u001b[0;36m<module>\u001b[0;34m\u001b[0m\n\u001b[1;32m     12\u001b[0m \u001b[0;34m\u001b[0m\u001b[0m\n\u001b[1;32m     13\u001b[0m \u001b[0mcol_names\u001b[0m \u001b[0;34m=\u001b[0m \u001b[0mlist\u001b[0m\u001b[0;34m(\u001b[0m\u001b[0mdf\u001b[0m\u001b[0;34m.\u001b[0m\u001b[0mcolumns\u001b[0m\u001b[0;34m)\u001b[0m\u001b[0;34m\u001b[0m\u001b[0;34m\u001b[0m\u001b[0m\n\u001b[0;32m---> 14\u001b[0;31m \u001b[0mcol_names\u001b[0m\u001b[0;34m.\u001b[0m\u001b[0mremove\u001b[0m\u001b[0;34m(\u001b[0m\u001b[0;34m'Granja'\u001b[0m\u001b[0;34m)\u001b[0m\u001b[0;34m\u001b[0m\u001b[0;34m\u001b[0m\u001b[0m\n\u001b[0m\u001b[1;32m     15\u001b[0m \u001b[0;34m\u001b[0m\u001b[0m\n\u001b[1;32m     16\u001b[0m \u001b[0mGranja\u001b[0m \u001b[0;34m=\u001b[0m \u001b[0mdf\u001b[0m\u001b[0;34m[\u001b[0m\u001b[0mcol_names\u001b[0m\u001b[0;34m]\u001b[0m\u001b[0;34m\u001b[0m\u001b[0;34m\u001b[0m\u001b[0m\n",
      "\u001b[0;31mValueError\u001b[0m: list.remove(x): x not in list"
     ]
    }
   ],
   "source": [
    "%pylab\n",
    "%matplotlib inline\n",
    "\n",
    "%config InlineBackend.figure_format = 'retina'\n",
    "\n",
    "from sklearn.cluster import KMeans\n",
    "from sklearn.metrics import silhouette_score\n",
    "from scipy.spatial.distance import cdist\n",
    "\n",
    "\n",
    "df.head()\n",
    "\n",
    "col_names = list(df.columns)\n",
    "col_names.remove()\n",
    "\n",
    "Granja = df[col_names]\n",
    "\n",
    "def plot_sillhouette(blobs, figure_name, max_k = 10, n_init = 10):\n",
    "    sillhouette_avgs = []\n",
    "    \n",
    "    for k in range(2, max_k):\n",
    "        kmean = KMeans(n_clusters = k, n_init = n_init).fit(blobs)\n",
    "        sillhouette_avgs.append(silhouette_score(blobs, kmean.labels_))\n",
    "        \n",
    "    plot(range(2, max_k), sillhouette_avgs)\n",
    "    title(figure_name)\n",
    "    \n",
    "plot_sillhouette(df, 'df')"
   ]
  },
  {
   "cell_type": "code",
   "execution_count": null,
   "id": "688fbaf2",
   "metadata": {},
   "outputs": [],
   "source": []
  }
 ],
 "metadata": {
  "kernelspec": {
   "display_name": "Python 3",
   "language": "python",
   "name": "python3"
  },
  "language_info": {
   "codemirror_mode": {
    "name": "ipython",
    "version": 3
   },
   "file_extension": ".py",
   "mimetype": "text/x-python",
   "name": "python",
   "nbconvert_exporter": "python",
   "pygments_lexer": "ipython3",
   "version": "3.8.8"
  }
 },
 "nbformat": 4,
 "nbformat_minor": 5
}
