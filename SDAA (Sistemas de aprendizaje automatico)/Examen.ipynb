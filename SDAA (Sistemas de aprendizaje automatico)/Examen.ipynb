{
 "cells": [
  {
   "cell_type": "code",
   "execution_count": 2,
   "id": "8ecc604f",
   "metadata": {},
   "outputs": [],
   "source": [
    "# Importo librerías\n",
    "import numpy as np \n",
    "import matplotlib.pyplot as plt\n",
    "from sklearn.model_selection import train_test_split, GridSearchCV\n",
    "from sklearn.tree import DecisionTreeRegressor\n",
    "from sklearn.metrics import r2_score\n",
    "import pandas as pd\n",
    "from sklearn.model_selection import train_test_split\n",
    "from sklearn.preprocessing import LabelEncoder, StandardScaler\n",
    "from sklearn.model_selection import GridSearchCV\n",
    "from sklearn.linear_model import LogisticRegression\n",
    "from sklearn.neighbors import KNeighborsRegressor\n",
    "from sklearn.metrics import mean_absolute_error\n",
    "import sklearn.metrics as metrics\n",
    "from IPython.core.display import display, HTML\n",
    "import pandas as pd\n",
    "import seaborn as sns\n",
    "import matplotlib.pyplot as plt\n",
    "%matplotlib inline\n",
    "import numpy as np\n",
    "import warnings\n",
    "warnings.filterwarnings('ignore')\n",
    "from scipy.stats import shapiro"
   ]
  },
  {
   "cell_type": "code",
   "execution_count": 3,
   "id": "804e5402",
   "metadata": {},
   "outputs": [
    {
     "data": {
      "text/html": [
       "<div>\n",
       "<style scoped>\n",
       "    .dataframe tbody tr th:only-of-type {\n",
       "        vertical-align: middle;\n",
       "    }\n",
       "\n",
       "    .dataframe tbody tr th {\n",
       "        vertical-align: top;\n",
       "    }\n",
       "\n",
       "    .dataframe thead th {\n",
       "        text-align: right;\n",
       "    }\n",
       "</style>\n",
       "<table border=\"1\" class=\"dataframe\">\n",
       "  <thead>\n",
       "    <tr style=\"text-align: right;\">\n",
       "      <th></th>\n",
       "      <th>ID</th>\n",
       "      <th>ESTUDIOS</th>\n",
       "      <th>IDIOMAS</th>\n",
       "      <th>ERASMUS</th>\n",
       "      <th>PRESIONARTERIAL</th>\n",
       "      <th>ASTRONAUTA</th>\n",
       "    </tr>\n",
       "  </thead>\n",
       "  <tbody>\n",
       "    <tr>\n",
       "      <th>0</th>\n",
       "      <td>1</td>\n",
       "      <td>bachillerato</td>\n",
       "      <td>english</td>\n",
       "      <td>si</td>\n",
       "      <td>12</td>\n",
       "      <td>si</td>\n",
       "    </tr>\n",
       "    <tr>\n",
       "      <th>1</th>\n",
       "      <td>2</td>\n",
       "      <td>fp</td>\n",
       "      <td>NaN</td>\n",
       "      <td>no</td>\n",
       "      <td>14</td>\n",
       "      <td>no</td>\n",
       "    </tr>\n",
       "    <tr>\n",
       "      <th>2</th>\n",
       "      <td>3</td>\n",
       "      <td>fp</td>\n",
       "      <td>NaN</td>\n",
       "      <td>no</td>\n",
       "      <td>14</td>\n",
       "      <td>no</td>\n",
       "    </tr>\n",
       "    <tr>\n",
       "      <th>3</th>\n",
       "      <td>4</td>\n",
       "      <td>eso</td>\n",
       "      <td>NaN</td>\n",
       "      <td>si</td>\n",
       "      <td>12</td>\n",
       "      <td>si</td>\n",
       "    </tr>\n",
       "    <tr>\n",
       "      <th>4</th>\n",
       "      <td>5</td>\n",
       "      <td>NaN</td>\n",
       "      <td>english</td>\n",
       "      <td>si</td>\n",
       "      <td>13</td>\n",
       "      <td>si</td>\n",
       "    </tr>\n",
       "    <tr>\n",
       "      <th>5</th>\n",
       "      <td>6</td>\n",
       "      <td>fp</td>\n",
       "      <td>NaN</td>\n",
       "      <td>NaN</td>\n",
       "      <td>14</td>\n",
       "      <td>no</td>\n",
       "    </tr>\n",
       "    <tr>\n",
       "      <th>6</th>\n",
       "      <td>7</td>\n",
       "      <td>universitarios</td>\n",
       "      <td>NaN</td>\n",
       "      <td>no</td>\n",
       "      <td>14</td>\n",
       "      <td>no</td>\n",
       "    </tr>\n",
       "    <tr>\n",
       "      <th>7</th>\n",
       "      <td>8</td>\n",
       "      <td>eso</td>\n",
       "      <td>english</td>\n",
       "      <td>si</td>\n",
       "      <td>14</td>\n",
       "      <td>no</td>\n",
       "    </tr>\n",
       "    <tr>\n",
       "      <th>8</th>\n",
       "      <td>9</td>\n",
       "      <td>NaN</td>\n",
       "      <td>NaN</td>\n",
       "      <td>no</td>\n",
       "      <td>13</td>\n",
       "      <td>si</td>\n",
       "    </tr>\n",
       "    <tr>\n",
       "      <th>9</th>\n",
       "      <td>10</td>\n",
       "      <td>universitarios</td>\n",
       "      <td>english</td>\n",
       "      <td>si</td>\n",
       "      <td>12</td>\n",
       "      <td>si</td>\n",
       "    </tr>\n",
       "    <tr>\n",
       "      <th>10</th>\n",
       "      <td>11</td>\n",
       "      <td>bachillerato</td>\n",
       "      <td>NaN</td>\n",
       "      <td>NaN</td>\n",
       "      <td>13</td>\n",
       "      <td>si</td>\n",
       "    </tr>\n",
       "    <tr>\n",
       "      <th>11</th>\n",
       "      <td>12</td>\n",
       "      <td>eso</td>\n",
       "      <td>english</td>\n",
       "      <td>si</td>\n",
       "      <td>13</td>\n",
       "      <td>si</td>\n",
       "    </tr>\n",
       "    <tr>\n",
       "      <th>12</th>\n",
       "      <td>13</td>\n",
       "      <td>eso</td>\n",
       "      <td>english</td>\n",
       "      <td>NaN</td>\n",
       "      <td>12</td>\n",
       "      <td>si</td>\n",
       "    </tr>\n",
       "    <tr>\n",
       "      <th>13</th>\n",
       "      <td>14</td>\n",
       "      <td>universitarios</td>\n",
       "      <td>english</td>\n",
       "      <td>no</td>\n",
       "      <td>14</td>\n",
       "      <td>no</td>\n",
       "    </tr>\n",
       "    <tr>\n",
       "      <th>14</th>\n",
       "      <td>15</td>\n",
       "      <td>bachillerato</td>\n",
       "      <td>NaN</td>\n",
       "      <td>no</td>\n",
       "      <td>14</td>\n",
       "      <td>no</td>\n",
       "    </tr>\n",
       "    <tr>\n",
       "      <th>15</th>\n",
       "      <td>16</td>\n",
       "      <td>NaN</td>\n",
       "      <td>NaN</td>\n",
       "      <td>no</td>\n",
       "      <td>14</td>\n",
       "      <td>no</td>\n",
       "    </tr>\n",
       "    <tr>\n",
       "      <th>16</th>\n",
       "      <td>17</td>\n",
       "      <td>universitarios</td>\n",
       "      <td>english</td>\n",
       "      <td>si</td>\n",
       "      <td>10</td>\n",
       "      <td>si</td>\n",
       "    </tr>\n",
       "    <tr>\n",
       "      <th>17</th>\n",
       "      <td>18</td>\n",
       "      <td>bachillerato</td>\n",
       "      <td>english</td>\n",
       "      <td>si</td>\n",
       "      <td>12</td>\n",
       "      <td>si</td>\n",
       "    </tr>\n",
       "    <tr>\n",
       "      <th>18</th>\n",
       "      <td>19</td>\n",
       "      <td>eso</td>\n",
       "      <td>english</td>\n",
       "      <td>si</td>\n",
       "      <td>10</td>\n",
       "      <td>si</td>\n",
       "    </tr>\n",
       "    <tr>\n",
       "      <th>19</th>\n",
       "      <td>20</td>\n",
       "      <td>eso</td>\n",
       "      <td>english</td>\n",
       "      <td>no</td>\n",
       "      <td>10</td>\n",
       "      <td>si</td>\n",
       "    </tr>\n",
       "  </tbody>\n",
       "</table>\n",
       "</div>"
      ],
      "text/plain": [
       "    ID        ESTUDIOS  IDIOMAS ERASMUS  PRESIONARTERIAL ASTRONAUTA\n",
       "0    1    bachillerato  english      si               12         si\n",
       "1    2              fp      NaN      no               14         no\n",
       "2    3              fp      NaN      no               14         no\n",
       "3    4             eso      NaN      si               12         si\n",
       "4    5             NaN  english      si               13         si\n",
       "5    6              fp      NaN     NaN               14         no\n",
       "6    7  universitarios      NaN      no               14         no\n",
       "7    8             eso  english      si               14         no\n",
       "8    9             NaN      NaN      no               13         si\n",
       "9   10  universitarios  english      si               12         si\n",
       "10  11    bachillerato      NaN     NaN               13         si\n",
       "11  12             eso  english      si               13         si\n",
       "12  13             eso  english     NaN               12         si\n",
       "13  14  universitarios  english      no               14         no\n",
       "14  15    bachillerato      NaN      no               14         no\n",
       "15  16             NaN      NaN      no               14         no\n",
       "16  17  universitarios  english      si               10         si\n",
       "17  18    bachillerato  english      si               12         si\n",
       "18  19             eso  english      si               10         si\n",
       "19  20             eso  english      no               10         si"
      ]
     },
     "execution_count": 3,
     "metadata": {},
     "output_type": "execute_result"
    }
   ],
   "source": [
    "# 1.- Importa el fichero EXA4.csv en un dataframe.\n",
    "# Muestra el nombre de las columnas, muestra la\n",
    "# información del tipo de dato de cada columna y\n",
    "# muestra el numero de celdas del dataframe.\n",
    "\n",
    "fich1= 'EXA4.csv'\n",
    "df = pd.read_csv(fich1)\n",
    "df"
   ]
  },
  {
   "cell_type": "code",
   "execution_count": 3,
   "id": "397278dd",
   "metadata": {},
   "outputs": [
    {
     "data": {
      "text/plain": [
       "Index(['ID', 'ESTUDIOS', 'IDIOMAS', 'ERASMUS', 'PRESIONARTERIAL',\n",
       "       'ASTRONAUTA'],\n",
       "      dtype='object')"
      ]
     },
     "execution_count": 3,
     "metadata": {},
     "output_type": "execute_result"
    }
   ],
   "source": [
    "df.columns"
   ]
  },
  {
   "cell_type": "code",
   "execution_count": 7,
   "id": "7cb20d3c",
   "metadata": {},
   "outputs": [
    {
     "name": "stdout",
     "output_type": "stream",
     "text": [
      "Número de celdas:  120\n"
     ]
    }
   ],
   "source": [
    "print('Número de celdas: ',df.shape[0]*df.shape[1])"
   ]
  },
  {
   "cell_type": "code",
   "execution_count": 8,
   "id": "1f256c96",
   "metadata": {},
   "outputs": [
    {
     "data": {
      "text/plain": [
       "ID                  int64\n",
       "ESTUDIOS           object\n",
       "IDIOMAS            object\n",
       "ERASMUS            object\n",
       "PRESIONARTERIAL     int64\n",
       "ASTRONAUTA         object\n",
       "dtype: object"
      ]
     },
     "execution_count": 8,
     "metadata": {},
     "output_type": "execute_result"
    }
   ],
   "source": [
    "# 2.- Transforma las columnas object a categóricas y\n",
    "# posteriormente a numéricas. Rellena los nulos\n",
    "\n",
    "df.dtypes"
   ]
  },
  {
   "cell_type": "code",
   "execution_count": 10,
   "id": "79ed1f79",
   "metadata": {},
   "outputs": [
    {
     "data": {
      "text/plain": [
       "ID                 0\n",
       "ESTUDIOS           3\n",
       "IDIOMAS            9\n",
       "ERASMUS            3\n",
       "PRESIONARTERIAL    0\n",
       "ASTRONAUTA         0\n",
       "dtype: int64"
      ]
     },
     "execution_count": 10,
     "metadata": {},
     "output_type": "execute_result"
    }
   ],
   "source": [
    "df.isnull().sum()"
   ]
  },
  {
   "cell_type": "code",
   "execution_count": 11,
   "id": "cba1fe4e",
   "metadata": {},
   "outputs": [],
   "source": [
    "le = LabelEncoder()"
   ]
  },
  {
   "cell_type": "code",
   "execution_count": 12,
   "id": "10d45721",
   "metadata": {},
   "outputs": [],
   "source": [
    "df.ESTUDIOS = le.fit_transform(df.ESTUDIOS.values)"
   ]
  },
  {
   "cell_type": "code",
   "execution_count": 13,
   "id": "6339c76a",
   "metadata": {},
   "outputs": [],
   "source": [
    "df.IDIOMAS = le.fit_transform(df.IDIOMAS.values)"
   ]
  },
  {
   "cell_type": "code",
   "execution_count": 14,
   "id": "90d4b13f",
   "metadata": {},
   "outputs": [],
   "source": [
    "df.ERASMUS = le.fit_transform(df.ERASMUS.values)"
   ]
  },
  {
   "cell_type": "code",
   "execution_count": 17,
   "id": "cadbbe53",
   "metadata": {},
   "outputs": [],
   "source": [
    "df.ASTRONAUTA = le.fit_transform(df.ASTRONAUTA.values)"
   ]
  },
  {
   "cell_type": "code",
   "execution_count": 18,
   "id": "61548b50",
   "metadata": {},
   "outputs": [
    {
     "data": {
      "text/plain": [
       "ID                 int64\n",
       "ESTUDIOS           int64\n",
       "IDIOMAS            int64\n",
       "ERASMUS            int64\n",
       "PRESIONARTERIAL    int64\n",
       "ASTRONAUTA         int64\n",
       "dtype: object"
      ]
     },
     "execution_count": 18,
     "metadata": {},
     "output_type": "execute_result"
    }
   ],
   "source": [
    "df.dtypes"
   ]
  },
  {
   "cell_type": "code",
   "execution_count": 19,
   "id": "3f0aa996",
   "metadata": {},
   "outputs": [
    {
     "data": {
      "text/plain": [
       "ID                 0\n",
       "ESTUDIOS           0\n",
       "IDIOMAS            0\n",
       "ERASMUS            0\n",
       "PRESIONARTERIAL    0\n",
       "ASTRONAUTA         0\n",
       "dtype: int64"
      ]
     },
     "execution_count": 19,
     "metadata": {},
     "output_type": "execute_result"
    }
   ],
   "source": [
    "df.isnull().sum()"
   ]
  },
  {
   "cell_type": "code",
   "execution_count": 20,
   "id": "e223cdec",
   "metadata": {},
   "outputs": [
    {
     "data": {
      "image/png": "[encoded data removed]",
      "text/plain": [
       "<Figure size 648x648 with 2 Axes>"
      ]
     },
     "metadata": {
      "needs_background": "light"
     },
     "output_type": "display_data"
    }
   ],
   "source": [
    "# 3.- Dibuja el grafico de la matriz de correlación\n",
    "\n",
    "matriz_correlaciones = df.corr(method='pearson')\n",
    "n_ticks = len(df.columns)\n",
    "plt.figure( figsize=(9, 9) )\n",
    "plt.xticks(range(n_ticks), df.columns, rotation='vertical')\n",
    "plt.yticks(range(n_ticks), df.columns)\n",
    "plt.colorbar(plt.imshow(matriz_correlaciones, interpolation='nearest', \n",
    "                            vmin=-1., vmax=1., \n",
    "                            cmap=plt.get_cmap('Blues')))\n",
    "_ = plt.title('Matriz de correlaciones de Pearson')"
   ]
  },
  {
   "cell_type": "code",
   "execution_count": 22,
   "id": "67005f6a",
   "metadata": {},
   "outputs": [],
   "source": [
    "# 4.- Normaliza los datos numéricos y divídelos en train\n",
    "# y test\n",
    "\n",
    "X = df.drop('ASTRONAUTA', axis=1)\n",
    "Y = df['ASTRONAUTA']"
   ]
  },
  {
   "cell_type": "code",
   "execution_count": 23,
   "id": "4d4ec2d5",
   "metadata": {},
   "outputs": [
    {
     "data": {
      "text/html": [
       "<div>\n",
       "<style scoped>\n",
       "    .dataframe tbody tr th:only-of-type {\n",
       "        vertical-align: middle;\n",
       "    }\n",
       "\n",
       "    .dataframe tbody tr th {\n",
       "        vertical-align: top;\n",
       "    }\n",
       "\n",
       "    .dataframe thead th {\n",
       "        text-align: right;\n",
       "    }\n",
       "</style>\n",
       "<table border=\"1\" class=\"dataframe\">\n",
       "  <thead>\n",
       "    <tr style=\"text-align: right;\">\n",
       "      <th></th>\n",
       "      <th>Correlación con la target</th>\n",
       "    </tr>\n",
       "  </thead>\n",
       "  <tbody>\n",
       "    <tr>\n",
       "      <th>PRESIONARTERIAL</th>\n",
       "      <td>-0.768035</td>\n",
       "    </tr>\n",
       "    <tr>\n",
       "      <th>IDIOMAS</th>\n",
       "      <td>-0.492366</td>\n",
       "    </tr>\n",
       "    <tr>\n",
       "      <th>ERASMUS</th>\n",
       "      <td>0.438529</td>\n",
       "    </tr>\n",
       "    <tr>\n",
       "      <th>ID</th>\n",
       "      <td>0.230098</td>\n",
       "    </tr>\n",
       "    <tr>\n",
       "      <th>ESTUDIOS</th>\n",
       "      <td>-0.194572</td>\n",
       "    </tr>\n",
       "  </tbody>\n",
       "</table>\n",
       "</div>"
      ],
      "text/plain": [
       "                 Correlación con la target\n",
       "PRESIONARTERIAL                  -0.768035\n",
       "IDIOMAS                          -0.492366\n",
       "ERASMUS                           0.438529\n",
       "ID                                0.230098\n",
       "ESTUDIOS                         -0.194572"
      ]
     },
     "execution_count": 23,
     "metadata": {},
     "output_type": "execute_result"
    }
   ],
   "source": [
    "correlaciones_target = matriz_correlaciones.values[ -1, : -1]\n",
    "indices_inversos =  abs(correlaciones_target[ : ]).argsort()[ : : -1]\n",
    "diccionario = {}\n",
    "for nombre, correlacion in zip( X.columns[indices_inversos], list(correlaciones_target[indices_inversos] ) ):\n",
    "    diccionario[nombre] = correlacion\n",
    "pd.DataFrame.from_dict(diccionario, orient='index', columns=['Correlación con la target'])"
   ]
  },
  {
   "cell_type": "code",
   "execution_count": 24,
   "id": "5a81be40",
   "metadata": {},
   "outputs": [],
   "source": [
    "obj_escalar = StandardScaler()\n",
    "X_estandarizado = obj_escalar.fit_transform(X)"
   ]
  },
  {
   "cell_type": "code",
   "execution_count": 25,
   "id": "6e5ec12b",
   "metadata": {},
   "outputs": [],
   "source": [
    "X_train, X_test, Y_train, Y_test = train_test_split(X_estandarizado, Y, test_size=0.2, random_state=0)"
   ]
  },
  {
   "cell_type": "code",
   "execution_count": 26,
   "id": "bfc5e06c",
   "metadata": {},
   "outputs": [],
   "source": [
    "# 5.- Aplica el modelo de Regresión Logistica,\n",
    "# umbraliza los datos y matriz de confusión (2 punto)\n",
    "modelo = LogisticRegression()\n",
    "parametros = {\"C\": [0.01, 0.02, 0.03, 0.04, 0.05, 0.06, 0.07, 0.08,0.09], \n",
    "              \"class_weight\":['balanced', None]}"
   ]
  },
  {
   "cell_type": "code",
   "execution_count": 27,
   "id": "0b8c96eb",
   "metadata": {},
   "outputs": [
    {
     "data": {
      "text/plain": [
       "GridSearchCV(cv=5, estimator=LogisticRegression(),\n",
       "             param_grid={'C': [0.01, 0.02, 0.03, 0.04, 0.05, 0.06, 0.07, 0.08,\n",
       "                               0.09],\n",
       "                         'class_weight': ['balanced', None]},\n",
       "             scoring='roc_auc')"
      ]
     },
     "execution_count": 27,
     "metadata": {},
     "output_type": "execute_result"
    }
   ],
   "source": [
    "modelo_gs = GridSearchCV(modelo, param_grid=parametros,cv = 5, scoring='roc_auc')\n",
    "modelo_gs.fit(X_train, Y_train)"
   ]
  },
  {
   "cell_type": "code",
   "execution_count": 28,
   "id": "85ca2855",
   "metadata": {},
   "outputs": [
    {
     "name": "stdout",
     "output_type": "stream",
     "text": [
      "{'C': 0.01, 'class_weight': 'balanced'} \n",
      "ROC AUC: 1.0\n"
     ]
    }
   ],
   "source": [
    "print(modelo_gs.best_params_, \"\\nROC AUC: {}\".format(round(modelo_gs.best_score_,2)))"
   ]
  },
  {
   "cell_type": "code",
   "execution_count": 29,
   "id": "35b5302f",
   "metadata": {},
   "outputs": [],
   "source": [
    "df_search = pd.DataFrame.from_dict(modelo_gs.cv_results_)"
   ]
  },
  {
   "cell_type": "code",
   "execution_count": 30,
   "id": "2432ac3e",
   "metadata": {},
   "outputs": [],
   "source": [
    "reg_log =  LogisticRegression(C=modelo_gs.best_params_['C'],\n",
    "                              class_weight=modelo_gs.best_params_['class_weight'])"
   ]
  },
  {
   "cell_type": "code",
   "execution_count": 31,
   "id": "a3e75b7e",
   "metadata": {},
   "outputs": [
    {
     "data": {
      "text/plain": [
       "LogisticRegression(C=0.01, class_weight='balanced')"
      ]
     },
     "execution_count": 31,
     "metadata": {},
     "output_type": "execute_result"
    }
   ],
   "source": [
    "reg_log.fit(X_train, Y_train)"
   ]
  },
  {
   "cell_type": "code",
   "execution_count": 32,
   "id": "c6a8bd5b",
   "metadata": {},
   "outputs": [],
   "source": [
    "y_test_pred_prob = reg_log.predict_proba(X_test)\n",
    "y_test_pred_prob_pos = y_test_pred_prob[np.where(Y_test == 1)[0]]\n",
    "y_test_pred_prob_neg = y_test_pred_prob[np.where(Y_test == 0)[0]]"
   ]
  },
  {
   "cell_type": "code",
   "execution_count": 33,
   "id": "10b5cb4b",
   "metadata": {},
   "outputs": [],
   "source": [
    "preds = y_test_pred_prob[:,1]\n",
    "fpr, tpr, threshold = metrics.roc_curve(Y_test, preds)\n",
    "roc_auc = metrics.auc(fpr, tpr)"
   ]
  },
  {
   "cell_type": "code",
   "execution_count": 34,
   "id": "9904978a",
   "metadata": {},
   "outputs": [],
   "source": [
    "umbral = 0.6\n",
    "y_umbralizadas = 1*(y_test_pred_prob[:, 1] > umbral)"
   ]
  },
  {
   "cell_type": "code",
   "execution_count": 35,
   "id": "e75a990f",
   "metadata": {},
   "outputs": [
    {
     "name": "stdout",
     "output_type": "stream",
     "text": [
      "Matriz de confusión\n",
      " [[1 0]\n",
      " [3 0]]\n",
      "\n",
      "Accuracy\t0.25\n",
      "Sensitividad\t0.0\n",
      "Precisión\t0.0\n"
     ]
    }
   ],
   "source": [
    "print(u\"Matriz de confusión\\n\", metrics.confusion_matrix(Y_test, y_umbralizadas))\n",
    "print(\"\\nAccuracy\\t{}\".format(round(metrics.accuracy_score(Y_test, y_umbralizadas),2)))  \n",
    "print(\"Sensitividad\\t{}\".format(round(metrics.recall_score(Y_test, y_umbralizadas),2)))\n",
    "print(u\"Precisión\\t{}\".format(round(metrics.precision_score(Y_test, y_umbralizadas),2)))"
   ]
  },
  {
   "cell_type": "code",
   "execution_count": 36,
   "id": "8906b7f3",
   "metadata": {},
   "outputs": [
    {
     "name": "stdout",
     "output_type": "stream",
     "text": [
      "El mejor estimador es: DecisionTreeRegressor(max_depth=3)\n"
     ]
    }
   ],
   "source": [
    "# 6.- Aplica el modelo de Arboles de Decisión,\n",
    "# umbraliza los datos y matriz de confusión\n",
    "\n",
    "regr = DecisionTreeRegressor()\n",
    "params = {\"max_depth\": range(3, 7)}\n",
    "regr_opt = GridSearchCV(regr, params, cv=3)\n",
    "regr_opt.fit(X_train, Y_train)\n",
    "print('El mejor estimador es: {}'.format(regr_opt.best_estimator_))"
   ]
  },
  {
   "cell_type": "code",
   "execution_count": 37,
   "id": "bb27d219",
   "metadata": {},
   "outputs": [
    {
     "data": {
      "text/plain": [
       "(4,)"
      ]
     },
     "execution_count": 37,
     "metadata": {},
     "output_type": "execute_result"
    }
   ],
   "source": [
    "y_test_pred = regr_opt.predict(X_test)\n",
    "y_test_pred.shape"
   ]
  },
  {
   "cell_type": "code",
   "execution_count": 38,
   "id": "586891f4",
   "metadata": {},
   "outputs": [],
   "source": [
    "umbral = 0.6\n",
    "y_umbralizadas = 1*(y_test_pred[:] > umbral)"
   ]
  },
  {
   "cell_type": "code",
   "execution_count": 39,
   "id": "975f66ce",
   "metadata": {},
   "outputs": [
    {
     "data": {
      "text/plain": [
       "(4,)"
      ]
     },
     "execution_count": 39,
     "metadata": {},
     "output_type": "execute_result"
    }
   ],
   "source": [
    "Y_test.shape"
   ]
  },
  {
   "cell_type": "code",
   "execution_count": 40,
   "id": "6cfa9bdd",
   "metadata": {},
   "outputs": [
    {
     "data": {
      "text/plain": [
       "18    1\n",
       "1     0\n",
       "19    1\n",
       "8     1\n",
       "Name: ASTRONAUTA, dtype: int64"
      ]
     },
     "execution_count": 40,
     "metadata": {},
     "output_type": "execute_result"
    }
   ],
   "source": [
    "Y_test"
   ]
  },
  {
   "cell_type": "code",
   "execution_count": 41,
   "id": "56dc43d5",
   "metadata": {},
   "outputs": [
    {
     "data": {
      "text/plain": [
       "(4,)"
      ]
     },
     "execution_count": 41,
     "metadata": {},
     "output_type": "execute_result"
    }
   ],
   "source": [
    "y_umbralizadas.shape"
   ]
  },
  {
   "cell_type": "code",
   "execution_count": 42,
   "id": "565e25d1",
   "metadata": {},
   "outputs": [
    {
     "data": {
      "text/plain": [
       "array([1, 0, 1, 1])"
      ]
     },
     "execution_count": 42,
     "metadata": {},
     "output_type": "execute_result"
    }
   ],
   "source": [
    "y_umbralizadas"
   ]
  },
  {
   "cell_type": "code",
   "execution_count": 43,
   "id": "62b75d8a",
   "metadata": {},
   "outputs": [
    {
     "name": "stdout",
     "output_type": "stream",
     "text": [
      "Matriz de confusión\n",
      " [[1 0]\n",
      " [0 3]]\n"
     ]
    }
   ],
   "source": [
    "print(u\"Matriz de confusión\\n\", metrics.confusion_matrix(Y_test, y_umbralizadas))"
   ]
  },
  {
   "cell_type": "code",
   "execution_count": 46,
   "id": "6873a735",
   "metadata": {},
   "outputs": [],
   "source": [
    "# 7.- Aplica el modelo de KNN Vecinos , umbraliza los\n",
    "# datos y matriz de confusión\n",
    "\n",
    "y_ruido = np.sin(X_train)[:, 0] + np.random.normal(size=X_train.shape[0],scale=0.20)"
   ]
  },
  {
   "cell_type": "code",
   "execution_count": 47,
   "id": "56bd0927",
   "metadata": {},
   "outputs": [],
   "source": [
    "x_train2=X_train[:,0]"
   ]
  },
  {
   "cell_type": "code",
   "execution_count": 48,
   "id": "9d54c5f7",
   "metadata": {},
   "outputs": [],
   "source": [
    "clf = KNeighborsRegressor()\n",
    "params = {\"n_neighbors\": range(1, 20)}"
   ]
  },
  {
   "cell_type": "code",
   "execution_count": 49,
   "id": "529bb62e",
   "metadata": {},
   "outputs": [
    {
     "name": "stdout",
     "output_type": "stream",
     "text": [
      "El mejor estimador es: KNeighborsRegressor(n_neighbors=6)\n"
     ]
    }
   ],
   "source": [
    "clf_gs = GridSearchCV(clf, params, cv=3)\n",
    "clf_gs.fit(X_train, Y_train)\n",
    "print('El mejor estimador es: {}'.format(clf_gs.best_estimator_))"
   ]
  },
  {
   "cell_type": "code",
   "execution_count": 50,
   "id": "de782bab",
   "metadata": {},
   "outputs": [],
   "source": [
    "y_test_predict=clf_gs.predict(X_test)"
   ]
  },
  {
   "cell_type": "code",
   "execution_count": 1,
   "id": "7f75d120",
   "metadata": {},
   "outputs": [
    {
     "ename": "NameError",
     "evalue": "name 'y_test_predict' is not defined",
     "output_type": "error",
     "traceback": [
      "\u001b[0;31m---------------------------------------------------------------------------\u001b[0m",
      "\u001b[0;31mNameError\u001b[0m                                 Traceback (most recent call last)",
      "\u001b[0;32m<ipython-input-1-2b6ab7544eb3>\u001b[0m in \u001b[0;36m<module>\u001b[0;34m\u001b[0m\n\u001b[1;32m      1\u001b[0m \u001b[0mumbral\u001b[0m \u001b[0;34m=\u001b[0m \u001b[0;36m0.6\u001b[0m\u001b[0;34m\u001b[0m\u001b[0;34m\u001b[0m\u001b[0m\n\u001b[0;32m----> 2\u001b[0;31m \u001b[0my_umbralizadas\u001b[0m \u001b[0;34m=\u001b[0m \u001b[0;36m1\u001b[0m\u001b[0;34m*\u001b[0m\u001b[0;34m(\u001b[0m\u001b[0my_test_predict\u001b[0m\u001b[0;34m[\u001b[0m\u001b[0;34m:\u001b[0m\u001b[0;34m]\u001b[0m \u001b[0;34m>\u001b[0m \u001b[0mumbral\u001b[0m\u001b[0;34m)\u001b[0m\u001b[0;34m\u001b[0m\u001b[0;34m\u001b[0m\u001b[0m\n\u001b[0m",
      "\u001b[0;31mNameError\u001b[0m: name 'y_test_predict' is not defined"
     ]
    }
   ],
   "source": [
    "umbral = 0.6\n",
    "y_umbralizadas = 1*(y_test_predict[:] > umbral)"
   ]
  },
  {
   "cell_type": "code",
   "execution_count": 52,
   "id": "9cc08a09",
   "metadata": {},
   "outputs": [
    {
     "name": "stdout",
     "output_type": "stream",
     "text": [
      "Matriz de confusión\n",
      " [[1 0]\n",
      " [1 2]]\n"
     ]
    }
   ],
   "source": [
    "print(u\"Matriz de confusión\\n\", metrics.confusion_matrix(Y_test, y_umbralizadas))"
   ]
  },
  {
   "cell_type": "code",
   "execution_count": null,
   "id": "88a3c8f4",
   "metadata": {},
   "outputs": [],
   "source": []
  }
 ],
 "metadata": {
  "kernelspec": {
   "display_name": "Python 3",
   "language": "python",
   "name": "python3"
  },
  "language_info": {
   "codemirror_mode": {
    "name": "ipython",
    "version": 3
   },
   "file_extension": ".py",
   "mimetype": "text/x-python",
   "name": "python",
   "nbconvert_exporter": "python",
   "pygments_lexer": "ipython3",
   "version": "3.8.8"
  }
 },
 "nbformat": 4,
 "nbformat_minor": 5
}
