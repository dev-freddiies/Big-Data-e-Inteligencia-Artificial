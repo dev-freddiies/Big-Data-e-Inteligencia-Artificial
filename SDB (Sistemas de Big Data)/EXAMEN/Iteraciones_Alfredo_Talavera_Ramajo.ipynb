{
 "cells": [
  {
   "cell_type": "code",
   "execution_count": 21,
   "id": "77232dca",
   "metadata": {},
   "outputs": [
    {
     "ename": "KeyboardInterrupt",
     "evalue": "Interrupted by user",
     "output_type": "error",
     "traceback": [
      "\u001b[1;31m---------------------------------------------------------------------------\u001b[0m",
      "\u001b[1;31mKeyboardInterrupt\u001b[0m                         Traceback (most recent call last)",
      "\u001b[1;32m<ipython-input-21-6c5871bf2942>\u001b[0m in \u001b[0;36m<module>\u001b[1;34m\u001b[0m\n\u001b[0;32m      1\u001b[0m \u001b[1;31m# 1.- Escriba un programa que pregunte cuántos números se van a introducir, pida esos números y escriba cuántos negativos ha introducido\u001b[0m\u001b[1;33m\u001b[0m\u001b[1;33m\u001b[0m\u001b[1;33m\u001b[0m\u001b[0m\n\u001b[0;32m      2\u001b[0m \u001b[1;33m\u001b[0m\u001b[0m\n\u001b[1;32m----> 3\u001b[1;33m \u001b[0mdimension\u001b[0m\u001b[1;33m=\u001b[0m\u001b[0mint\u001b[0m\u001b[1;33m(\u001b[0m\u001b[0minput\u001b[0m\u001b[1;33m(\u001b[0m\u001b[1;34m'Introduce cuantos numeros quieres: '\u001b[0m\u001b[1;33m)\u001b[0m\u001b[1;33m)\u001b[0m\u001b[1;33m\u001b[0m\u001b[1;33m\u001b[0m\u001b[0m\n\u001b[0m\u001b[0;32m      4\u001b[0m \u001b[1;33m\u001b[0m\u001b[0m\n\u001b[0;32m      5\u001b[0m \u001b[0mcontador\u001b[0m \u001b[1;33m=\u001b[0m \u001b[1;36m0\u001b[0m\u001b[1;33m\u001b[0m\u001b[1;33m\u001b[0m\u001b[0m\n",
      "\u001b[1;32m~\\anaconda3\\lib\\site-packages\\ipykernel\\kernelbase.py\u001b[0m in \u001b[0;36mraw_input\u001b[1;34m(self, prompt)\u001b[0m\n\u001b[0;32m    858\u001b[0m                 \u001b[1;34m\"raw_input was called, but this frontend does not support input requests.\"\u001b[0m\u001b[1;33m\u001b[0m\u001b[1;33m\u001b[0m\u001b[0m\n\u001b[0;32m    859\u001b[0m             )\n\u001b[1;32m--> 860\u001b[1;33m         return self._input_request(str(prompt),\n\u001b[0m\u001b[0;32m    861\u001b[0m             \u001b[0mself\u001b[0m\u001b[1;33m.\u001b[0m\u001b[0m_parent_ident\u001b[0m\u001b[1;33m,\u001b[0m\u001b[1;33m\u001b[0m\u001b[1;33m\u001b[0m\u001b[0m\n\u001b[0;32m    862\u001b[0m             \u001b[0mself\u001b[0m\u001b[1;33m.\u001b[0m\u001b[0m_parent_header\u001b[0m\u001b[1;33m,\u001b[0m\u001b[1;33m\u001b[0m\u001b[1;33m\u001b[0m\u001b[0m\n",
      "\u001b[1;32m~\\anaconda3\\lib\\site-packages\\ipykernel\\kernelbase.py\u001b[0m in \u001b[0;36m_input_request\u001b[1;34m(self, prompt, ident, parent, password)\u001b[0m\n\u001b[0;32m    902\u001b[0m             \u001b[1;32mexcept\u001b[0m \u001b[0mKeyboardInterrupt\u001b[0m\u001b[1;33m:\u001b[0m\u001b[1;33m\u001b[0m\u001b[1;33m\u001b[0m\u001b[0m\n\u001b[0;32m    903\u001b[0m                 \u001b[1;31m# re-raise KeyboardInterrupt, to truncate traceback\u001b[0m\u001b[1;33m\u001b[0m\u001b[1;33m\u001b[0m\u001b[1;33m\u001b[0m\u001b[0m\n\u001b[1;32m--> 904\u001b[1;33m                 \u001b[1;32mraise\u001b[0m \u001b[0mKeyboardInterrupt\u001b[0m\u001b[1;33m(\u001b[0m\u001b[1;34m\"Interrupted by user\"\u001b[0m\u001b[1;33m)\u001b[0m \u001b[1;32mfrom\u001b[0m \u001b[1;32mNone\u001b[0m\u001b[1;33m\u001b[0m\u001b[1;33m\u001b[0m\u001b[0m\n\u001b[0m\u001b[0;32m    905\u001b[0m             \u001b[1;32mexcept\u001b[0m \u001b[0mException\u001b[0m \u001b[1;32mas\u001b[0m \u001b[0me\u001b[0m\u001b[1;33m:\u001b[0m\u001b[1;33m\u001b[0m\u001b[1;33m\u001b[0m\u001b[0m\n\u001b[0;32m    906\u001b[0m                 \u001b[0mself\u001b[0m\u001b[1;33m.\u001b[0m\u001b[0mlog\u001b[0m\u001b[1;33m.\u001b[0m\u001b[0mwarning\u001b[0m\u001b[1;33m(\u001b[0m\u001b[1;34m\"Invalid Message:\"\u001b[0m\u001b[1;33m,\u001b[0m \u001b[0mexc_info\u001b[0m\u001b[1;33m=\u001b[0m\u001b[1;32mTrue\u001b[0m\u001b[1;33m)\u001b[0m\u001b[1;33m\u001b[0m\u001b[1;33m\u001b[0m\u001b[0m\n",
      "\u001b[1;31mKeyboardInterrupt\u001b[0m: Interrupted by user"
     ]
    }
   ],
   "source": [
    "# 1.- Escriba un programa que pregunte cuántos números se van a introducir, pida esos números y escriba cuántos negativos ha introducido\n",
    "\n",
    "dimension=int(input('Introduce cuantos numeros quieres: '))\n",
    "\n",
    "contador = 0\n",
    "\n",
    "for i in range(dimension):\n",
    "    \n",
    "    numeros=int(input('Introduce los numeros: '))\n",
    "    \n",
    "    if (numeros<0):\n",
    "\n",
    "        contador += 1\n",
    "    \n",
    "print('Total de numeros negativos que has introducido: ', contador)\n"
   ]
  },
  {
   "cell_type": "code",
   "execution_count": 12,
   "id": "6798149a",
   "metadata": {},
   "outputs": [
    {
     "name": "stdout",
     "output_type": "stream",
     "text": [
      "Introduce cuantos numeros quieres: 5\n",
      "Introduce los numeros: 1\n",
      "El numero:  1  es impar\n",
      "Introduce los numeros: 2\n",
      "El numero:  2  es par\n",
      "Introduce los numeros: 25\n",
      "El numero:  25  es impar\n",
      "Introduce los numeros: 67\n",
      "El numero:  67  es impar\n",
      "Introduce los numeros: 4\n",
      "El numero:  4  es par\n",
      "Total de numeros pares que has introducido:  2  e impares:  3\n"
     ]
    }
   ],
   "source": [
    "# 2.- Escriba un programa que pregunte cuántos números se van a introducir, pida esos números, y diga al final cuántos han sido pares y cuántos impares\n",
    "\n",
    "dimension=int(input('Introduce cuantos numeros quieres: '))\n",
    "\n",
    "contador = 0\n",
    "impares = 0\n",
    "pares = 0\n",
    "\n",
    "for i in range(dimension):\n",
    "    \n",
    "    numeros=int(input('Introduce los numeros: '))\n",
    "    \n",
    "    if (numeros%2!=0):\n",
    "\n",
    "        impares += 1\n",
    "        print('El numero: ', numeros, ' es impar')\n",
    "        \n",
    "    else: \n",
    "        \n",
    "        pares += 1\n",
    "        print('El numero: ', numeros, ' es par')\n",
    "\n",
    "    \n",
    "print('Total de numeros pares que has introducido: ', pares, ' e impares: ', impares)\n"
   ]
  },
  {
   "cell_type": "code",
   "execution_count": 11,
   "id": "ef61d816",
   "metadata": {},
   "outputs": [
    {
     "name": "stdout",
     "output_type": "stream",
     "text": [
      "Introduce cuantos numeros quieres: 3\n",
      "Introduce cuantos numeros quieres: 1\n",
      "1  NO es primo\n",
      "Introduce cuantos numeros quieres: 2\n",
      "2  NO es primo\n",
      "Introduce cuantos numeros quieres: 7\n",
      "El numero:  7  es primo\n",
      "Total de numeros primos que has introducido:  11\n"
     ]
    }
   ],
   "source": [
    "# 3.- Escriba un programa que pida un número entero mayor que 1 y que escriba si el número es un número primo o no\n",
    "\n",
    "bandera = False\n",
    "while (bandera == False):\n",
    "\n",
    "    dimension=int(input('Introduce cuantos numeros quieres: '))\n",
    "\n",
    "    if (dimension<0):\n",
    "        \n",
    "        print('La dimension no puede ser negativa ')\n",
    "        bandera = False\n",
    "        \n",
    "    else:\n",
    "        \n",
    "        for i in range (1, dimension+1):\n",
    "            \n",
    "            numeros=int(input('Introduce cuantos numeros quieres: '))\n",
    "            \n",
    "            if (numeros % i == 0):\n",
    "                \n",
    "                print(numeros, ' NO es primo')\n",
    "                bandera = True\n",
    "                \n",
    "            else:\n",
    "                \n",
    "                print('El numero: ', numeros, ' es primo')\n",
    "                primos += 1\n",
    "                bandera = True\n",
    "\n",
    "\n",
    "\n",
    "    print('Total de numeros primos que has introducido: ', primos)\n"
   ]
  },
  {
   "cell_type": "code",
   "execution_count": 5,
   "id": "ca8ebd47",
   "metadata": {},
   "outputs": [
    {
     "name": "stdout",
     "output_type": "stream",
     "text": [
      "Introduce cuantos numeros quieres: 3\n",
      "Introduce los numeros: 1\n",
      "Introduce los numeros: 2\n",
      "Introduce los numeros: 3\n",
      "La suma total de todos los numeros es:  6.0\n"
     ]
    }
   ],
   "source": [
    "# 4.- Escriba un programa que pregunte cuantos números se van a introducir, pida esos números (que puedan ser decimales) y calcule su suma\n",
    "    \n",
    "dimension=int(input('Introduce cuantos numeros quieres: '))\n",
    "suma=0\n",
    "\n",
    "for i in range(dimension):\n",
    "    \n",
    "    numeros=float(input('Introduce los numeros: '))\n",
    "    \n",
    "    suma = numeros + suma\n",
    "    \n",
    "print('La suma total de todos los numeros es: ', suma)\n",
    "\n"
   ]
  },
  {
   "cell_type": "code",
   "execution_count": 18,
   "id": "4bc5b333",
   "metadata": {},
   "outputs": [
    {
     "name": "stdout",
     "output_type": "stream",
     "text": [
      "Introduce el numero minimo: 5\n",
      "Introduce el numero maximo: 3\n",
      "El maximo no puede ser menor que el minimo D: 0\n",
      "Introduce el numero maximo: 1\n",
      "El maximo no puede ser menor que el minimo D: 0\n",
      "Introduce el numero maximo: 9\n",
      "La suma total de todos los numeros es:  35\n"
     ]
    }
   ],
   "source": [
    "# 5.- Escriba un programa que pida dos números enteros y escriba la suma de todos los enteros desde el primer número hasta el segundo\n",
    "\n",
    "minimo=int(input('Introduce el numero minimo: '))\n",
    "bandera=False\n",
    "\n",
    "while (bandera==False):\n",
    "\n",
    "    maximo=int(input('Introduce el numero maximo: '))\n",
    "    sumaRango=0\n",
    "\n",
    "    if (maximo<minimo):\n",
    "\n",
    "        print('El maximo no puede ser menor que el minimo D:', sumaRango)\n",
    "        bandera=False\n",
    "\n",
    "    else:\n",
    "   \n",
    "        for i in range(minimo, maximo + 1):\n",
    "\n",
    "            sumaRango = sumaRango + i\n",
    "            bandera=True\n",
    " \n",
    "        print('La suma total de todos los numeros es: ', sumaRango)\n"
   ]
  },
  {
   "cell_type": "code",
   "execution_count": 23,
   "id": "67ed5353",
   "metadata": {},
   "outputs": [
    {
     "name": "stdout",
     "output_type": "stream",
     "text": [
      "Introduce cuantos numeros quieres: 10\n",
      "Introduce los numeros: 99\n",
      "Introduce los numeros: 88\n",
      "Introduce los numeros: 77\n",
      "Introduce los numeros: 66\n",
      "Introduce los numeros: 55\n",
      "Introduce los numeros: 44\n",
      "Introduce los numeros: 33\n",
      "Introduce los numeros: 22\n",
      "Introduce los numeros: 11\n",
      "Introduce los numeros: 1\n",
      "La suma total de todos los numeros es:  496.0  maximo:  99.0  minimo:  0\n"
     ]
    }
   ],
   "source": [
    "# 6.- Escriba un programa que pregunte cuántos números se van a introducir, pida esos números, y escriba el mayor, el menor y la media aritmética. Se recuerda que la media aritmética de un conjunto de valores es la suma de esos valores dividida por la cantidad de valores\n",
    "\n",
    "dimension=int(input('Introduce cuantos numeros quieres: '))\n",
    "\n",
    "for i in range(dimension):\n",
    "    \n",
    "    numeros=float(input('Introduce los numeros: '))\n",
    "    suma = numeros + suma\n",
    "    \n",
    "    if numeros < minimo:\n",
    "        \n",
    "        minimo = numeros\n",
    "        \n",
    "    if numeros > maximo:\n",
    "        \n",
    "        maximo = numeros\n",
    "    \n",
    "print('La suma total de todos los numeros es: ', suma, ' maximo: ', maximo, ' minimo: ', minimo, ' media aritmetica: ', suma/dimension)\n"
   ]
  },
  {
   "cell_type": "code",
   "execution_count": 27,
   "id": "5395f07b",
   "metadata": {},
   "outputs": [
    {
     "name": "stdout",
     "output_type": "stream",
     "text": [
      "Introduce un numero para calcular su factorial: 3\n",
      "El factorial del numero:  3  es:  6\n"
     ]
    }
   ],
   "source": [
    "# 7.- Escriba un programa que pida un número entero mayor que cero y calcule su factorial\n",
    "\n",
    "bandera=False\n",
    "\n",
    "while (bandera==False):\n",
    "\n",
    "    numero=int(input('Introduce un numero para calcular su factorial: '))\n",
    "    factorial=1\n",
    "\n",
    "    if (numero<0):\n",
    "\n",
    "        print('Tiene que ser mayor a cero')\n",
    "        bandera=False\n",
    "\n",
    "    else:\n",
    "   \n",
    "        for i in range(1, numero + 1):\n",
    "\n",
    "            factorial = factorial * i\n",
    "            bandera=True\n",
    " \n",
    "        print('El factorial del numero: ', numero, ' es: ', factorial)\n",
    "    "
   ]
  },
  {
   "cell_type": "code",
   "execution_count": 33,
   "id": "c58682b9",
   "metadata": {},
   "outputs": [
    {
     "name": "stdout",
     "output_type": "stream",
     "text": [
      "Introduce un numero para la cuenta regresiva: 5\n",
      "5\n",
      "4\n",
      "3\n",
      "2\n",
      "1\n",
      "0\n"
     ]
    }
   ],
   "source": [
    "# Escribe un numero, valida que sea entero y positivo y haz cuenta regresiva \n",
    "\n",
    "bandera=False\n",
    "\n",
    "while (bandera==False):\n",
    "\n",
    "    numero=int(input('Introduce un numero para la cuenta regresiva: '))\n",
    "\n",
    "    if (numero<0):\n",
    "\n",
    "        print('Tiene que ser mayor a cero')\n",
    "        bandera=False\n",
    "\n",
    "    else:\n",
    "   \n",
    "        for i in range(numero + 1):\n",
    "                        \n",
    "            print(numero-i)\n",
    "            bandera=True\n",
    "\n",
    " \n",
    "    "
   ]
  },
  {
   "cell_type": "code",
   "execution_count": null,
   "id": "bb96e6d6",
   "metadata": {},
   "outputs": [],
   "source": []
  }
 ],
 "metadata": {
  "kernelspec": {
   "display_name": "Python 3",
   "language": "python",
   "name": "python3"
  },
  "language_info": {
   "codemirror_mode": {
    "name": "ipython",
    "version": 3
   },
   "file_extension": ".py",
   "mimetype": "text/x-python",
   "name": "python",
   "nbconvert_exporter": "python",
   "pygments_lexer": "ipython3",
   "version": "3.8.8"
  }
 },
 "nbformat": 4,
 "nbformat_minor": 5
}
