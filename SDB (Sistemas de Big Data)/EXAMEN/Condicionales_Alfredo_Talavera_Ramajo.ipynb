{
 "cells": [
  {
   "cell_type": "code",
   "execution_count": 17,
   "id": "e61ee426",
   "metadata": {},
   "outputs": [
    {
     "name": "stdout",
     "output_type": "stream",
     "text": [
      "Introduce un numero, porfavor: 2\n",
      "Introduce otro numero para realizar la division, porfavor: 3\n",
      " \n",
      "La division entre:  2.0  y  3.0  es:  0.6667\n",
      "La division de  2.0  y  3.0  NO es exacta\n"
     ]
    }
   ],
   "source": [
    "# 1.- Escriba un programa que pida dos numeros enteros y que calcule su division, escriibiendo si la ddivision es exacta o no\n",
    "\n",
    "bandera = False\n",
    "\n",
    "while (bandera == False):\n",
    "    \n",
    "    num1=float(input('Introduce un numero, porfavor: '))\n",
    "    num2=float(input('Introduce otro numero para realizar la division, porfavor: '))\n",
    "    print(' ')\n",
    "\n",
    "    if (num2 == 0):\n",
    "        \n",
    "        print('La division de un numero entre 0 no es posible ya que es una indeterminacion y no puede resolverse, introduce otro numero que no sea cero, porfavor')\n",
    "\n",
    "    else:\n",
    "        \n",
    "        division = num1/num2\n",
    "\n",
    "        print('La division entre: ', num1, ' y ', num2, ' es: ', round(division,4))\n",
    "\n",
    "        if(num1%num2==0):\n",
    "\n",
    "            print('La division de ', num1,' y ', num2,' es exacta')\n",
    "\n",
    "        else: \n",
    "\n",
    "            print('La division de ', num1,' y ', num2,' NO es exacta')\n",
    "            \n",
    "        bandera = True\n",
    "        "
   ]
  },
  {
   "cell_type": "code",
   "execution_count": 20,
   "id": "098249ae",
   "metadata": {},
   "outputs": [
    {
     "name": "stdout",
     "output_type": "stream",
     "text": [
      "Introduce un numero, porfavor: 2\n",
      "Introduce otro numero, porfavor: 2\n",
      "2.0  es igual que:  2.0\n"
     ]
    }
   ],
   "source": [
    "# 2.- Escriba un programa que pida dos números y que conteste cuál es el menor y cuál el mayor o que escriba que son iguales \n",
    "\n",
    "num1=float(input('Introduce un numero, porfavor: '))\n",
    "num2=float(input('Introduce otro numero, porfavor: '))\n",
    "\n",
    "print(' ')\n",
    "\n",
    "\n",
    "if (num1>num2):\n",
    "    \n",
    "    print(num1,' es mayor que: ', num2)\n",
    "    \n",
    "elif (num1==num2):\n",
    "\n",
    "    print(num1,' es igual que: ', num2)\n",
    "    \n",
    "else:\n",
    "    \n",
    "    print(num1,' es menor que: ', num2)\n"
   ]
  },
  {
   "cell_type": "code",
   "execution_count": 23,
   "id": "5e283a4c",
   "metadata": {},
   "outputs": [
    {
     "name": "stdout",
     "output_type": "stream",
     "text": [
      "Escribe el año actual, porfavor: 2021\n",
      "Introduce otro año, porfavor: 2099\n",
      " \n",
      "Quedan:  78  desde:  2021  hasta  2099  años\n"
     ]
    }
   ],
   "source": [
    "# 3.- Escriba un programa que pida el año actual y un año cualquiera y que escriba cuántos años han pasado desde ese año o cuántos años faltan para llegar a ese año. \n",
    "\n",
    "año1=int(input('Escribe el año actual, porfavor: '))\n",
    "año2=int(input('Introduce otro año, porfavor: '))\n",
    "\n",
    "print(' ')\n",
    "\n",
    "\n",
    "if (año1>año2):\n",
    "    \n",
    "    print('Desde: ', año1, ' hasta: ', año2, ' han pasado:', año1-año2, ' años')\n",
    "    \n",
    "elif (año1==año2):\n",
    "\n",
    "    print('Estas en ese año...')\n",
    "    \n",
    "else:\n",
    "    \n",
    "    print('Quedan: ', año2-año1,' desde: ', año1, ' hasta ',año2, ' años')\n"
   ]
  },
  {
   "cell_type": "code",
   "execution_count": 25,
   "id": "ecf3f6b0",
   "metadata": {},
   "outputs": [
    {
     "name": "stdout",
     "output_type": "stream",
     "text": [
      "Introduce un numero, porfavor: 2\n",
      "Introduce otro numero, porfavor: 1\n",
      " \n",
      "El numero:  2.0  es multiplo de:  1.0\n"
     ]
    }
   ],
   "source": [
    "# 4.- Escriba un programa que pida dos números enteros y que escriba si el mayor es múltiplo del menor\n",
    "\n",
    "num1=float(input('Introduce un numero, porfavor: '))\n",
    "num2=float(input('Introduce otro numero, porfavor: '))\n",
    "\n",
    "print(' ')\n",
    "\n",
    "if (num1>num2):\n",
    "    \n",
    "    numMayor = num1\n",
    "    numMenor = num2\n",
    "\n",
    "else:\n",
    "    \n",
    "    numMayor = num2\n",
    "    numMenor = num1\n",
    "   \n",
    "    \n",
    "if (numMayor%numMenor==0):\n",
    "    \n",
    "    print('El numero: ', numMayor, ' es multiplo de: ', numMenor)\n",
    "        \n",
    "else:\n",
    "    \n",
    "    print('Sorry, el numero: ', numMayor, ' NO es multiplo de: ', numMenor, ' :(')\n",
    "   "
   ]
  },
  {
   "cell_type": "code",
   "execution_count": 31,
   "id": "e955b661",
   "metadata": {},
   "outputs": [
    {
     "name": "stdout",
     "output_type": "stream",
     "text": [
      "Introduce el primer numero, porfavor: 2\n",
      "Introduce el segundo numero, porfavor: 2\n",
      "Introduce el tercer numero, porfavor: 3\n",
      "Solamente hay dos numeros iguales\n"
     ]
    }
   ],
   "source": [
    "# 5.- Escriba un programa que pida tres números y que escriba si son los tres iguales, si hay dos iguales o si son los tres distintos.\n",
    "\n",
    "num1=int(input('Introduce el primer numero, porfavor: '))\n",
    "num2=int(input('Introduce el segundo numero, porfavor: '))\n",
    "num3=int(input('Introduce el tercer numero, porfavor: '))\n",
    "\n",
    "if (num1==num2 and num1==num3 and num2==num3):\n",
    "    \n",
    "    print('El numero',num1,' es igual a: ',num2, ' e igual a: ', num3)\n",
    "    print('Los tres numeros son iguales')\n",
    "\n",
    "    \n",
    "elif (num1==num2 or num1==num3 or num2==num3):\n",
    "\n",
    "    print('Solamente hay dos numeros iguales')\n",
    "    \n",
    "else:\n",
    "    \n",
    "    print('los tres numeros son iguales')\n"
   ]
  },
  {
   "cell_type": "code",
   "execution_count": 35,
   "id": "170a79ee",
   "metadata": {},
   "outputs": [
    {
     "name": "stdout",
     "output_type": "stream",
     "text": [
      "Introduce el año, porfavor: -5\n",
      "No existen los años negativos... Si acaso años antes de Cristo, pero no pongas tonterias...\n",
      "Introduce el año, porfavor: 4\n",
      "El año:  4  es bisiesto\n"
     ]
    }
   ],
   "source": [
    "# 6.- Escriba un programa que pida un año y escriba si es bisiesto o no\n",
    "\n",
    "bandera=False\n",
    "while(bandera==False):\n",
    "    \n",
    "    año=int(input('Introduce el año, porfavor: '))\n",
    "\n",
    "    if (año<0):\n",
    "        \n",
    "        print('No existen los años negativos... Si acaso años antes de Cristo, pero no pongas tonterias...')\n",
    "        bandera = False\n",
    "\n",
    "    else:\n",
    "        \n",
    "        if año % 4 == 0 and (año % 100 != 0 or año % 400 == 0):\n",
    "\n",
    "            print('El año: ', año, ' es bisiesto')\n",
    "            bandera = True\n",
    "\n",
    "        else:\n",
    "\n",
    "            print('El año: ', año, ' NO es bisiesto')\n",
    "            bandera = True\n"
   ]
  },
  {
   "cell_type": "code",
   "execution_count": 45,
   "id": "782c1711",
   "metadata": {},
   "outputs": [
    {
     "name": "stdout",
     "output_type": "stream",
     "text": [
      "Vamos a hacer una ecuacion de primer grado  (ax + b = 0)\n",
      "Introduce a, porfavor: 1\n",
      "Introduce b, porfavor: 0\n",
      "ax + b = 0\n",
      "x = - 0  /  1\n",
      "La division de un numero entre 0 no es posible ya que es una indeterminacion y no puede resolverse, introduce otro numero que no sea cero, porfavor\n"
     ]
    },
    {
     "ename": "KeyboardInterrupt",
     "evalue": "Interrupted by user",
     "output_type": "error",
     "traceback": [
      "\u001b[1;31m---------------------------------------------------------------------------\u001b[0m",
      "\u001b[1;31mKeyboardInterrupt\u001b[0m                         Traceback (most recent call last)",
      "\u001b[1;32m<ipython-input-45-496c1da20767>\u001b[0m in \u001b[0;36m<module>\u001b[1;34m\u001b[0m\n\u001b[0;32m      8\u001b[0m \u001b[1;32mwhile\u001b[0m\u001b[1;33m(\u001b[0m\u001b[0mbandera\u001b[0m\u001b[1;33m==\u001b[0m\u001b[1;32mFalse\u001b[0m\u001b[1;33m)\u001b[0m\u001b[1;33m:\u001b[0m\u001b[1;33m\u001b[0m\u001b[1;33m\u001b[0m\u001b[0m\n\u001b[0;32m      9\u001b[0m \u001b[1;33m\u001b[0m\u001b[0m\n\u001b[1;32m---> 10\u001b[1;33m     \u001b[0mb\u001b[0m\u001b[1;33m=\u001b[0m\u001b[0mint\u001b[0m\u001b[1;33m(\u001b[0m\u001b[0minput\u001b[0m\u001b[1;33m(\u001b[0m\u001b[1;34m'Introduce b, porfavor: '\u001b[0m\u001b[1;33m)\u001b[0m\u001b[1;33m)\u001b[0m\u001b[1;33m\u001b[0m\u001b[1;33m\u001b[0m\u001b[0m\n\u001b[0m\u001b[0;32m     11\u001b[0m \u001b[1;33m\u001b[0m\u001b[0m\n\u001b[0;32m     12\u001b[0m     \u001b[0mprint\u001b[0m\u001b[1;33m(\u001b[0m\u001b[1;34m'ax + b = 0'\u001b[0m\u001b[1;33m)\u001b[0m\u001b[1;33m\u001b[0m\u001b[1;33m\u001b[0m\u001b[0m\n",
      "\u001b[1;32m~\\anaconda3\\lib\\site-packages\\ipykernel\\kernelbase.py\u001b[0m in \u001b[0;36mraw_input\u001b[1;34m(self, prompt)\u001b[0m\n\u001b[0;32m    858\u001b[0m                 \u001b[1;34m\"raw_input was called, but this frontend does not support input requests.\"\u001b[0m\u001b[1;33m\u001b[0m\u001b[1;33m\u001b[0m\u001b[0m\n\u001b[0;32m    859\u001b[0m             )\n\u001b[1;32m--> 860\u001b[1;33m         return self._input_request(str(prompt),\n\u001b[0m\u001b[0;32m    861\u001b[0m             \u001b[0mself\u001b[0m\u001b[1;33m.\u001b[0m\u001b[0m_parent_ident\u001b[0m\u001b[1;33m,\u001b[0m\u001b[1;33m\u001b[0m\u001b[1;33m\u001b[0m\u001b[0m\n\u001b[0;32m    862\u001b[0m             \u001b[0mself\u001b[0m\u001b[1;33m.\u001b[0m\u001b[0m_parent_header\u001b[0m\u001b[1;33m,\u001b[0m\u001b[1;33m\u001b[0m\u001b[1;33m\u001b[0m\u001b[0m\n",
      "\u001b[1;32m~\\anaconda3\\lib\\site-packages\\ipykernel\\kernelbase.py\u001b[0m in \u001b[0;36m_input_request\u001b[1;34m(self, prompt, ident, parent, password)\u001b[0m\n\u001b[0;32m    902\u001b[0m             \u001b[1;32mexcept\u001b[0m \u001b[0mKeyboardInterrupt\u001b[0m\u001b[1;33m:\u001b[0m\u001b[1;33m\u001b[0m\u001b[1;33m\u001b[0m\u001b[0m\n\u001b[0;32m    903\u001b[0m                 \u001b[1;31m# re-raise KeyboardInterrupt, to truncate traceback\u001b[0m\u001b[1;33m\u001b[0m\u001b[1;33m\u001b[0m\u001b[1;33m\u001b[0m\u001b[0m\n\u001b[1;32m--> 904\u001b[1;33m                 \u001b[1;32mraise\u001b[0m \u001b[0mKeyboardInterrupt\u001b[0m\u001b[1;33m(\u001b[0m\u001b[1;34m\"Interrupted by user\"\u001b[0m\u001b[1;33m)\u001b[0m \u001b[1;32mfrom\u001b[0m \u001b[1;32mNone\u001b[0m\u001b[1;33m\u001b[0m\u001b[1;33m\u001b[0m\u001b[0m\n\u001b[0m\u001b[0;32m    905\u001b[0m             \u001b[1;32mexcept\u001b[0m \u001b[0mException\u001b[0m \u001b[1;32mas\u001b[0m \u001b[0me\u001b[0m\u001b[1;33m:\u001b[0m\u001b[1;33m\u001b[0m\u001b[1;33m\u001b[0m\u001b[0m\n\u001b[0;32m    906\u001b[0m                 \u001b[0mself\u001b[0m\u001b[1;33m.\u001b[0m\u001b[0mlog\u001b[0m\u001b[1;33m.\u001b[0m\u001b[0mwarning\u001b[0m\u001b[1;33m(\u001b[0m\u001b[1;34m\"Invalid Message:\"\u001b[0m\u001b[1;33m,\u001b[0m \u001b[0mexc_info\u001b[0m\u001b[1;33m=\u001b[0m\u001b[1;32mTrue\u001b[0m\u001b[1;33m)\u001b[0m\u001b[1;33m\u001b[0m\u001b[1;33m\u001b[0m\u001b[0m\n",
      "\u001b[1;31mKeyboardInterrupt\u001b[0m: Interrupted by user"
     ]
    }
   ],
   "source": [
    "# 7.- Escriba un programa que pida los coeficientes de una ecuación de primer grado (a x + b = 0) y escriba la solución\n",
    "\n",
    "print('Vamos a hacer una ecuacion de primer grado  (ax + b = 0)')\n",
    "\n",
    "a=int(input('Introduce a, porfavor: '))\n",
    "\n",
    "bandera=False\n",
    "while(bandera==False):\n",
    "\n",
    "    b=int(input('Introduce b, porfavor: '))\n",
    "\n",
    "    print('ax + b = 0')\n",
    "    print('x = -', b,' / ', a)\n",
    "\n",
    "    if(b==0):\n",
    "\n",
    "        print('La division de un numero entre 0 no es posible ya que es una indeterminacion y no puede resolverse, introduce otro numero que no sea cero, porfavor')\n",
    "        bandera=False\n",
    "\n",
    "    else:\n",
    "\n",
    "        print('x =', -b/a)\n",
    "        bandera=True\n"
   ]
  },
  {
   "cell_type": "code",
   "execution_count": 55,
   "id": "33854c9a",
   "metadata": {},
   "outputs": [
    {
     "name": "stdout",
     "output_type": "stream",
     "text": [
      "Introduce T o t para el area del triangulo, y C o c para la del circulo: f\n",
      "Respuesta incorrecta, vuelve a leer las instrucciones y pon una respuesta valida\n"
     ]
    },
    {
     "ename": "KeyboardInterrupt",
     "evalue": "Interrupted by user",
     "output_type": "error",
     "traceback": [
      "\u001b[1;31m---------------------------------------------------------------------------\u001b[0m",
      "\u001b[1;31mKeyboardInterrupt\u001b[0m                         Traceback (most recent call last)",
      "\u001b[1;32m<ipython-input-55-ab2219553587>\u001b[0m in \u001b[0;36m<module>\u001b[1;34m\u001b[0m\n\u001b[0;32m      4\u001b[0m \u001b[1;32mwhile\u001b[0m\u001b[1;33m(\u001b[0m\u001b[0mbandera\u001b[0m\u001b[1;33m==\u001b[0m\u001b[1;32mFalse\u001b[0m\u001b[1;33m)\u001b[0m\u001b[1;33m:\u001b[0m\u001b[1;33m\u001b[0m\u001b[1;33m\u001b[0m\u001b[0m\n\u001b[0;32m      5\u001b[0m \u001b[1;33m\u001b[0m\u001b[0m\n\u001b[1;32m----> 6\u001b[1;33m     \u001b[0mpregunta\u001b[0m\u001b[1;33m=\u001b[0m\u001b[0mstr\u001b[0m\u001b[1;33m(\u001b[0m\u001b[0minput\u001b[0m\u001b[1;33m(\u001b[0m\u001b[1;34m'Introduce T o t para el area del triangulo, y C o c para la del circulo: '\u001b[0m\u001b[1;33m)\u001b[0m\u001b[1;33m)\u001b[0m\u001b[1;33m\u001b[0m\u001b[1;33m\u001b[0m\u001b[0m\n\u001b[0m\u001b[0;32m      7\u001b[0m \u001b[1;33m\u001b[0m\u001b[0m\n\u001b[0;32m      8\u001b[0m     \u001b[1;32mif\u001b[0m\u001b[1;33m(\u001b[0m\u001b[0mpregunta\u001b[0m\u001b[1;33m==\u001b[0m\u001b[1;34m'T'\u001b[0m \u001b[1;32mor\u001b[0m \u001b[0mpregunta\u001b[0m\u001b[1;33m==\u001b[0m\u001b[1;34m't'\u001b[0m\u001b[1;33m)\u001b[0m\u001b[1;33m:\u001b[0m\u001b[1;33m\u001b[0m\u001b[1;33m\u001b[0m\u001b[0m\n",
      "\u001b[1;32m~\\anaconda3\\lib\\site-packages\\ipykernel\\kernelbase.py\u001b[0m in \u001b[0;36mraw_input\u001b[1;34m(self, prompt)\u001b[0m\n\u001b[0;32m    858\u001b[0m                 \u001b[1;34m\"raw_input was called, but this frontend does not support input requests.\"\u001b[0m\u001b[1;33m\u001b[0m\u001b[1;33m\u001b[0m\u001b[0m\n\u001b[0;32m    859\u001b[0m             )\n\u001b[1;32m--> 860\u001b[1;33m         return self._input_request(str(prompt),\n\u001b[0m\u001b[0;32m    861\u001b[0m             \u001b[0mself\u001b[0m\u001b[1;33m.\u001b[0m\u001b[0m_parent_ident\u001b[0m\u001b[1;33m,\u001b[0m\u001b[1;33m\u001b[0m\u001b[1;33m\u001b[0m\u001b[0m\n\u001b[0;32m    862\u001b[0m             \u001b[0mself\u001b[0m\u001b[1;33m.\u001b[0m\u001b[0m_parent_header\u001b[0m\u001b[1;33m,\u001b[0m\u001b[1;33m\u001b[0m\u001b[1;33m\u001b[0m\u001b[0m\n",
      "\u001b[1;32m~\\anaconda3\\lib\\site-packages\\ipykernel\\kernelbase.py\u001b[0m in \u001b[0;36m_input_request\u001b[1;34m(self, prompt, ident, parent, password)\u001b[0m\n\u001b[0;32m    902\u001b[0m             \u001b[1;32mexcept\u001b[0m \u001b[0mKeyboardInterrupt\u001b[0m\u001b[1;33m:\u001b[0m\u001b[1;33m\u001b[0m\u001b[1;33m\u001b[0m\u001b[0m\n\u001b[0;32m    903\u001b[0m                 \u001b[1;31m# re-raise KeyboardInterrupt, to truncate traceback\u001b[0m\u001b[1;33m\u001b[0m\u001b[1;33m\u001b[0m\u001b[1;33m\u001b[0m\u001b[0m\n\u001b[1;32m--> 904\u001b[1;33m                 \u001b[1;32mraise\u001b[0m \u001b[0mKeyboardInterrupt\u001b[0m\u001b[1;33m(\u001b[0m\u001b[1;34m\"Interrupted by user\"\u001b[0m\u001b[1;33m)\u001b[0m \u001b[1;32mfrom\u001b[0m \u001b[1;32mNone\u001b[0m\u001b[1;33m\u001b[0m\u001b[1;33m\u001b[0m\u001b[0m\n\u001b[0m\u001b[0;32m    905\u001b[0m             \u001b[1;32mexcept\u001b[0m \u001b[0mException\u001b[0m \u001b[1;32mas\u001b[0m \u001b[0me\u001b[0m\u001b[1;33m:\u001b[0m\u001b[1;33m\u001b[0m\u001b[1;33m\u001b[0m\u001b[0m\n\u001b[0;32m    906\u001b[0m                 \u001b[0mself\u001b[0m\u001b[1;33m.\u001b[0m\u001b[0mlog\u001b[0m\u001b[1;33m.\u001b[0m\u001b[0mwarning\u001b[0m\u001b[1;33m(\u001b[0m\u001b[1;34m\"Invalid Message:\"\u001b[0m\u001b[1;33m,\u001b[0m \u001b[0mexc_info\u001b[0m\u001b[1;33m=\u001b[0m\u001b[1;32mTrue\u001b[0m\u001b[1;33m)\u001b[0m\u001b[1;33m\u001b[0m\u001b[1;33m\u001b[0m\u001b[0m\n",
      "\u001b[1;31mKeyboardInterrupt\u001b[0m: Interrupted by user"
     ]
    }
   ],
   "source": [
    "# 8.- Escriba un programa que pregunte primero si se quiere calcular el área de un triángulo o la de un círculo. Si se contesta que se quiere calcular el área de un triángulo (escribiendo T o t), el programa tiene que pedir entonces la base y la altura y escribir el área. Si se contesta que se quiere calcular el área de un círculo (escribiendo C o c), el programa tiene que pedir entonces el radio y escribir el área. Se recuerda que el área de un triángulo es base por altura dividido por 2 y que el área de un círculo es Pi (aproximadamente 3,141592) por el radio al cuadrado.\n",
    "\n",
    "bandera=False\n",
    "while(bandera==False):\n",
    "\n",
    "    pregunta=str(input('Introduce T o t para el area del triangulo, y C o c para la del circulo: '))\n",
    "\n",
    "    if(pregunta=='T' or pregunta=='t'):\n",
    "\n",
    "        print('Area del triangulo: (base x altura)/2')\n",
    "        base=int(input('Introduce la base del triangulo'))\n",
    "        altura=int(input('Introduce la altura del triangulo'))\n",
    "        print('Area del triangulo: ', (base * altura)/2)        \n",
    "        bandera=True\n",
    "\n",
    "    elif(pregunta=='C' or pregunta=='c'):\n",
    "\n",
    "        print('Area del circulo: pi * r^2')\n",
    "        radio=int(input('Introduce el radio del circulo'))\n",
    "        print('Area del circulo: ', 3.141592 * radio**2)        \n",
    "        bandera=True\n",
    "        \n",
    "    else:\n",
    "        \n",
    "        print('Respuesta incorrecta, vuelve a leer las instrucciones y pon una respuesta valida')\n",
    "        bandera=False\n",
    "        "
   ]
  },
  {
   "cell_type": "code",
   "execution_count": 60,
   "id": "526806f5",
   "metadata": {},
   "outputs": [
    {
     "name": "stdout",
     "output_type": "stream",
     "text": [
      "Introduce una distancia en cm, porfavor: 1800\n",
      "Tus:  1800.0  cm en cm:  1800.0  cm\n",
      "Tus:  1800.0  cm en m:  18.0  m\n",
      "Tus:  1800.0  cm en km:  0.018  km\n"
     ]
    }
   ],
   "source": [
    "# 9.- Escriba un programa que pida una distancia en centímetros y que escriba esa distancia en kilómetros, metros y centímetros (escribiendo todas las unidades)\n",
    "\n",
    "bandera=False\n",
    "while(bandera==False):\n",
    "    \n",
    "    cm=float(input('Introduce una distancia en cm, porfavor: '))\n",
    "\n",
    "    if(cm<=0):\n",
    "\n",
    "        print('¿Desde cuando las distancias son menores o iguales que 0?')\n",
    "        bandera=False\n",
    "\n",
    "    else:\n",
    "\n",
    "        print('Tus: ', cm, ' cm en cm: ', cm, ' cm')\n",
    "        print('Tus: ', cm, ' cm en m: ', cm/100, ' m')\n",
    "        print('Tus: ', cm, ' cm en km: ', cm/100000, ' km')\n",
    "\n",
    "        bandera=True\n"
   ]
  },
  {
   "cell_type": "code",
   "execution_count": 64,
   "id": "5118c66c",
   "metadata": {},
   "outputs": [
    {
     "name": "stdout",
     "output_type": "stream",
     "text": [
      "Introduce tu edad en años, por favor: 23\n",
      "Tus:  23  años en años:  23  años\n",
      "Tus:  23  años en meses:  276  meses\n",
      "Tus:  23  años en semanas:  1199.289  semanas\n",
      "Tus:  23  años en semanas:  8395  dias\n",
      "Tus:  23  años en semanas:  201480  horas\n",
      "Tus:  23  años en semanas:  725328000  segundos\n"
     ]
    }
   ],
   "source": [
    "# 10.- Pide al usuario su edad y muestra por pantalla su edad pasada a meses, semanas, dias y horas\n",
    "\n",
    "bandera=False\n",
    "while(bandera==False):\n",
    "    \n",
    "    edad=int(input('Introduce tu edad en años, por favor: '))\n",
    "\n",
    "    if(edad<=0):\n",
    "\n",
    "        print('¿Desde cuando tu edad puede ser menor o igual a cero?')\n",
    "        bandera=False\n",
    "\n",
    "    else:\n",
    "\n",
    "        print('Tus: ', edad, ' años en años: ', edad, ' años')\n",
    "        print('Tus: ', edad, ' años en meses: ', edad*12, ' meses')\n",
    "        print('Tus: ', edad, ' años en semanas: ', edad*52.143, ' semanas')\n",
    "        print('Tus: ', edad, ' años en semanas: ', edad*365, ' dias')\n",
    "        print('Tus: ', edad, ' años en semanas: ', edad*8760, ' horas')\n",
    "        print('Tus: ', edad, ' años en semanas: ', edad*31536000, ' segundos')\n",
    "       \n",
    "        bandera=True"
   ]
  },
  {
   "cell_type": "code",
   "execution_count": null,
   "id": "bb289f70",
   "metadata": {},
   "outputs": [],
   "source": []
  }
 ],
 "metadata": {
  "kernelspec": {
   "display_name": "Python 3",
   "language": "python",
   "name": "python3"
  },
  "language_info": {
   "codemirror_mode": {
    "name": "ipython",
    "version": 3
   },
   "file_extension": ".py",
   "mimetype": "text/x-python",
   "name": "python",
   "nbconvert_exporter": "python",
   "pygments_lexer": "ipython3",
   "version": "3.8.8"
  }
 },
 "nbformat": 4,
 "nbformat_minor": 5
}
