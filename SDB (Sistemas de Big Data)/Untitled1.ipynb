{
 "cells": [
  {
   "cell_type": "code",
   "execution_count": 12,
   "id": "00fd071e",
   "metadata": {},
   "outputs": [
    {
     "name": "stdout",
     "output_type": "stream",
     "text": [
      "Introduce una palabra por favor: Hola\n",
      "Hola  0  veces\n",
      "Hola  1  veces\n",
      "Hola  2  veces\n",
      "Hola  3  veces\n",
      "Hola  4  veces\n",
      "Hola  5  veces\n",
      "Hola  6  veces\n",
      "Hola  7  veces\n",
      "Hola  8  veces\n",
      "Hola  9  veces\n"
     ]
    }
   ],
   "source": [
    "# 1.- Escribir un programa que pida al usuario una palabra y la muestre por pantalla 10 veces\n",
    "\n",
    "palabra=str(input('Introduce una palabra por favor: '))\n",
    "\n",
    "for i in range (10):\n",
    "    print(palabra, '', i, ' veces')"
   ]
  },
  {
   "cell_type": "code",
   "execution_count": 11,
   "id": "78cb72f5",
   "metadata": {},
   "outputs": [
    {
     "name": "stdout",
     "output_type": "stream",
     "text": [
      "Introduce tu edad por favor: 23\n",
      " Años que has cumplido:  0  años\n",
      " Años que has cumplido:  1  años\n",
      " Años que has cumplido:  2  años\n",
      " Años que has cumplido:  3  años\n",
      " Años que has cumplido:  4  años\n",
      " Años que has cumplido:  5  años\n",
      " Años que has cumplido:  6  años\n",
      " Años que has cumplido:  7  años\n",
      " Años que has cumplido:  8  años\n",
      " Años que has cumplido:  9  años\n",
      " Años que has cumplido:  10  años\n",
      " Años que has cumplido:  11  años\n",
      " Años que has cumplido:  12  años\n",
      " Años que has cumplido:  13  años\n",
      " Años que has cumplido:  14  años\n",
      " Años que has cumplido:  15  años\n",
      " Años que has cumplido:  16  años\n",
      " Años que has cumplido:  17  años\n",
      " Años que has cumplido:  18  años\n",
      " Años que has cumplido:  19  años\n",
      " Años que has cumplido:  20  años\n",
      " Años que has cumplido:  21  años\n",
      " Años que has cumplido:  22  años\n",
      " Años que has cumplido:  23  años\n"
     ]
    }
   ],
   "source": [
    "# 2.- Escribir un pregunte al usuario su edad y muestre por pantalla todos los años que ha cumplido (desde uno hasta su edad)\n",
    "\n",
    "edad=int(input('Introduce tu edad por favor: '))\n",
    "\n",
    "for i in range(edad + 1): # Hay que poner edad + 1 porque empieza en el 0 y se queda en un numero menos de los que tiene\n",
    "        print(' Años que has cumplido: ', i, ' años')\n",
    "        i += 1\n"
   ]
  },
  {
   "cell_type": "code",
   "execution_count": 10,
   "id": "1beec8b1",
   "metadata": {},
   "outputs": [
    {
     "name": "stdout",
     "output_type": "stream",
     "text": [
      "Introduce un numero entero positivo, por favor: 15\n",
      "El :  0  es par\n",
      "El :  1  es impar\n",
      "El :  2  es par\n",
      "El :  3  es impar\n",
      "El :  4  es par\n",
      "El :  5  es impar\n",
      "El :  6  es par\n",
      "El :  7  es impar\n",
      "El :  8  es par\n",
      "El :  9  es impar\n",
      "El :  10  es par\n",
      "El :  11  es impar\n",
      "El :  12  es par\n",
      "El :  13  es impar\n",
      "El :  14  es par\n",
      "El :  15  es impar\n"
     ]
    },
    {
     "ename": "KeyboardInterrupt",
     "evalue": "Interrupted by user",
     "output_type": "error",
     "traceback": [
      "\u001b[1;31m---------------------------------------------------------------------------\u001b[0m",
      "\u001b[1;31mKeyboardInterrupt\u001b[0m                         Traceback (most recent call last)",
      "\u001b[1;32m<ipython-input-10-84e2bf4baacc>\u001b[0m in \u001b[0;36m<module>\u001b[1;34m\u001b[0m\n\u001b[0;32m      4\u001b[0m \u001b[1;32mwhile\u001b[0m \u001b[0mbandera\u001b[0m \u001b[1;33m==\u001b[0m \u001b[1;32mTrue\u001b[0m\u001b[1;33m:\u001b[0m\u001b[1;33m\u001b[0m\u001b[1;33m\u001b[0m\u001b[0m\n\u001b[0;32m      5\u001b[0m \u001b[1;33m\u001b[0m\u001b[0m\n\u001b[1;32m----> 6\u001b[1;33m     \u001b[0mnum\u001b[0m\u001b[1;33m=\u001b[0m\u001b[0mint\u001b[0m\u001b[1;33m(\u001b[0m\u001b[0minput\u001b[0m\u001b[1;33m(\u001b[0m\u001b[1;34m'Introduce un numero entero positivo, por favor: '\u001b[0m\u001b[1;33m)\u001b[0m\u001b[1;33m)\u001b[0m\u001b[1;33m\u001b[0m\u001b[1;33m\u001b[0m\u001b[0m\n\u001b[0m\u001b[0;32m      7\u001b[0m \u001b[1;33m\u001b[0m\u001b[0m\n\u001b[0;32m      8\u001b[0m     \u001b[1;32mif\u001b[0m \u001b[0mnum\u001b[0m \u001b[1;33m<\u001b[0m \u001b[1;36m0\u001b[0m\u001b[1;33m:\u001b[0m\u001b[1;33m\u001b[0m\u001b[1;33m\u001b[0m\u001b[0m\n",
      "\u001b[1;32m~\\anaconda3\\lib\\site-packages\\ipykernel\\kernelbase.py\u001b[0m in \u001b[0;36mraw_input\u001b[1;34m(self, prompt)\u001b[0m\n\u001b[0;32m    858\u001b[0m                 \u001b[1;34m\"raw_input was called, but this frontend does not support input requests.\"\u001b[0m\u001b[1;33m\u001b[0m\u001b[1;33m\u001b[0m\u001b[0m\n\u001b[0;32m    859\u001b[0m             )\n\u001b[1;32m--> 860\u001b[1;33m         return self._input_request(str(prompt),\n\u001b[0m\u001b[0;32m    861\u001b[0m             \u001b[0mself\u001b[0m\u001b[1;33m.\u001b[0m\u001b[0m_parent_ident\u001b[0m\u001b[1;33m,\u001b[0m\u001b[1;33m\u001b[0m\u001b[1;33m\u001b[0m\u001b[0m\n\u001b[0;32m    862\u001b[0m             \u001b[0mself\u001b[0m\u001b[1;33m.\u001b[0m\u001b[0m_parent_header\u001b[0m\u001b[1;33m,\u001b[0m\u001b[1;33m\u001b[0m\u001b[1;33m\u001b[0m\u001b[0m\n",
      "\u001b[1;32m~\\anaconda3\\lib\\site-packages\\ipykernel\\kernelbase.py\u001b[0m in \u001b[0;36m_input_request\u001b[1;34m(self, prompt, ident, parent, password)\u001b[0m\n\u001b[0;32m    902\u001b[0m             \u001b[1;32mexcept\u001b[0m \u001b[0mKeyboardInterrupt\u001b[0m\u001b[1;33m:\u001b[0m\u001b[1;33m\u001b[0m\u001b[1;33m\u001b[0m\u001b[0m\n\u001b[0;32m    903\u001b[0m                 \u001b[1;31m# re-raise KeyboardInterrupt, to truncate traceback\u001b[0m\u001b[1;33m\u001b[0m\u001b[1;33m\u001b[0m\u001b[1;33m\u001b[0m\u001b[0m\n\u001b[1;32m--> 904\u001b[1;33m                 \u001b[1;32mraise\u001b[0m \u001b[0mKeyboardInterrupt\u001b[0m\u001b[1;33m(\u001b[0m\u001b[1;34m\"Interrupted by user\"\u001b[0m\u001b[1;33m)\u001b[0m \u001b[1;32mfrom\u001b[0m \u001b[1;32mNone\u001b[0m\u001b[1;33m\u001b[0m\u001b[1;33m\u001b[0m\u001b[0m\n\u001b[0m\u001b[0;32m    905\u001b[0m             \u001b[1;32mexcept\u001b[0m \u001b[0mException\u001b[0m \u001b[1;32mas\u001b[0m \u001b[0me\u001b[0m\u001b[1;33m:\u001b[0m\u001b[1;33m\u001b[0m\u001b[1;33m\u001b[0m\u001b[0m\n\u001b[0;32m    906\u001b[0m                 \u001b[0mself\u001b[0m\u001b[1;33m.\u001b[0m\u001b[0mlog\u001b[0m\u001b[1;33m.\u001b[0m\u001b[0mwarning\u001b[0m\u001b[1;33m(\u001b[0m\u001b[1;34m\"Invalid Message:\"\u001b[0m\u001b[1;33m,\u001b[0m \u001b[0mexc_info\u001b[0m\u001b[1;33m=\u001b[0m\u001b[1;32mTrue\u001b[0m\u001b[1;33m)\u001b[0m\u001b[1;33m\u001b[0m\u001b[1;33m\u001b[0m\u001b[0m\n",
      "\u001b[1;31mKeyboardInterrupt\u001b[0m: Interrupted by user"
     ]
    }
   ],
   "source": [
    "# 3.- Escribir un programa que pida al usuario iun numero entero positivo y muestre por pantalla todos los numeros impares desde 1 hasta ese numero separados por comas\n",
    "\n",
    "bandera = True\n",
    "while bandera == True:\n",
    "\n",
    "    num=int(input('Introduce un numero entero positivo, por favor: '))\n",
    "\n",
    "    if num < 0:\n",
    "    \n",
    "        print('Te he dicho que sea un numero entero positivo')\n",
    "        \n",
    "    else: \n",
    "        \n",
    "        for i in range(num + 1):\n",
    "            \n",
    "            if i % 2 == 0:\n",
    "        \n",
    "                 print('El : ', i, ' es par')            \n",
    "            \n",
    "            else:\n",
    "                \n",
    "                 print('El : ', i, ' es impar') \n",
    "                    "
   ]
  },
  {
   "cell_type": "code",
   "execution_count": null,
   "id": "3781c623",
   "metadata": {},
   "outputs": [
    {
     "name": "stdout",
     "output_type": "stream",
     "text": [
      "Introduce un numero entero positivo, por favor: 8\n"
     ]
    }
   ],
   "source": [
    "## 4.- Escribir un programa que pida al usuario un número entero positivo y muestre por pantalla la cuenta atrás desde ese número hasta cero separados por comas.\n",
    "\n",
    "bandera = True\n",
    "while bandera == True:\n",
    "\n",
    "    num=int(input('Introduce un numero entero positivo, por favor: '))\n",
    "\n",
    "    if num < 0:\n",
    "    \n",
    "        print('Te he dicho que sea un numero entero positivo')\n",
    "        \n",
    "    else: \n",
    "        \n",
    "        for i in range(num + 1):\n",
    "            \n",
    "            print(i)            \n",
    "            \n",
    "           "
   ]
  },
  {
   "cell_type": "code",
   "execution_count": null,
   "id": "7d4c34df",
   "metadata": {},
   "outputs": [],
   "source": []
  },
  {
   "cell_type": "code",
   "execution_count": null,
   "id": "01422ac6",
   "metadata": {},
   "outputs": [],
   "source": []
  },
  {
   "cell_type": "code",
   "execution_count": null,
   "id": "83843abf",
   "metadata": {},
   "outputs": [],
   "source": []
  }
 ],
 "metadata": {
  "kernelspec": {
   "display_name": "Python 3",
   "language": "python",
   "name": "python3"
  },
  "language_info": {
   "codemirror_mode": {
    "name": "ipython",
    "version": 3
   },
   "file_extension": ".py",
   "mimetype": "text/x-python",
   "name": "python",
   "nbconvert_exporter": "python",
   "pygments_lexer": "ipython3",
   "version": "3.8.8"
  }
 },
 "nbformat": 4,
 "nbformat_minor": 5
}
