{
 "cells": [
  {
   "cell_type": "code",
   "execution_count": 24,
   "id": "a7c7f165",
   "metadata": {},
   "outputs": [],
   "source": [
    "a = 5"
   ]
  },
  {
   "cell_type": "code",
   "execution_count": 25,
   "id": "0c08e398",
   "metadata": {},
   "outputs": [],
   "source": [
    "b = 2"
   ]
  },
  {
   "cell_type": "code",
   "execution_count": 26,
   "id": "ae8587b7",
   "metadata": {},
   "outputs": [],
   "source": [
    "c = 'Hola'"
   ]
  },
  {
   "cell_type": "code",
   "execution_count": 27,
   "id": "ec81ee5a",
   "metadata": {},
   "outputs": [
    {
     "data": {
      "text/plain": [
       "5"
      ]
     },
     "execution_count": 27,
     "metadata": {},
     "output_type": "execute_result"
    }
   ],
   "source": [
    "a"
   ]
  },
  {
   "cell_type": "code",
   "execution_count": 28,
   "id": "50e90601",
   "metadata": {},
   "outputs": [
    {
     "data": {
      "text/plain": [
       "2"
      ]
     },
     "execution_count": 28,
     "metadata": {},
     "output_type": "execute_result"
    }
   ],
   "source": [
    "b"
   ]
  },
  {
   "cell_type": "code",
   "execution_count": 29,
   "id": "92180037",
   "metadata": {},
   "outputs": [
    {
     "data": {
      "text/plain": [
       "'Hola'"
      ]
     },
     "execution_count": 29,
     "metadata": {},
     "output_type": "execute_result"
    }
   ],
   "source": [
    "c"
   ]
  },
  {
   "cell_type": "code",
   "execution_count": 30,
   "id": "9dba45de",
   "metadata": {},
   "outputs": [
    {
     "name": "stdout",
     "output_type": "stream",
     "text": [
      "5\n",
      "2\n",
      "Hola\n"
     ]
    }
   ],
   "source": [
    "print(a)\n",
    "print(b)\n",
    "print(c)"
   ]
  },
  {
   "cell_type": "code",
   "execution_count": 31,
   "id": "97eb0db0",
   "metadata": {},
   "outputs": [],
   "source": [
    "#El comentario es con el #"
   ]
  },
  {
   "cell_type": "code",
   "execution_count": 32,
   "id": "21c8f0c1",
   "metadata": {},
   "outputs": [],
   "source": [
    "v = a #La variable tomará el valor de la variable a la que es 5"
   ]
  },
  {
   "cell_type": "code",
   "execution_count": 33,
   "id": "1ef0b6a3",
   "metadata": {},
   "outputs": [
    {
     "data": {
      "text/plain": [
       "'\\nEjemplo de comentario de varias lineas:\\nLinea 1\\nLinea 2\\nLinea 3\\n...\\nLinea n\\n'"
      ]
     },
     "execution_count": 33,
     "metadata": {},
     "output_type": "execute_result"
    }
   ],
   "source": [
    "\"\"\"\n",
    "Ejemplo de comentario de varias lineas:\n",
    "Linea 1\n",
    "Linea 2\n",
    "Linea 3\n",
    "...\n",
    "Linea n\n",
    "\"\"\""
   ]
  },
  {
   "cell_type": "code",
   "execution_count": 34,
   "id": "bf80a937",
   "metadata": {},
   "outputs": [],
   "source": [
    "a = 5\n",
    "b = 2"
   ]
  },
  {
   "cell_type": "code",
   "execution_count": 35,
   "id": "8944d3bc",
   "metadata": {},
   "outputs": [
    {
     "data": {
      "text/plain": [
       "7"
      ]
     },
     "execution_count": 35,
     "metadata": {},
     "output_type": "execute_result"
    }
   ],
   "source": [
    "a + b"
   ]
  },
  {
   "cell_type": "code",
   "execution_count": 36,
   "id": "adc5b37d",
   "metadata": {},
   "outputs": [
    {
     "data": {
      "text/plain": [
       "3"
      ]
     },
     "execution_count": 36,
     "metadata": {},
     "output_type": "execute_result"
    }
   ],
   "source": [
    "a - b"
   ]
  },
  {
   "cell_type": "code",
   "execution_count": 37,
   "id": "5ff792ca",
   "metadata": {},
   "outputs": [
    {
     "data": {
      "text/plain": [
       "10"
      ]
     },
     "execution_count": 37,
     "metadata": {},
     "output_type": "execute_result"
    }
   ],
   "source": [
    "a * b"
   ]
  },
  {
   "cell_type": "code",
   "execution_count": 38,
   "id": "c6668f96",
   "metadata": {},
   "outputs": [
    {
     "data": {
      "text/plain": [
       "2.5"
      ]
     },
     "execution_count": 38,
     "metadata": {},
     "output_type": "execute_result"
    }
   ],
   "source": [
    "a / b"
   ]
  },
  {
   "cell_type": "code",
   "execution_count": 39,
   "id": "7ef86336",
   "metadata": {},
   "outputs": [
    {
     "data": {
      "text/plain": [
       "1"
      ]
     },
     "execution_count": 39,
     "metadata": {},
     "output_type": "execute_result"
    }
   ],
   "source": [
    "a % b"
   ]
  },
  {
   "cell_type": "code",
   "execution_count": 40,
   "id": "5c8ba594",
   "metadata": {},
   "outputs": [
    {
     "data": {
      "text/plain": [
       "25"
      ]
     },
     "execution_count": 40,
     "metadata": {},
     "output_type": "execute_result"
    }
   ],
   "source": [
    "a ** b #Exponencial"
   ]
  },
  {
   "cell_type": "code",
   "execution_count": 41,
   "id": "7036c1f2",
   "metadata": {},
   "outputs": [
    {
     "data": {
      "text/plain": [
       "2"
      ]
     },
     "execution_count": 41,
     "metadata": {},
     "output_type": "execute_result"
    }
   ],
   "source": [
    "a // b #Division entera"
   ]
  },
  {
   "cell_type": "code",
   "execution_count": 42,
   "id": "d9398935",
   "metadata": {},
   "outputs": [],
   "source": [
    "z = 100 #Asignacion"
   ]
  },
  {
   "cell_type": "code",
   "execution_count": 43,
   "id": "d1ab79c0",
   "metadata": {},
   "outputs": [
    {
     "data": {
      "text/plain": [
       "120"
      ]
     },
     "execution_count": 43,
     "metadata": {},
     "output_type": "execute_result"
    }
   ],
   "source": [
    "z += 20 # Suma de z mas valor nuevo, equivalente a: x = x+ n\n",
    "z"
   ]
  },
  {
   "cell_type": "code",
   "execution_count": 44,
   "id": "44d2e1f8",
   "metadata": {},
   "outputs": [
    {
     "data": {
      "text/plain": [
       "100"
      ]
     },
     "execution_count": 44,
     "metadata": {},
     "output_type": "execute_result"
    }
   ],
   "source": [
    "z -= 20 # Resta de z menos el valor nuevo, equivalente a: x = x - n\n",
    "z"
   ]
  },
  {
   "cell_type": "code",
   "execution_count": 45,
   "id": "af83833a",
   "metadata": {},
   "outputs": [],
   "source": [
    "z *= 2 # Multiplicacion de z * n, equivalente a: x = x * n"
   ]
  },
  {
   "cell_type": "code",
   "execution_count": 46,
   "id": "819a00d6",
   "metadata": {},
   "outputs": [
    {
     "data": {
      "text/plain": [
       "200"
      ]
     },
     "execution_count": 46,
     "metadata": {},
     "output_type": "execute_result"
    }
   ],
   "source": [
    "z"
   ]
  },
  {
   "cell_type": "code",
   "execution_count": 47,
   "id": "bf9d3474",
   "metadata": {},
   "outputs": [
    {
     "data": {
      "text/plain": [
       "50.0"
      ]
     },
     "execution_count": 47,
     "metadata": {},
     "output_type": "execute_result"
    }
   ],
   "source": [
    "z /= 4 # Division de z entre n, equivalente a; x = x / n\n",
    "z"
   ]
  },
  {
   "cell_type": "code",
   "execution_count": 48,
   "id": "99cf77e0",
   "metadata": {},
   "outputs": [
    {
     "data": {
      "text/plain": [
       "1.0"
      ]
     },
     "execution_count": 48,
     "metadata": {},
     "output_type": "execute_result"
    }
   ],
   "source": [
    "z %= 7 # Resto de z entre n, equivalente a; x = x % n\n",
    "z"
   ]
  },
  {
   "cell_type": "code",
   "execution_count": 49,
   "id": "18007a2f",
   "metadata": {},
   "outputs": [
    {
     "data": {
      "text/plain": [
       "33"
      ]
     },
     "execution_count": 49,
     "metadata": {},
     "output_type": "execute_result"
    }
   ],
   "source": [
    "z = 100\n",
    "z //=3 # Division entera de z entre n, equivalente a: x = x // n\n",
    "z"
   ]
  },
  {
   "cell_type": "code",
   "execution_count": 50,
   "id": "7d457f6d",
   "metadata": {},
   "outputs": [
    {
     "data": {
      "text/plain": [
       "35937"
      ]
     },
     "execution_count": 50,
     "metadata": {},
     "output_type": "execute_result"
    }
   ],
   "source": [
    "z **= 3 # Exponencial de x a n, equivalente a: x = x ** n\n",
    "z"
   ]
  },
  {
   "cell_type": "code",
   "execution_count": 51,
   "id": "d6e9ee21",
   "metadata": {},
   "outputs": [],
   "source": [
    "x = 100"
   ]
  },
  {
   "cell_type": "code",
   "execution_count": 52,
   "id": "c6ad9fd1",
   "metadata": {},
   "outputs": [
    {
     "data": {
      "text/plain": [
       "True"
      ]
     },
     "execution_count": 52,
     "metadata": {},
     "output_type": "execute_result"
    }
   ],
   "source": [
    "x > 5"
   ]
  },
  {
   "cell_type": "code",
   "execution_count": 53,
   "id": "9681a784",
   "metadata": {},
   "outputs": [
    {
     "data": {
      "text/plain": [
       "False"
      ]
     },
     "execution_count": 53,
     "metadata": {},
     "output_type": "execute_result"
    }
   ],
   "source": [
    "x < 5"
   ]
  },
  {
   "cell_type": "code",
   "execution_count": 54,
   "id": "f9cca7f3",
   "metadata": {},
   "outputs": [
    {
     "data": {
      "text/plain": [
       "True"
      ]
     },
     "execution_count": 54,
     "metadata": {},
     "output_type": "execute_result"
    }
   ],
   "source": [
    "x >= 100"
   ]
  },
  {
   "cell_type": "code",
   "execution_count": 55,
   "id": "7058fc37",
   "metadata": {},
   "outputs": [
    {
     "data": {
      "text/plain": [
       "True"
      ]
     },
     "execution_count": 55,
     "metadata": {},
     "output_type": "execute_result"
    }
   ],
   "source": [
    "x <= 100"
   ]
  },
  {
   "cell_type": "code",
   "execution_count": 56,
   "id": "ec55a70c",
   "metadata": {},
   "outputs": [
    {
     "data": {
      "text/plain": [
       "True"
      ]
     },
     "execution_count": 56,
     "metadata": {},
     "output_type": "execute_result"
    }
   ],
   "source": [
    "x == 100"
   ]
  },
  {
   "cell_type": "code",
   "execution_count": 57,
   "id": "10bcd539",
   "metadata": {},
   "outputs": [
    {
     "data": {
      "text/plain": [
       "False"
      ]
     },
     "execution_count": 57,
     "metadata": {},
     "output_type": "execute_result"
    }
   ],
   "source": [
    "x == '100' # Es incompatible"
   ]
  },
  {
   "cell_type": "code",
   "execution_count": 58,
   "id": "4b687040",
   "metadata": {},
   "outputs": [
    {
     "data": {
      "text/plain": [
       "False"
      ]
     },
     "execution_count": 58,
     "metadata": {},
     "output_type": "execute_result"
    }
   ],
   "source": [
    "x != 100"
   ]
  },
  {
   "cell_type": "code",
   "execution_count": 59,
   "id": "6e34c576",
   "metadata": {},
   "outputs": [
    {
     "data": {
      "text/plain": [
       "True"
      ]
     },
     "execution_count": 59,
     "metadata": {},
     "output_type": "execute_result"
    }
   ],
   "source": [
    "x > 36 and x < 200"
   ]
  },
  {
   "cell_type": "code",
   "execution_count": 60,
   "id": "62177754",
   "metadata": {},
   "outputs": [
    {
     "data": {
      "text/plain": [
       "False"
      ]
     },
     "execution_count": 60,
     "metadata": {},
     "output_type": "execute_result"
    }
   ],
   "source": [
    "x > 36 and x > 200"
   ]
  },
  {
   "cell_type": "code",
   "execution_count": 61,
   "id": "ac93e02c",
   "metadata": {},
   "outputs": [
    {
     "data": {
      "text/plain": [
       "True"
      ]
     },
     "execution_count": 61,
     "metadata": {},
     "output_type": "execute_result"
    }
   ],
   "source": [
    "x > 36 or x < 200"
   ]
  },
  {
   "cell_type": "code",
   "execution_count": 62,
   "id": "60066b99",
   "metadata": {},
   "outputs": [
    {
     "data": {
      "text/plain": [
       "False"
      ]
     },
     "execution_count": 62,
     "metadata": {},
     "output_type": "execute_result"
    }
   ],
   "source": [
    "not(x > 36 and x < 200)"
   ]
  },
  {
   "cell_type": "code",
   "execution_count": 63,
   "id": "b85d10d7",
   "metadata": {},
   "outputs": [
    {
     "data": {
      "text/plain": [
       "False"
      ]
     },
     "execution_count": 63,
     "metadata": {},
     "output_type": "execute_result"
    }
   ],
   "source": [
    "# OPERADORES DE IDENTIDAD\n",
    "\n",
    "a is x # Devuelve true si ambos terminos son iguales, si no false"
   ]
  },
  {
   "cell_type": "code",
   "execution_count": 64,
   "id": "9541c5fc",
   "metadata": {},
   "outputs": [
    {
     "data": {
      "text/plain": [
       "True"
      ]
     },
     "execution_count": 64,
     "metadata": {},
     "output_type": "execute_result"
    }
   ],
   "source": [
    "a is not x # Devuelve true si ambos terminos son distintos, si no false"
   ]
  },
  {
   "cell_type": "code",
   "execution_count": 65,
   "id": "b030fb14",
   "metadata": {},
   "outputs": [],
   "source": [
    "cadena = 'hola'"
   ]
  },
  {
   "cell_type": "code",
   "execution_count": 66,
   "id": "8a1881f1",
   "metadata": {},
   "outputs": [
    {
     "data": {
      "text/plain": [
       "True"
      ]
     },
     "execution_count": 66,
     "metadata": {},
     "output_type": "execute_result"
    }
   ],
   "source": [
    "'a' in cadena # Devuelve true si el primer elemento esta en el segundo, si no false"
   ]
  },
  {
   "cell_type": "code",
   "execution_count": 67,
   "id": "75ac2299",
   "metadata": {},
   "outputs": [
    {
     "data": {
      "text/plain": [
       "False"
      ]
     },
     "execution_count": 67,
     "metadata": {},
     "output_type": "execute_result"
    }
   ],
   "source": [
    "'a' not in cadena # Devuelve false si el primer elemento esta en el segundo, si no true"
   ]
  },
  {
   "cell_type": "code",
   "execution_count": 70,
   "id": "c1e8360c",
   "metadata": {},
   "outputs": [
    {
     "name": "stdout",
     "output_type": "stream",
     "text": [
      "El valor 5  positivo\n"
     ]
    }
   ],
   "source": [
    "x = 5\n",
    "\n",
    "if x > 0:\n",
    "\n",
    "    print('El valor', x, ' positivo')\n",
    "    \n",
    "else:\n",
    "    \n",
    "    print('El valor', x, 'negativo')"
   ]
  },
  {
   "cell_type": "code",
   "execution_count": 75,
   "id": "bc865430",
   "metadata": {},
   "outputs": [
    {
     "name": "stdout",
     "output_type": "stream",
     "text": [
      "El valor 5  positivo\n"
     ]
    }
   ],
   "source": [
    "x = 5\n",
    "\n",
    "if x > 0:\n",
    "\n",
    "    print('El valor', x, ' positivo')\n",
    "    \n",
    "else:\n",
    "    \n",
    "    pass"
   ]
  },
  {
   "cell_type": "code",
   "execution_count": 76,
   "id": "c2da9491",
   "metadata": {},
   "outputs": [
    {
     "name": "stdout",
     "output_type": "stream",
     "text": [
      "El valor 5  es impar\n"
     ]
    }
   ],
   "source": [
    "if x % 2 == 0:\n",
    "    \n",
    "    print('El valor', x, ' es par')\n",
    "    \n",
    "else:\n",
    "    \n",
    "    print('El valor', x, ' es impar')\n",
    "    "
   ]
  },
  {
   "cell_type": "code",
   "execution_count": null,
   "id": "958160e6",
   "metadata": {},
   "outputs": [],
   "source": []
  }
 ],
 "metadata": {
  "kernelspec": {
   "display_name": "Python 3",
   "language": "python",
   "name": "python3"
  },
  "language_info": {
   "codemirror_mode": {
    "name": "ipython",
    "version": 3
   },
   "file_extension": ".py",
   "mimetype": "text/x-python",
   "name": "python",
   "nbconvert_exporter": "python",
   "pygments_lexer": "ipython3",
   "version": "3.8.8"
  }
 },
 "nbformat": 4,
 "nbformat_minor": 5
}
