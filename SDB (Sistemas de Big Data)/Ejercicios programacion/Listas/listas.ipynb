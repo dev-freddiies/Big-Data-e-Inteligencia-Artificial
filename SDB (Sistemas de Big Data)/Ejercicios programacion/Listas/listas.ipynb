{
 "cells": [
  {
   "cell_type": "code",
   "execution_count": 3,
   "id": "07870355",
   "metadata": {},
   "outputs": [
    {
     "name": "stdout",
     "output_type": "stream",
     "text": [
      "['PDIA', 'SDB', 'BDA', 'SDA', 'MDIA']\n"
     ]
    }
   ],
   "source": [
    "# 1.- Escribir un programa que almacene las asignaturas de un curso en una lista y la muestre por pantalla\n",
    "\n",
    "asignaturas = ['PDIA', 'SDB', 'BDA', 'SDA', 'MDIA']\n",
    "print(asignaturas)\n"
   ]
  },
  {
   "cell_type": "code",
   "execution_count": 16,
   "id": "cff9bd9d",
   "metadata": {},
   "outputs": [
    {
     "name": "stdout",
     "output_type": "stream",
     "text": [
      "Yo estudio:  PDIA\n",
      "Yo estudio:  SDB\n",
      "Yo estudio:  BDA\n",
      "Yo estudio:  SDA\n",
      "Yo estudio:  MDIA\n"
     ]
    }
   ],
   "source": [
    "# 2.- Escribir un programa que almacene las asignaturas de un curso y la muestre por pantalla un mensaje (...)\n",
    "    \n",
    "asignaturas = ['PDIA', 'SDB', 'BDA', 'SDA', 'MDIA']\n",
    "\n",
    "for i in range(len(asignaturas)):\n",
    "    print('Yo estudio: ', asignaturas[i])\n",
    "    "
   ]
  },
  {
   "cell_type": "code",
   "execution_count": 87,
   "id": "e705f0c1",
   "metadata": {},
   "outputs": [
    {
     "name": "stdout",
     "output_type": "stream",
     "text": [
      "Introduce la nota que has sacado en:  PDIA\n",
      "5\n",
      "Has sacado:  5  en:  PDIA\n",
      "Introduce la nota que has sacado en:  SDB\n",
      "6\n",
      "Has sacado:  6  en:  SDB\n",
      "Introduce la nota que has sacado en:  BDA\n",
      "4\n",
      "Has sacado:  4  en:  BDA\n",
      "Introduce la nota que has sacado en:  SDA\n",
      "3\n",
      "Has sacado:  3  en:  SDA\n",
      "Introduce la nota que has sacado en:  MDIA\n",
      "4\n",
      "Has sacado:  4  en:  MDIA\n"
     ]
    }
   ],
   "source": [
    "# 3.- Escribir un programa que almacene las asignaturas de un curso y pregunte al usuario la nota que ha sacado en cada asignatura, y despues muestre por pantalla (...)\n",
    "\n",
    "asignaturas = ['PDIA', 'SDB', 'BDA', 'SDA', 'MDIA']\n",
    "\n",
    "for i in range(len(asignaturas)):\n",
    "    \n",
    "    print('Introduce la nota que has sacado en: ', asignaturas[i])\n",
    "    nota=int(input(''))\n",
    "    print('Has sacado: ', nota, ' en: ', asignaturas[i])\n",
    "    "
   ]
  },
  {
   "cell_type": "code",
   "execution_count": null,
   "id": "8fe0343c",
   "metadata": {},
   "outputs": [],
   "source": [
    "##### 4.- Numeros de la loteria\n",
    "\n",
    "dimension=int(input('Introduce cuantos numeros tiene tu boleto de loteria, por favor: '))\n",
    "\n",
    "loteria = [dimension]\n",
    "\n",
    "for i in range(dimension):\n",
    "    \n",
    "    print('Introduce el ', i, ' numero de la loteria: ')\n",
    "    loteria.append(int(input(\"Introduce un número ganador: \")))\n",
    "\n",
    "loteria.sort()\n",
    "print('Los numeros ganadores son: ', loteria)\n"
   ]
  },
  {
   "cell_type": "code",
   "execution_count": 72,
   "id": "2119a559",
   "metadata": {},
   "outputs": [
    {
     "name": "stdout",
     "output_type": "stream",
     "text": [
      "10 , 9 , 8 , 7 , 6 , 5 , 4 , 3 , 2 , 1 , "
     ]
    }
   ],
   "source": [
    "# 5.- Escribir un programa que almacene en una lista los numeros del 1 al 10 y los muestre por pantalla en orden inverso separado por comas\n",
    "\n",
    "numeros = [1, 2, 3, 4, 5, 6, 7, 8, 9, 10]\n",
    "\n",
    "for i in range (1, 11):\n",
    "    \n",
    "    print(numeros[-i], end = \" , \")\n"
   ]
  },
  {
   "cell_type": "code",
   "execution_count": 86,
   "id": "87829259",
   "metadata": {},
   "outputs": [
    {
     "name": "stdout",
     "output_type": "stream",
     "text": [
      "Introduce un numero entero positivo para declarar la dimension del array, por favor: 4\n",
      "\n",
      "Introduce un numero entero positivo para rellenar el array, por favor: 343\n",
      "\n",
      "Se ha insertado el numero:  343  en la posicion:  0\n",
      "\n",
      "Introduce un numero entero positivo para rellenar el array, por favor: 22\n",
      "\n",
      "Se ha insertado el numero:  22  en la posicion:  1\n",
      "\n",
      "Introduce un numero entero positivo para rellenar el array, por favor: 33333\n",
      "\n",
      "Se ha insertado el numero:  33333  en la posicion:  2\n",
      "\n",
      "Introduce un numero entero positivo para rellenar el array, por favor: 2\n",
      "\n",
      "Se ha insertado el numero:  2  en la posicion:  3\n",
      "El array ordenado quedaria como:  [33333, 343, 22, 2]\n"
     ]
    }
   ],
   "source": [
    "## 5.- Variacion\n",
    "\n",
    "numeros = []\n",
    "bandera = False\n",
    "\n",
    "while bandera == False:\n",
    "\n",
    "    dimension=int(input('Introduce un numero entero positivo para declarar la dimension del array, por favor: '))\n",
    "        \n",
    "    if dimension < 0:\n",
    "    \n",
    "        print('Te he dicho que sea un numero entero positivo')\n",
    "        bandera = False\n",
    "        \n",
    "    else: \n",
    "        \n",
    "        for i in range(dimension):\n",
    "            \n",
    "            print('')\n",
    "            numeros.append(int(input('Introduce un numero entero positivo para rellenar el array, por favor: ')))\n",
    "            print('')\n",
    "            print('Se ha insertado el numero: ', numeros[i], ' en la posicion: ', i)\n",
    "            bandera = True\n",
    "        \n",
    "        numeros.sort()\n",
    "        numeros.reverse()\n",
    "        print('')\n",
    "        print('El array ordenado quedaria como: ', str(numeros))\n"
   ]
  },
  {
   "cell_type": "code",
   "execution_count": 214,
   "id": "36d9eb10",
   "metadata": {},
   "outputs": [
    {
     "name": "stdout",
     "output_type": "stream",
     "text": [
      "Introduce la nota que has sacado en:  SDB\n",
      "5\n"
     ]
    },
    {
     "ename": "KeyboardInterrupt",
     "evalue": "Interrupted by user",
     "output_type": "error",
     "traceback": [
      "\u001b[1;31m---------------------------------------------------------------------------\u001b[0m",
      "\u001b[1;31mKeyboardInterrupt\u001b[0m                         Traceback (most recent call last)",
      "\u001b[1;32m<ipython-input-214-2d0cc83297ff>\u001b[0m in \u001b[0;36m<module>\u001b[1;34m\u001b[0m\n\u001b[0;32m     10\u001b[0m \u001b[1;32mfor\u001b[0m \u001b[0mi\u001b[0m \u001b[1;32min\u001b[0m \u001b[0mrange\u001b[0m\u001b[1;33m(\u001b[0m\u001b[0mlen\u001b[0m\u001b[1;33m(\u001b[0m\u001b[0masignaturas\u001b[0m\u001b[1;33m)\u001b[0m\u001b[1;33m)\u001b[0m\u001b[1;33m:\u001b[0m\u001b[1;33m\u001b[0m\u001b[1;33m\u001b[0m\u001b[0m\n\u001b[0;32m     11\u001b[0m \u001b[1;33m\u001b[0m\u001b[0m\n\u001b[1;32m---> 12\u001b[1;33m     \u001b[0mnotas\u001b[0m\u001b[1;33m.\u001b[0m\u001b[0mappend\u001b[0m\u001b[1;33m(\u001b[0m\u001b[0mfloat\u001b[0m\u001b[1;33m(\u001b[0m\u001b[0minput\u001b[0m\u001b[1;33m(\u001b[0m\u001b[1;33m)\u001b[0m\u001b[1;33m)\u001b[0m\u001b[1;33m)\u001b[0m\u001b[1;33m\u001b[0m\u001b[1;33m\u001b[0m\u001b[0m\n\u001b[0m\u001b[0;32m     13\u001b[0m \u001b[1;33m\u001b[0m\u001b[0m\n\u001b[0;32m     14\u001b[0m     \u001b[1;32mfor\u001b[0m \u001b[0mi\u001b[0m \u001b[1;32min\u001b[0m \u001b[0mrange\u001b[0m\u001b[1;33m(\u001b[0m\u001b[0mlen\u001b[0m\u001b[1;33m(\u001b[0m\u001b[0mnotas\u001b[0m\u001b[1;33m)\u001b[0m\u001b[1;33m)\u001b[0m\u001b[1;33m:\u001b[0m\u001b[1;33m\u001b[0m\u001b[1;33m\u001b[0m\u001b[0m\n",
      "\u001b[1;32m~\\anaconda3\\lib\\site-packages\\ipykernel\\kernelbase.py\u001b[0m in \u001b[0;36mraw_input\u001b[1;34m(self, prompt)\u001b[0m\n\u001b[0;32m    858\u001b[0m                 \u001b[1;34m\"raw_input was called, but this frontend does not support input requests.\"\u001b[0m\u001b[1;33m\u001b[0m\u001b[1;33m\u001b[0m\u001b[0m\n\u001b[0;32m    859\u001b[0m             )\n\u001b[1;32m--> 860\u001b[1;33m         return self._input_request(str(prompt),\n\u001b[0m\u001b[0;32m    861\u001b[0m             \u001b[0mself\u001b[0m\u001b[1;33m.\u001b[0m\u001b[0m_parent_ident\u001b[0m\u001b[1;33m,\u001b[0m\u001b[1;33m\u001b[0m\u001b[1;33m\u001b[0m\u001b[0m\n\u001b[0;32m    862\u001b[0m             \u001b[0mself\u001b[0m\u001b[1;33m.\u001b[0m\u001b[0m_parent_header\u001b[0m\u001b[1;33m,\u001b[0m\u001b[1;33m\u001b[0m\u001b[1;33m\u001b[0m\u001b[0m\n",
      "\u001b[1;32m~\\anaconda3\\lib\\site-packages\\ipykernel\\kernelbase.py\u001b[0m in \u001b[0;36m_input_request\u001b[1;34m(self, prompt, ident, parent, password)\u001b[0m\n\u001b[0;32m    902\u001b[0m             \u001b[1;32mexcept\u001b[0m \u001b[0mKeyboardInterrupt\u001b[0m\u001b[1;33m:\u001b[0m\u001b[1;33m\u001b[0m\u001b[1;33m\u001b[0m\u001b[0m\n\u001b[0;32m    903\u001b[0m                 \u001b[1;31m# re-raise KeyboardInterrupt, to truncate traceback\u001b[0m\u001b[1;33m\u001b[0m\u001b[1;33m\u001b[0m\u001b[1;33m\u001b[0m\u001b[0m\n\u001b[1;32m--> 904\u001b[1;33m                 \u001b[1;32mraise\u001b[0m \u001b[0mKeyboardInterrupt\u001b[0m\u001b[1;33m(\u001b[0m\u001b[1;34m\"Interrupted by user\"\u001b[0m\u001b[1;33m)\u001b[0m \u001b[1;32mfrom\u001b[0m \u001b[1;32mNone\u001b[0m\u001b[1;33m\u001b[0m\u001b[1;33m\u001b[0m\u001b[0m\n\u001b[0m\u001b[0;32m    905\u001b[0m             \u001b[1;32mexcept\u001b[0m \u001b[0mException\u001b[0m \u001b[1;32mas\u001b[0m \u001b[0me\u001b[0m\u001b[1;33m:\u001b[0m\u001b[1;33m\u001b[0m\u001b[1;33m\u001b[0m\u001b[0m\n\u001b[0;32m    906\u001b[0m                 \u001b[0mself\u001b[0m\u001b[1;33m.\u001b[0m\u001b[0mlog\u001b[0m\u001b[1;33m.\u001b[0m\u001b[0mwarning\u001b[0m\u001b[1;33m(\u001b[0m\u001b[1;34m\"Invalid Message:\"\u001b[0m\u001b[1;33m,\u001b[0m \u001b[0mexc_info\u001b[0m\u001b[1;33m=\u001b[0m\u001b[1;32mTrue\u001b[0m\u001b[1;33m)\u001b[0m\u001b[1;33m\u001b[0m\u001b[1;33m\u001b[0m\u001b[0m\n",
      "\u001b[1;31mKeyboardInterrupt\u001b[0m: Interrupted by user"
     ]
    }
   ],
   "source": [
    "# 6.- Escribir un programa que almacene las asignaturas de un curso en una lista y pregunte al usuario la nota que ha sacado en cada asignatura y elimine de la lista las asignaturas aprobadas. Al final el programa debe mostrar por pantalla las asignaturas que el usuario tiene que repetir\n",
    "\n",
    "asignaturas = ['PDIA', 'SDB', 'BDA', 'SDA', 'MDIA']\n",
    "notas = []\n",
    "asignaturasAprobadas = []\n",
    "\n",
    "for i in range(len(asignaturas)):\n",
    "    \n",
    "    print(' ')\n",
    "    print('Introduce la nota que has sacado en: ', asignaturas[i])\n",
    "    notas.append(float(input()))\n",
    "    \n",
    "    for i in range(len(notas)):\n",
    "                    \n",
    "        if notas[i] >= 5:\n",
    "            \n",
    "            asignaturasAprobadas = notas[i]\n",
    "            notas.remove(asignaturasAprobadas)\n",
    "            \n",
    "        else:    \n",
    "\n",
    "            print(' ')\n",
    "            print('Has suspendido: ', asignaturas[i], ' con un: ', notas[i])\n",
    "    \n",
    "    "
   ]
  },
  {
   "cell_type": "code",
   "execution_count": 233,
   "id": "a9889b99",
   "metadata": {},
   "outputs": [
    {
     "name": "stdout",
     "output_type": "stream",
     "text": [
      " \n",
      "['A', 'B', 'D', 'E', 'G', 'H', 'J', 'K', 'M', 'N', 'O', 'P', 'R', 'S', 'U', 'V', 'X', 'Y']\n"
     ]
    }
   ],
   "source": [
    "# 7.- Escribir un programa que almacene el abecedario en una lista, elimine de la lista las letras que ocupen posiciones múltiplos de 3, y muestre por pantalla la lista resultante.\n",
    "\n",
    "letras = ['A', 'B', 'C', 'D', 'E', 'F', 'G', 'H', 'I', 'J', 'K', 'L', 'M', 'N', 'Ñ', 'O', 'P', 'Q', 'R', 'S', 'T', 'U', 'V', 'W', 'X', 'Y', 'Z']\n",
    "letrasMultiplos = []\n",
    "\n",
    "for i in range(len(letras), 1, -1): # No entiendo que es el 1 y el -1\n",
    "        \n",
    "    if i % 3 == 0:\n",
    "            \n",
    "        letras.pop(i-1)  \n",
    "        \n",
    "print(' ')\n",
    "print(letras)\n",
    "    \n",
    "    \n"
   ]
  },
  {
   "cell_type": "code",
   "execution_count": 245,
   "id": "eca0e5df",
   "metadata": {},
   "outputs": [
    {
     "name": "stdout",
     "output_type": "stream",
     "text": [
      "Introduce una palabra, por favor: pene\n",
      "2\n"
     ]
    }
   ],
   "source": [
    "# 8.- Escribir un programa que pida al usuario una palabra y muestre por pantalla el numero de veces que contiene cada vocal\n",
    "\n",
    "palabra=str(input('Introduce una palabra, por favor: '))\n",
    "array = list(palabra)\n",
    "contador = 0\n",
    "\n",
    "for i in range(len(palabra)): \n",
    "    \n",
    "    if (palabra[i] == 'a' or palabra[i] == 'e' or palabra[i] == 'i' or palabra[i] == 'o' or palabra[i] == 'u'):\n",
    "        \n",
    "        contador += 1\n",
    "        \n",
    "print(contador)\n",
    "\n"
   ]
  },
  {
   "cell_type": "code",
   "execution_count": 273,
   "id": "4cf5f889",
   "metadata": {},
   "outputs": [
    {
     "name": "stdout",
     "output_type": "stream",
     "text": [
      " \n",
      "El numero menor es:  8\n",
      " \n",
      "El numero mayor es:  8\n"
     ]
    }
   ],
   "source": [
    "# 9.- Escribir un programa que almacene en una lista los siguientes precios: 50, 75, 46, 22, 80, 65, 8 y muestre por pantalla el menor de los precios\n",
    "\n",
    "numeros = [50, 75, 46, 22, 80, 65, 8]\n",
    "\n",
    "for i in range(len(numeros)): \n",
    "        \n",
    "    if i < i-1:\n",
    "            \n",
    "        numeroMenor = numeros[i] \n",
    "        \n",
    "    if i > i-1:\n",
    "        \n",
    "        numeroMayor = numeros[i] \n",
    "\n",
    "\n",
    "print(' ')\n",
    "print('El numero menor es: ', numeroMenor)\n",
    "print(' ')\n",
    "print('El numero mayor es: ', numeroMayor)"
   ]
  },
  {
   "cell_type": "markdown",
   "id": "0eafcca2",
   "metadata": {},
   "source": [
    "### "
   ]
  },
  {
   "cell_type": "code",
   "execution_count": 275,
   "id": "ae8d4e89",
   "metadata": {},
   "outputs": [
    {
     "ename": "NameError",
     "evalue": "name 'vector' is not defined",
     "output_type": "error",
     "traceback": [
      "\u001b[1;31m---------------------------------------------------------------------------\u001b[0m",
      "\u001b[1;31mNameError\u001b[0m                                 Traceback (most recent call last)",
      "\u001b[1;32m<ipython-input-275-304c73f6561d>\u001b[0m in \u001b[0;36m<module>\u001b[1;34m\u001b[0m\n\u001b[0;32m      7\u001b[0m \u001b[1;32mfor\u001b[0m \u001b[0mi\u001b[0m \u001b[1;32min\u001b[0m \u001b[0mrange\u001b[0m\u001b[1;33m(\u001b[0m\u001b[0mlen\u001b[0m\u001b[1;33m(\u001b[0m\u001b[0mvector1\u001b[0m\u001b[1;33m)\u001b[0m\u001b[1;33m)\u001b[0m\u001b[1;33m:\u001b[0m\u001b[1;33m\u001b[0m\u001b[1;33m\u001b[0m\u001b[0m\n\u001b[0;32m      8\u001b[0m \u001b[1;33m\u001b[0m\u001b[0m\n\u001b[1;32m----> 9\u001b[1;33m         \u001b[0mproductoEscalar\u001b[0m \u001b[1;33m+=\u001b[0m \u001b[0mvector\u001b[0m\u001b[1;33m[\u001b[0m\u001b[1;36m1\u001b[0m\u001b[1;33m]\u001b[0m \u001b[1;33m*\u001b[0m \u001b[0mvector2\u001b[0m\u001b[1;33m[\u001b[0m\u001b[0mi\u001b[0m\u001b[1;33m]\u001b[0m\u001b[1;33m\u001b[0m\u001b[1;33m\u001b[0m\u001b[0m\n\u001b[0m\u001b[0;32m     10\u001b[0m \u001b[1;33m\u001b[0m\u001b[0m\n\u001b[0;32m     11\u001b[0m \u001b[0mprint\u001b[0m\u001b[1;33m(\u001b[0m\u001b[0mproductoEscalar\u001b[0m\u001b[1;33m)\u001b[0m\u001b[1;33m\u001b[0m\u001b[1;33m\u001b[0m\u001b[0m\n",
      "\u001b[1;31mNameError\u001b[0m: name 'vector' is not defined"
     ]
    }
   ],
   "source": [
    "# 10.- \n",
    "\n",
    "vector1 = (1,2,3)\n",
    "vector2 = (-1,0,2)\n",
    "productoEscalar = 0\n",
    "\n",
    "for i in range(len(vector1)):\n",
    "        \n",
    "        productoEscalar += vector[1] * vector2[i]\n",
    "        \n",
    "print(productoEscalar)"
   ]
  },
  {
   "cell_type": "code",
   "execution_count": null,
   "id": "ad969473",
   "metadata": {},
   "outputs": [],
   "source": []
  }
 ],
 "metadata": {
  "kernelspec": {
   "display_name": "Python 3",
   "language": "python",
   "name": "python3"
  },
  "language_info": {
   "codemirror_mode": {
    "name": "ipython",
    "version": 3
   },
   "file_extension": ".py",
   "mimetype": "text/x-python",
   "name": "python",
   "nbconvert_exporter": "python",
   "pygments_lexer": "ipython3",
   "version": "3.8.8"
  }
 },
 "nbformat": 4,
 "nbformat_minor": 5
}
