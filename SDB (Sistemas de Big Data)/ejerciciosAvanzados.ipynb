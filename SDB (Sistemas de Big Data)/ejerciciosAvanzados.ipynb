{
 "cells": [
  {
   "cell_type": "code",
   "execution_count": 9,
   "id": "df15f1ce",
   "metadata": {},
   "outputs": [],
   "source": [
    "#Ejercicio 1\n",
    "a = \"Hola\"\n",
    "b = \"mundo\"\n",
    "c = 87\n",
    "d = 2.33145"
   ]
  },
  {
   "cell_type": "code",
   "execution_count": 10,
   "id": "8f66de8d",
   "metadata": {},
   "outputs": [
    {
     "name": "stdout",
     "output_type": "stream",
     "text": [
      "Cadena 1:  Hola  mundo\n"
     ]
    }
   ],
   "source": [
    "print('Cadena 1.- ', a, '', b)"
   ]
  },
  {
   "cell_type": "code",
   "execution_count": 11,
   "id": "028afaec",
   "metadata": {},
   "outputs": [
    {
     "name": "stdout",
     "output_type": "stream",
     "text": [
      "Cadena 2:  Hola - mundo\n"
     ]
    }
   ],
   "source": [
    "print('Cadena 2.- ', a, '-', b)"
   ]
  },
  {
   "cell_type": "code",
   "execution_count": 13,
   "id": "42d17494",
   "metadata": {},
   "outputs": [
    {
     "name": "stdout",
     "output_type": "stream",
     "text": [
      "Cadena 3:  El resultado es:  87\n"
     ]
    }
   ],
   "source": [
    "print('Cadena 3.- ','El resultado es: ', c)"
   ]
  },
  {
   "cell_type": "code",
   "execution_count": 16,
   "id": "56689032",
   "metadata": {},
   "outputs": [
    {
     "name": "stdout",
     "output_type": "stream",
     "text": [
      "Cadena 4.-  El resultado es:  87 min, o:  5220 seg\n"
     ]
    }
   ],
   "source": [
    "print('Cadena 4.- ','El resultado es: ', c, 'min, o: ', c*60, 'seg')"
   ]
  },
  {
   "cell_type": "code",
   "execution_count": 17,
   "id": "21afec7b",
   "metadata": {},
   "outputs": [
    {
     "name": "stdout",
     "output_type": "stream",
     "text": [
      "Cadena 5.-  La temperatura es:  2.33145\n"
     ]
    }
   ],
   "source": [
    "print('Cadena 5.- ','La temperatura es: ', d)"
   ]
  },
  {
   "cell_type": "code",
   "execution_count": 28,
   "id": "5db4d44a",
   "metadata": {},
   "outputs": [
    {
     "name": "stdout",
     "output_type": "stream",
     "text": [
      "Introduce un numero por favor6\n",
      "Numero - 2:  6 - 2:  4\n",
      "Numero + 2:  6 + 2:  8\n",
      "Numero * 2:  6 * 2:  12\n",
      "Numero / 2:  6 / 2:  3.0\n",
      "Numero ^ 2:  6 ^ 2:  36\n"
     ]
    }
   ],
   "source": [
    "#Ejercico 3\n",
    "num=int(input('Introduce un numero por favor'))\n",
    "\n",
    "print('Numero - 2: ', num, '- 2: ', num-2)\n",
    "print('Numero + 2: ', num, '+ 2: ', num+2)\n",
    "print('Numero * 2: ', num, '* 2: ', num*2)\n",
    "print('Numero / 2: ', num, '/ 2: ', num/2)\n",
    "print('Numero ^ 2: ', num, '^ 2: ', num**2)\n"
   ]
  },
  {
   "cell_type": "code",
   "execution_count": 33,
   "id": "4d5cbc30",
   "metadata": {},
   "outputs": [
    {
     "name": "stdout",
     "output_type": "stream",
     "text": [
      "Introduce un primer numero por favor, que será la base de un rectangulo: 2\n",
      "Introduce un segundo numero por favor, que será la altura de un rectangulo: 2\n",
      "Introduce un tercer numero por favor, que será el radio de un circulo: 2\n",
      "Area de un rectangulo:  4\n",
      "Perimetro de un rectangulo:  8\n",
      "Area de un circulo:  12.56\n",
      "Perimetro de un circulo:  12.56\n"
     ]
    }
   ],
   "source": [
    "#Ejercicio 5\n",
    "base=int(input('Introduce un primer numero por favor, que será la base de un rectangulo: '))\n",
    "altura=int(input('Introduce un segundo numero por favor, que será la altura de un rectangulo: '))\n",
    "radio=int(input('Introduce un tercer numero por favor, que será el radio de un circulo: '))\n",
    "\n",
    "print('Area de un rectangulo: ', base*altura)\n",
    "print('Perimetro de un rectangulo: ', 2*base+2*altura)\n",
    "\n",
    "print('Area de un circulo: ', 3.14*radio**2)\n",
    "print('Perimetro de un circulo: ', 2*3.14*radio)\n",
    "\n",
    "\n"
   ]
  },
  {
   "cell_type": "code",
   "execution_count": 37,
   "id": "5b75fd14",
   "metadata": {},
   "outputs": [
    {
     "name": "stdout",
     "output_type": "stream",
     "text": [
      "Introduce un numero con muchos decimales, y se redondeará: 234.12312312312\n",
      "A tres decimales:  234.123\n",
      "A tres decimales:  234\n"
     ]
    }
   ],
   "source": [
    "#Ejercicio 6\n",
    "num=float(input('Introduce un numero con muchos decimales, y se redondeará: '))\n",
    "print('A tres decimales: ', round(num,3))\n",
    "print('A tres decimales: ', int(num))"
   ]
  },
  {
   "cell_type": "code",
   "execution_count": 71,
   "id": "6528e3c3",
   "metadata": {},
   "outputs": [
    {
     "name": "stdout",
     "output_type": "stream",
     "text": [
      "3\n"
     ]
    }
   ],
   "source": [
    "#Ejercicio 7\n",
    "num=0.3\n",
    "resultado=0.0\n",
    "for i in range(10):\n",
    "    resultado=resultado+num\n",
    "print(round(resultado))"
   ]
  },
  {
   "cell_type": "code",
   "execution_count": null,
   "id": "3b798294",
   "metadata": {},
   "outputs": [],
   "source": []
  },
  {
   "cell_type": "code",
   "execution_count": null,
   "id": "8df39cb8",
   "metadata": {},
   "outputs": [],
   "source": []
  }
 ],
 "metadata": {
  "kernelspec": {
   "display_name": "Python 3",
   "language": "python",
   "name": "python3"
  },
  "language_info": {
   "codemirror_mode": {
    "name": "ipython",
    "version": 3
   },
   "file_extension": ".py",
   "mimetype": "text/x-python",
   "name": "python",
   "nbconvert_exporter": "python",
   "pygments_lexer": "ipython3",
   "version": "3.8.8"
  }
 },
 "nbformat": 4,
 "nbformat_minor": 5
}
